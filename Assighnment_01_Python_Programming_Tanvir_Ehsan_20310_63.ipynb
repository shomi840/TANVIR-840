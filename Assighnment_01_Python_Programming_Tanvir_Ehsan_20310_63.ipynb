{
  "nbformat": 4,
  "nbformat_minor": 0,
  "metadata": {
    "colab": {
      "provenance": [],
      "authorship_tag": "ABX9TyO80np+wdWFzwsPFhNxSL7a",
      "include_colab_link": true
    },
    "kernelspec": {
      "name": "python3",
      "display_name": "Python 3"
    },
    "language_info": {
      "name": "python"
    }
  },
  "cells": [
    {
      "cell_type": "markdown",
      "metadata": {
        "id": "view-in-github",
        "colab_type": "text"
      },
      "source": [
        "<a href=\"https://colab.research.google.com/github/shomi840/Python-Projects-Tanvir-Ehsan/blob/main/Assighnment_01_Python_Programming_Tanvir_Ehsan_20310_63.ipynb\" target=\"_parent\"><img src=\"https://colab.research.google.com/assets/colab-badge.svg\" alt=\"Open In Colab\"/></a>"
      ]
    },
    {
      "cell_type": "markdown",
      "source": [
        "Assighnment_01\n",
        "**Python:variables**\n",
        "a.use input()function to accept numbers from user as a value of a variablex.\n",
        "b.Check the data type using type(function)\n",
        "c.Also convert the data type to integer and assign to the variable y\n",
        "d.Convert the data type into float and assign to the variable z\n",
        "e.display the data Type of x,y,z **and** z\n",
        "\n",
        "\n",
        "\n"
      ],
      "metadata": {
        "id": "VDqFFosF0LOT"
      }
    },
    {
      "cell_type": "code",
      "source": [
        "x = input()\n",
        "print()"
      ],
      "metadata": {
        "colab": {
          "base_uri": "https://localhost:8080/"
        },
        "id": "ugm3hFcG0Pm8",
        "outputId": "04e18be4-1110-458b-b2f8-52bfc65d7157"
      },
      "execution_count": 1,
      "outputs": [
        {
          "output_type": "stream",
          "name": "stdout",
          "text": [
            "100\n",
            "\n"
          ]
        }
      ]
    },
    {
      "cell_type": "code",
      "source": [
        "print(type(x))"
      ],
      "metadata": {
        "colab": {
          "base_uri": "https://localhost:8080/"
        },
        "id": "NbcYTod31ERM",
        "outputId": "794251b2-cc03-403e-822c-dd99f111cd7a"
      },
      "execution_count": 2,
      "outputs": [
        {
          "output_type": "stream",
          "name": "stdout",
          "text": [
            "<class 'str'>\n"
          ]
        }
      ]
    },
    {
      "cell_type": "code",
      "source": [
        "y = int(x)\n",
        "print(\"Data type of x:\",type(x))\n",
        "print(\"Data type of y:\",type(y))"
      ],
      "metadata": {
        "colab": {
          "base_uri": "https://localhost:8080/"
        },
        "id": "usRXIsAt1I_g",
        "outputId": "e76a1eca-4f07-4fd4-de14-fb7bfaf9a84b"
      },
      "execution_count": 3,
      "outputs": [
        {
          "output_type": "stream",
          "name": "stdout",
          "text": [
            "Data type of x: <class 'str'>\n",
            "Data type of y: <class 'int'>\n"
          ]
        }
      ]
    },
    {
      "cell_type": "code",
      "source": [
        "z = float(x)\n",
        "print(z)"
      ],
      "metadata": {
        "colab": {
          "base_uri": "https://localhost:8080/"
        },
        "id": "ogCcN7ga1sVl",
        "outputId": "b57da4e2-942e-4698-ce5b-71e68a913b14"
      },
      "execution_count": 4,
      "outputs": [
        {
          "output_type": "stream",
          "name": "stdout",
          "text": [
            "100.0\n"
          ]
        }
      ]
    },
    {
      "cell_type": "code",
      "source": [
        "print(\"Data type of x:\",type(x))\n",
        "print(\"Data type of y :\",type(y))\n",
        "print(\"Data type of z:\",type(z))"
      ],
      "metadata": {
        "colab": {
          "base_uri": "https://localhost:8080/"
        },
        "id": "-9DyUJ1v12bB",
        "outputId": "47ac1450-9eb1-45e7-c8b4-b73841359e37"
      },
      "execution_count": 5,
      "outputs": [
        {
          "output_type": "stream",
          "name": "stdout",
          "text": [
            "Data type of x: <class 'str'>\n",
            "Data type of y : <class 'int'>\n",
            "Data type of z: <class 'float'>\n"
          ]
        }
      ]
    },
    {
      "cell_type": "markdown",
      "source": [
        "**Strings in Python**\n",
        "a. Write a Python program to calculate the length of a string.\n",
        "b. Write a Python program to count the number  of characters in a string.\n",
        "c.Write a python program to remove the **k**th index character from a string.\n",
        "d. Write a python program to remove the characters which have odd index values of a given string.\n",
        "e.Write a python scripts that take input from the user and displays that input back in upper and lower cases.\n",
        "f.Write a python program to sort a string.\n",
        "g. Write a python program to reverse a string.\n",
        "h. Write a python program to convert a given string in to List."
      ],
      "metadata": {
        "id": "X2iG012q2D8Q"
      }
    },
    {
      "cell_type": "markdown",
      "source": [],
      "metadata": {
        "id": "OYHnZkZ4S4-N"
      }
    },
    {
      "cell_type": "code",
      "source": [
        "s = 'Tanvir Ehsan'"
      ],
      "metadata": {
        "id": "dmiYhCL32fcE"
      },
      "execution_count": 98,
      "outputs": []
    },
    {
      "cell_type": "code",
      "source": [
        "len(s)"
      ],
      "metadata": {
        "colab": {
          "base_uri": "https://localhost:8080/"
        },
        "id": "uw3UJQ4S2-1w",
        "outputId": "b98b96b9-7a57-49bb-8005-ceb732685b46"
      },
      "execution_count": 99,
      "outputs": [
        {
          "output_type": "execute_result",
          "data": {
            "text/plain": [
              "12"
            ]
          },
          "metadata": {},
          "execution_count": 99
        }
      ]
    },
    {
      "cell_type": "code",
      "source": [
        "my_string = \"Hello, Tanvir!\"\n",
        "count = 0\n",
        "\n",
        "for char in my_string:\n",
        "    if char != \" \":\n",
        "        count += 1\n",
        "\n",
        "print(\"The number of characters in the string is:\", count)"
      ],
      "metadata": {
        "colab": {
          "base_uri": "https://localhost:8080/"
        },
        "id": "FIbygMEk3aUq",
        "outputId": "c309339d-88dc-4499-841e-1e52c22571b1"
      },
      "execution_count": 100,
      "outputs": [
        {
          "output_type": "stream",
          "name": "stdout",
          "text": [
            "The number of characters in the string is: 13\n"
          ]
        }
      ]
    },
    {
      "cell_type": "code",
      "source": [
        "my_string = \"Hello, Ehsan!\"\n",
        "k = 7\n",
        "\n",
        "new_string = my_string[:k] + my_string[k+1:]\n",
        "\n",
        "print(\"Original string:\", my_string)\n",
        "print(\"New string:\", new_string)"
      ],
      "metadata": {
        "colab": {
          "base_uri": "https://localhost:8080/"
        },
        "id": "bE6YXHwp3o7e",
        "outputId": "c5f80537-ac10-4ceb-97e8-85ad49e2c47e"
      },
      "execution_count": 101,
      "outputs": [
        {
          "output_type": "stream",
          "name": "stdout",
          "text": [
            "Original string: Hello, Ehsan!\n",
            "New string: Hello, hsan!\n"
          ]
        }
      ]
    },
    {
      "cell_type": "code",
      "source": [
        "def remove_odd_characters(string):\n",
        "    new_string = \"\"\n",
        "    for index, char in enumerate(string):\n",
        "        if index % 2 == 0:\n",
        "            new_string += char\n",
        "    return new_string\n",
        "\n",
        "# Test the function\n",
        "input_string = input(\"Tanvir Ehsan: \")\n",
        "result = remove_odd_characters(input_string)\n",
        "print(\"String with odd-indexed characters removed:\", result)"
      ],
      "metadata": {
        "colab": {
          "base_uri": "https://localhost:8080/"
        },
        "id": "iSlFggqG5N0E",
        "outputId": "24a46ee1-ca66-4bdc-a9d1-9ac7bad5a1cb"
      },
      "execution_count": 12,
      "outputs": [
        {
          "output_type": "stream",
          "name": "stdout",
          "text": [
            "Tanvir Ehsan: 5\n",
            "String with odd-indexed characters removed: 5\n"
          ]
        }
      ]
    },
    {
      "cell_type": "code",
      "source": [
        "s1 = \"Bangladesh\""
      ],
      "metadata": {
        "id": "7qhMt0W95ZE0"
      },
      "execution_count": 14,
      "outputs": []
    },
    {
      "cell_type": "code",
      "source": [
        "s_up = s1.upper()"
      ],
      "metadata": {
        "id": "MhknYVHF56mE"
      },
      "execution_count": 15,
      "outputs": []
    },
    {
      "cell_type": "code",
      "source": [
        "s_up"
      ],
      "metadata": {
        "colab": {
          "base_uri": "https://localhost:8080/",
          "height": 36
        },
        "id": "fte2iPuC6Ee4",
        "outputId": "655e1152-326e-4392-b155-f7568cf03473"
      },
      "execution_count": 16,
      "outputs": [
        {
          "output_type": "execute_result",
          "data": {
            "text/plain": [
              "'BANGLADESH'"
            ],
            "application/vnd.google.colaboratory.intrinsic+json": {
              "type": "string"
            }
          },
          "metadata": {},
          "execution_count": 16
        }
      ]
    },
    {
      "cell_type": "code",
      "source": [
        "s_lo = s1.lower()"
      ],
      "metadata": {
        "id": "2FnAm1Fy6Ov9"
      },
      "execution_count": 18,
      "outputs": []
    },
    {
      "cell_type": "code",
      "source": [
        "s_lo"
      ],
      "metadata": {
        "colab": {
          "base_uri": "https://localhost:8080/",
          "height": 36
        },
        "id": "SrzeyJu46hLK",
        "outputId": "c0a780eb-8bd7-43d5-e8a5-59c75b605669"
      },
      "execution_count": 19,
      "outputs": [
        {
          "output_type": "execute_result",
          "data": {
            "text/plain": [
              "'bangladesh'"
            ],
            "application/vnd.google.colaboratory.intrinsic+json": {
              "type": "string"
            }
          },
          "metadata": {},
          "execution_count": 19
        }
      ]
    },
    {
      "cell_type": "code",
      "source": [
        "my_string = \"Hello, World!\"\n",
        "\n",
        "sorted_string = \"\".join(sorted(my_string))\n",
        "\n",
        "print(\"Original string:\", my_string)\n",
        "print(\"Sorted string:\", sorted_string)"
      ],
      "metadata": {
        "colab": {
          "base_uri": "https://localhost:8080/"
        },
        "id": "4W2XA2Kh7IPI",
        "outputId": "7e52eb74-d451-4a83-ceeb-82590bdf15f1"
      },
      "execution_count": 20,
      "outputs": [
        {
          "output_type": "stream",
          "name": "stdout",
          "text": [
            "Original string: Hello, World!\n",
            "Sorted string:  !,HWdellloor\n"
          ]
        }
      ]
    },
    {
      "cell_type": "code",
      "source": [
        "my_string = \"Hello, World!\"\n",
        "\n",
        "reversed_string = my_string[::-1]\n",
        "\n",
        "print(\"Original string:\", my_string)\n",
        "print(\"Reversed string:\", reversed_string)"
      ],
      "metadata": {
        "colab": {
          "base_uri": "https://localhost:8080/"
        },
        "id": "3WvHBl4Z7MK1",
        "outputId": "af3aa338-f4b8-4448-c51f-a96cea073d0f"
      },
      "execution_count": 22,
      "outputs": [
        {
          "output_type": "stream",
          "name": "stdout",
          "text": [
            "Original string: Hello, World!\n",
            "Reversed string: !dlroW ,olleH\n"
          ]
        }
      ]
    },
    {
      "cell_type": "code",
      "source": [
        "my_string = \"Hello, World!\"\n",
        "my_list = list(my_string)\n",
        "\n",
        "print(\"Original string:\", my_string)\n",
        "print(\"List version:\", my_list)"
      ],
      "metadata": {
        "colab": {
          "base_uri": "https://localhost:8080/"
        },
        "id": "UhYMIsaq7wvq",
        "outputId": "7342a198-b5b6-4645-c7c8-cd60c647f39d"
      },
      "execution_count": 23,
      "outputs": [
        {
          "output_type": "stream",
          "name": "stdout",
          "text": [
            "Original string: Hello, World!\n",
            "List version: ['H', 'e', 'l', 'l', 'o', ',', ' ', 'W', 'o', 'r', 'l', 'd', '!']\n"
          ]
        }
      ]
    },
    {
      "cell_type": "markdown",
      "source": [
        "**Python:Lists**\n",
        "a.Write a python program to sum(or product) all item in a list.\n",
        "b. Write a pythonprogram to get the largest/smallest number in a list.\n",
        "c. Write a python program to print the numbers of a specified list after removing even numbers from it.\n",
        "d.Write a python program to select the odd number of a list.\n",
        "e.Write a python program to convert a list of characters into a string.\n",
        "f. Write a python program to find the index of an item in a specified list.\n",
        "g.Write a python program to add a list to the second list.\n",
        "h.Write a python program to get unique values from a list and to count unique values inside a list.Also get the frequency of the elements in the list.\n",
        "i.Write a python program to Extract elements with Frequency greater than K\n",
        "j.Write a python program to reverse All Strings in String List\n"
      ],
      "metadata": {
        "id": "Nn4aYGwj8GY4"
      }
    },
    {
      "cell_type": "code",
      "source": [
        "my_list = [1, 2, 3, 4, 5, 6]\n",
        "\n",
        "# Sum all the items in the list\n",
        "sum_result = sum(my_list)\n",
        "\n",
        "# Calculate the product of all the items in the list\n",
        "product_result = 1\n",
        "for item in my_list:\n",
        "    product_result *= item\n",
        "\n",
        "print(\"Original list:\", my_list)\n",
        "print(\"Sum of list items:\", sum_result)\n",
        "print(\"Product of list items:\", product_result)"
      ],
      "metadata": {
        "colab": {
          "base_uri": "https://localhost:8080/"
        },
        "id": "4naoQtJq8IKN",
        "outputId": "179f3563-f005-4eb7-f322-218d12438fcf"
      },
      "execution_count": 106,
      "outputs": [
        {
          "output_type": "stream",
          "name": "stdout",
          "text": [
            "Original list: [1, 2, 3, 4, 5, 6]\n",
            "Sum of list items: 21\n",
            "Product of list items: 720\n"
          ]
        }
      ]
    },
    {
      "cell_type": "code",
      "source": [
        "my_list = [1, 2, 3, 4, 5, 6, 7, 8,]\n",
        "\n",
        "# Get the largest number in the list\n",
        "largest_number = max(my_list)\n",
        "\n",
        "# Get the smallest number in the list\n",
        "smallest_number = min(my_list)\n",
        "\n",
        "print(\"Original list:\", my_list)\n",
        "print(\"Largest number:\", largest_number)\n",
        "print(\"Smallest number:\", smallest_number)"
      ],
      "metadata": {
        "colab": {
          "base_uri": "https://localhost:8080/"
        },
        "id": "Vxx8IUMz-lo_",
        "outputId": "afc4232a-4d57-4a7e-b879-b57f4cebb0fe"
      },
      "execution_count": 103,
      "outputs": [
        {
          "output_type": "stream",
          "name": "stdout",
          "text": [
            "Original list: [1, 2, 3, 4, 5, 6, 7, 8]\n",
            "Largest number: 8\n",
            "Smallest number: 1\n"
          ]
        }
      ]
    },
    {
      "cell_type": "code",
      "source": [
        "my_list = [1, 2, 3, 4, 5, 6, 7, 8, 9, 10, 11, 12, 13, 14]\n",
        "\n",
        "# Remove even numbers from the list\n",
        "new_list = [num for num in my_list if num % 2 != 0]\n",
        "\n",
        "# Print the new list without even numbers\n",
        "print(\"Original list:\", my_list)\n",
        "print(\"List without even numbers:\", new_list)"
      ],
      "metadata": {
        "colab": {
          "base_uri": "https://localhost:8080/"
        },
        "id": "e9ty95sg-3Fw",
        "outputId": "e02edbb8-6cff-4c39-9eb8-1f4df4804d26"
      },
      "execution_count": 105,
      "outputs": [
        {
          "output_type": "stream",
          "name": "stdout",
          "text": [
            "Original list: [1, 2, 3, 4, 5, 6, 7, 8, 9, 10, 11, 12, 13, 14]\n",
            "List without even numbers: [1, 3, 5, 7, 9, 11, 13]\n"
          ]
        }
      ]
    },
    {
      "cell_type": "code",
      "source": [
        "my_list = [1, 2, 3, 4, 5, 6, 7, 8, 9, 10]\n",
        "\n",
        "# Select the odd numbers from the list\n",
        "print(\"original list:\" , my_list)\n",
        "print(\"List without even numbers:\", new_list)"
      ],
      "metadata": {
        "colab": {
          "base_uri": "https://localhost:8080/"
        },
        "id": "hGVlADRT_RfF",
        "outputId": "b0ad4f88-96b0-491d-957f-4fd087cfe115"
      },
      "execution_count": 28,
      "outputs": [
        {
          "output_type": "stream",
          "name": "stdout",
          "text": [
            "original list: [1, 2, 3, 4, 5, 6, 7, 8, 9, 10]\n",
            "List without even numbers: [1, 3, 5, 7, 9]\n"
          ]
        }
      ]
    },
    {
      "cell_type": "code",
      "source": [
        "my_list = ['H', 'e', 'l', 'l', 'o', ',', ' ', 'W', 'o', 'r', 'l', 'd', '!']\n",
        "\n",
        "# Convert the list of characters to a string\n",
        "my_string = \"\".join(my_list)\n",
        "\n",
        "print(\"Original list:\", my_list)\n",
        "print(\"String version:\", my_string)"
      ],
      "metadata": {
        "colab": {
          "base_uri": "https://localhost:8080/"
        },
        "id": "9lBS8rVM_dbU",
        "outputId": "2d408942-5e3f-499c-d0dd-32a809edc363"
      },
      "execution_count": 29,
      "outputs": [
        {
          "output_type": "stream",
          "name": "stdout",
          "text": [
            "Original list: ['H', 'e', 'l', 'l', 'o', ',', ' ', 'W', 'o', 'r', 'l', 'd', '!']\n",
            "String version: Hello, World!\n"
          ]
        }
      ]
    },
    {
      "cell_type": "code",
      "source": [
        "my_list = ['apple', 'banana', 'cherry', 'apple', 'banana']\n",
        "\n",
        "# Find the index of an item in the list\n",
        "item_index = my_list.index('cherry')\n",
        "\n",
        "print(\"Original list:\", my_list)\n",
        "print(\"Index of 'cherry':\", item_index)"
      ],
      "metadata": {
        "colab": {
          "base_uri": "https://localhost:8080/"
        },
        "id": "rDXHXIo3_zti",
        "outputId": "66a9580e-d56b-4ef9-b89f-4eec8acf78f3"
      },
      "execution_count": 31,
      "outputs": [
        {
          "output_type": "stream",
          "name": "stdout",
          "text": [
            "Original list: ['apple', 'banana', 'cherry', 'apple', 'banana']\n",
            "Index of 'cherry': 2\n"
          ]
        }
      ]
    },
    {
      "cell_type": "code",
      "source": [
        "list1 = [1, 2, 3, 4]\n",
        "list2 = [4, 5, 6, 7]\n",
        "\n",
        "# Add list2 to list1\n",
        "list1.extend(list2)\n",
        "\n",
        "print(\"List 1:\", list1)\n",
        "print(\"List 2:\", list2)"
      ],
      "metadata": {
        "colab": {
          "base_uri": "https://localhost:8080/"
        },
        "id": "ZIZMeo2wABDH",
        "outputId": "f86f7481-98e9-4eaf-9a0b-af88f3dbad7c"
      },
      "execution_count": 108,
      "outputs": [
        {
          "output_type": "stream",
          "name": "stdout",
          "text": [
            "List 1: [1, 2, 3, 4, 4, 5, 6, 7]\n",
            "List 2: [4, 5, 6, 7]\n"
          ]
        }
      ]
    },
    {
      "cell_type": "code",
      "source": [
        "my_list = [1, 2, 2, 3, 4, 4, 4, 5, 5]\n",
        "\n",
        "# Get unique values from the list\n",
        "unique_list = list(set(my_list))\n",
        "\n",
        "# Count unique values in the list\n",
        "unique_count = len(unique_list)\n",
        "\n",
        "# Get the frequency of each element in the list\n",
        "frequency_dict = {}\n",
        "for item in my_list:\n",
        "    if item in frequency_dict:\n",
        "        frequency_dict[item] += 1\n",
        "    else:\n",
        "        frequency_dict[item] = 1\n",
        "\n",
        "print(\"Original list:\", my_list)\n",
        "print(\"Unique values:\", unique_list)\n",
        "print(\"Number of unique values:\", unique_count)\n",
        "print(\"Element frequency:\", frequency_dict)"
      ],
      "metadata": {
        "colab": {
          "base_uri": "https://localhost:8080/"
        },
        "id": "6coVQ5epAqjm",
        "outputId": "aa8f6d98-9c39-473b-d03b-6450dd1cf8cd"
      },
      "execution_count": 119,
      "outputs": [
        {
          "output_type": "stream",
          "name": "stdout",
          "text": [
            "Original list: [1, 2, 2, 3, 4, 4, 4, 5, 5]\n",
            "Unique values: [1, 2, 3, 4, 5]\n",
            "Number of unique values: 5\n",
            "Element frequency: {1: 1, 2: 2, 3: 1, 4: 3, 5: 2}\n"
          ]
        }
      ]
    },
    {
      "cell_type": "code",
      "source": [
        "def extract_elements_with_frequency(lst, k):\n",
        "    result = []\n",
        "    count_dict = {}\n",
        "    for value in lst:\n",
        "        count_dict[value] = count_dict.get(value, 0) + 1\n",
        "    for value, count in count_dict.items():\n",
        "        if count > k:\n",
        "            result.append(value)\n"
      ],
      "metadata": {
        "id": "9_Rmi26_-GnO"
      },
      "execution_count": 121,
      "outputs": []
    },
    {
      "cell_type": "code",
      "source": [
        "def get_unique_values(lst):\n",
        "    unique_values = set(lst)\n",
        "    unique_count = len(unique_values)\n",
        "    frequency = {}\n",
        "\n",
        "    for item in lst:\n",
        "        frequency[item] = frequency.get(item, 0) + 1\n",
        "\n",
        "    return list(unique_values), unique_count, frequency\n",
        "\n",
        "# Example usage\n",
        "my_list = [1, 2, 3, 4, 2, 3, 5, 1, 4, 2, 6, 7, 8, 6, 9, 10, 10]\n",
        "unique_values, unique_count, frequency = get_unique_values(my_list)\n",
        "\n",
        "print(\"Unique Values:\", unique_values)\n",
        "print(\"Unique Count:\", unique_count)\n",
        "print(\"Frequency:\", frequency)"
      ],
      "metadata": {
        "colab": {
          "base_uri": "https://localhost:8080/"
        },
        "id": "I6RnwcziC18k",
        "outputId": "eff058ec-5e09-4711-fb5e-76006bce209e"
      },
      "execution_count": 123,
      "outputs": [
        {
          "output_type": "stream",
          "name": "stdout",
          "text": [
            "Unique Values: [1, 2, 3, 4, 5, 6, 7, 8, 9, 10]\n",
            "Unique Count: 10\n",
            "Frequency: {1: 2, 2: 3, 3: 2, 4: 2, 5: 1, 6: 2, 7: 1, 8: 1, 9: 1, 10: 2}\n"
          ]
        }
      ]
    },
    {
      "cell_type": "code",
      "source": [
        "def reverse_strings(string_list):\n",
        "    reversed_list = []\n",
        "    for string in string_list:\n",
        "        reversed_list.append(string[::-1])\n",
        "    return reversed_list\n",
        "\n",
        "string_list = ['Hello', 'World', 'Python']\n",
        "reversed_list = reverse_strings(string_list)\n",
        "print(reversed_list)"
      ],
      "metadata": {
        "colab": {
          "base_uri": "https://localhost:8080/"
        },
        "id": "HFyvaUTHCWsP",
        "outputId": "8a152737-30be-4d13-d144-17c4560bf888"
      },
      "execution_count": 40,
      "outputs": [
        {
          "output_type": "stream",
          "name": "stdout",
          "text": [
            "['olleH', 'dlroW', 'nohtyP']\n"
          ]
        }
      ]
    },
    {
      "cell_type": "markdown",
      "source": [
        "**Python : Dictonary**\n",
        "a. Write a Python script to create a dictionary (i)Creat a dictionary named **fruit** with keys(**name, colour, taste**).add Mango and Lemon as the value of key-**names, yellow and green** as the value of colour, sweet and sour as the value of the taste.(ii)display the dictionary.(iii)add a new value **Apple**in the names\n",
        "b.Write a python program to add a key to the dictionary\n",
        "c.Write a python program to check whether a given key already exists in the dictionary.\n",
        "d.Access dictionary keys' element by index\n",
        "e.Write a python program to iterate over dictionaries using for loops\n",
        "f. Write a Python script to print a dictionary where the keys are numbers between 1 and n (both included) and the values are square of keys\n",
        "g.Creat a dictinary by extrating the keys from a given dictionary\n",
        "h. Write a python program to Rename key of a dictionary\n",
        "i. Write a Program to print only keys of a dictionary\n",
        "j. Write a program to print values of dictionary"
      ],
      "metadata": {
        "id": "JCsxJBFiCjh9"
      }
    },
    {
      "cell_type": "code",
      "source": [
        "# Create the initial dictionary\n",
        "fruit = {\n",
        "    'names': ['Mango', 'Lemon'],\n",
        "    'color': ['yellow', 'green'],\n",
        "    'taste': ['sweet', 'sour']\n",
        "}\n",
        "\n",
        "# Display the dictionary\n",
        "print(\"Initial dictionary:\")\n",
        "print(fruit)\n",
        "\n",
        "# Add a new value to the 'names' key\n",
        "fruit['names'].append('Apple')\n",
        "\n",
        "# Display the updated dictionary\n",
        "print(\"Updated dictionary:\")\n",
        "print(fruit)\n"
      ],
      "metadata": {
        "colab": {
          "base_uri": "https://localhost:8080/"
        },
        "id": "U2jrXxnyCnVo",
        "outputId": "d2e4def5-57d1-4159-bc6d-d89769025b31"
      },
      "execution_count": 42,
      "outputs": [
        {
          "output_type": "stream",
          "name": "stdout",
          "text": [
            "Initial dictionary:\n",
            "{'names': ['Mango', 'Lemon'], 'color': ['yellow', 'green'], 'taste': ['sweet', 'sour']}\n",
            "Updated dictionary:\n",
            "{'names': ['Mango', 'Lemon', 'Apple'], 'color': ['yellow', 'green'], 'taste': ['sweet', 'sour']}\n"
          ]
        }
      ]
    },
    {
      "cell_type": "code",
      "source": [
        "# Initial dictionary\n",
        "fruits = {'apple': 3, 'banana': 5, 'orange': 2}\n",
        "\n",
        "# Display the initial dictionary\n",
        "print(\"Initial dictionary:\")\n",
        "print(fruits)\n",
        "\n",
        "# Add a new key-value pair\n",
        "fruits['mango'] = 4\n",
        "\n",
        "# Display the updated dictionary\n",
        "print(\"Updated dictionary:\")\n",
        "print(fruits)\n"
      ],
      "metadata": {
        "colab": {
          "base_uri": "https://localhost:8080/"
        },
        "id": "nTuVRSpzC28O",
        "outputId": "9771964e-6b80-44d4-cd7e-cc3ae3c5b3c6"
      },
      "execution_count": 43,
      "outputs": [
        {
          "output_type": "stream",
          "name": "stdout",
          "text": [
            "Initial dictionary:\n",
            "{'apple': 3, 'banana': 5, 'orange': 2}\n",
            "Updated dictionary:\n",
            "{'apple': 3, 'banana': 5, 'orange': 2, 'mango': 4}\n"
          ]
        }
      ]
    },
    {
      "cell_type": "code",
      "source": [
        "def check_key(dictionary, key):\n",
        "    if key in dictionary:\n",
        "        print(\"The key '{}' exists in the dictionary.\".format(key))\n",
        "    else:\n",
        "        print(\"The key '{}' does not exist in the dictionary.\".format(key))\n",
        "\n",
        "# Example usage\n",
        "my_dictionary = {'name': 'John', 'age': 25, 'city': 'New York'}\n",
        "check_key(my_dictionary, 'age')  # The key 'age' exists in the dictionary.\n",
        "check_key(my_dictionary, 'address')  # The key 'address' does not exist in the dictionary."
      ],
      "metadata": {
        "colab": {
          "base_uri": "https://localhost:8080/"
        },
        "id": "j-iZMq50FWYm",
        "outputId": "3152a04c-e3a7-4efa-f99c-bd0cfbed1f2b"
      },
      "execution_count": 56,
      "outputs": [
        {
          "output_type": "stream",
          "name": "stdout",
          "text": [
            "The key 'age' exists in the dictionary.\n",
            "The key 'address' does not exist in the dictionary.\n"
          ]
        }
      ]
    },
    {
      "cell_type": "code",
      "source": [
        "# Sample dictionary\n",
        "fruits = {'apple': 3, 'banana': 5, 'orange': 2}\n",
        "\n",
        "# Accessing a dictionary element by key\n",
        "value = fruits['apple']\n",
        "print(value)"
      ],
      "metadata": {
        "colab": {
          "base_uri": "https://localhost:8080/"
        },
        "id": "nyc0pTxYFg3p",
        "outputId": "59234068-dfdf-4aa6-bc90-ea5f4a5c5df4"
      },
      "execution_count": 57,
      "outputs": [
        {
          "output_type": "stream",
          "name": "stdout",
          "text": [
            "3\n"
          ]
        }
      ]
    },
    {
      "cell_type": "code",
      "source": [
        "# Sample dictionary\n",
        "fruits = {'apple': 3, 'banana': 5, 'orange': 2}\n",
        "\n",
        "# Iterate over the dictionary using a for loop\n",
        "for key in fruits:\n",
        "    value = fruits[key]\n",
        "    print(key, ':', value)\n"
      ],
      "metadata": {
        "colab": {
          "base_uri": "https://localhost:8080/"
        },
        "id": "fqamu4IoFznE",
        "outputId": "3dd47b98-3a31-4631-8d5e-2e497fd7f304"
      },
      "execution_count": 58,
      "outputs": [
        {
          "output_type": "stream",
          "name": "stdout",
          "text": [
            "apple : 3\n",
            "banana : 5\n",
            "orange : 2\n"
          ]
        }
      ]
    },
    {
      "cell_type": "code",
      "source": [
        "def generate_square_dictionary(n):\n",
        "    square_dict = {}\n",
        "    for i in range(1, n+1):\n",
        "        square_dict[i] = i**2\n",
        "    return square_dict\n",
        "\n",
        "# Prompt the user for the value of n\n",
        "n = int(input(\"Enter the value of n: \"))\n",
        "\n",
        "# Generate the square dictionary\n",
        "result_dict = generate_square_dictionary(n)\n",
        "\n",
        "# Print the square dictionary\n",
        "for key, value in result_dict.items():\n",
        "    print(key, \":\", value)\n"
      ],
      "metadata": {
        "colab": {
          "base_uri": "https://localhost:8080/"
        },
        "id": "HTtOmg4qF4fW",
        "outputId": "dad50d37-5858-4106-9bb4-a7328a9fa555"
      },
      "execution_count": 109,
      "outputs": [
        {
          "output_type": "stream",
          "name": "stdout",
          "text": [
            "Enter the value of n: 100\n",
            "1 : 1\n",
            "2 : 4\n",
            "3 : 9\n",
            "4 : 16\n",
            "5 : 25\n",
            "6 : 36\n",
            "7 : 49\n",
            "8 : 64\n",
            "9 : 81\n",
            "10 : 100\n",
            "11 : 121\n",
            "12 : 144\n",
            "13 : 169\n",
            "14 : 196\n",
            "15 : 225\n",
            "16 : 256\n",
            "17 : 289\n",
            "18 : 324\n",
            "19 : 361\n",
            "20 : 400\n",
            "21 : 441\n",
            "22 : 484\n",
            "23 : 529\n",
            "24 : 576\n",
            "25 : 625\n",
            "26 : 676\n",
            "27 : 729\n",
            "28 : 784\n",
            "29 : 841\n",
            "30 : 900\n",
            "31 : 961\n",
            "32 : 1024\n",
            "33 : 1089\n",
            "34 : 1156\n",
            "35 : 1225\n",
            "36 : 1296\n",
            "37 : 1369\n",
            "38 : 1444\n",
            "39 : 1521\n",
            "40 : 1600\n",
            "41 : 1681\n",
            "42 : 1764\n",
            "43 : 1849\n",
            "44 : 1936\n",
            "45 : 2025\n",
            "46 : 2116\n",
            "47 : 2209\n",
            "48 : 2304\n",
            "49 : 2401\n",
            "50 : 2500\n",
            "51 : 2601\n",
            "52 : 2704\n",
            "53 : 2809\n",
            "54 : 2916\n",
            "55 : 3025\n",
            "56 : 3136\n",
            "57 : 3249\n",
            "58 : 3364\n",
            "59 : 3481\n",
            "60 : 3600\n",
            "61 : 3721\n",
            "62 : 3844\n",
            "63 : 3969\n",
            "64 : 4096\n",
            "65 : 4225\n",
            "66 : 4356\n",
            "67 : 4489\n",
            "68 : 4624\n",
            "69 : 4761\n",
            "70 : 4900\n",
            "71 : 5041\n",
            "72 : 5184\n",
            "73 : 5329\n",
            "74 : 5476\n",
            "75 : 5625\n",
            "76 : 5776\n",
            "77 : 5929\n",
            "78 : 6084\n",
            "79 : 6241\n",
            "80 : 6400\n",
            "81 : 6561\n",
            "82 : 6724\n",
            "83 : 6889\n",
            "84 : 7056\n",
            "85 : 7225\n",
            "86 : 7396\n",
            "87 : 7569\n",
            "88 : 7744\n",
            "89 : 7921\n",
            "90 : 8100\n",
            "91 : 8281\n",
            "92 : 8464\n",
            "93 : 8649\n",
            "94 : 8836\n",
            "95 : 9025\n",
            "96 : 9216\n",
            "97 : 9409\n",
            "98 : 9604\n",
            "99 : 9801\n",
            "100 : 10000\n"
          ]
        }
      ]
    },
    {
      "cell_type": "code",
      "source": [
        "def extract_keys(dictionary):\n",
        "    keys = list(dictionary.keys())\n",
        "    extracted_dict = {key: key for key in keys}\n",
        "    return extracted_dict\n"
      ],
      "metadata": {
        "id": "qxFcK3nXqnyd"
      },
      "execution_count": 113,
      "outputs": []
    },
    {
      "cell_type": "code",
      "source": [
        "original_dict = {'a': 1, 'b': 2, 'c': 3}\n",
        "extracted_dict = extract_keys(original_dict)\n",
        "print(extracted_dict)"
      ],
      "metadata": {
        "colab": {
          "base_uri": "https://localhost:8080/"
        },
        "id": "m9gb2cSBq9O3",
        "outputId": "5c6e4250-699b-47b2-9883-66c5d0015017"
      },
      "execution_count": 114,
      "outputs": [
        {
          "output_type": "stream",
          "name": "stdout",
          "text": [
            "{'a': 'a', 'b': 'b', 'c': 'c'}\n"
          ]
        }
      ]
    },
    {
      "cell_type": "code",
      "source": [
        "def rename_key(dictionary, old_key, new_key):\n",
        "    if old_key in dictionary:\n",
        "        dictionary[new_key] = dictionary.pop(old_key)\n",
        "\n",
        "# Example usage\n",
        "my_dict = {'old_key': 123}\n",
        "print(\"Before renaming:\", my_dict)\n",
        "\n",
        "rename_key(my_dict, 'old_key', 'new_key')\n",
        "print(\"After renaming:\", my_dict)\n"
      ],
      "metadata": {
        "colab": {
          "base_uri": "https://localhost:8080/"
        },
        "id": "qkMTFJJ8GGWB",
        "outputId": "645bfd87-d843-439b-d2aa-08481c073f2f"
      },
      "execution_count": 60,
      "outputs": [
        {
          "output_type": "stream",
          "name": "stdout",
          "text": [
            "Before renaming: {'old_key': 123}\n",
            "After renaming: {'new_key': 123}\n"
          ]
        }
      ]
    },
    {
      "cell_type": "code",
      "source": [
        "\n",
        "def print_keys(dictionary):\n",
        "    for key in dictionary.keys():\n",
        "        print(key)\n",
        "\n",
        "# Example usage\n",
        "my_dict = {'key1': 123, 'key2': 'abc', 'key3': True}\n",
        "print_keys(my_dict)"
      ],
      "metadata": {
        "colab": {
          "base_uri": "https://localhost:8080/"
        },
        "id": "RllubrqHGQYa",
        "outputId": "56d97530-1735-4f78-d078-91c5d058b91e"
      },
      "execution_count": 62,
      "outputs": [
        {
          "output_type": "stream",
          "name": "stdout",
          "text": [
            "key1\n",
            "key2\n",
            "key3\n"
          ]
        }
      ]
    },
    {
      "cell_type": "code",
      "source": [
        "def print_values(dictionary):\n",
        "    for value in dictionary.values():\n",
        "        print(value)\n",
        "\n",
        "# Example usage\n",
        "my_dict = {'key1': 123, 'key2': 'abc', 'key3': True}\n",
        "print_values(my_dict)\n"
      ],
      "metadata": {
        "colab": {
          "base_uri": "https://localhost:8080/"
        },
        "id": "g7_Ew9c3GONB",
        "outputId": "1acb87c7-fc20-4ac5-e7fd-e30c36bcd13e"
      },
      "execution_count": 63,
      "outputs": [
        {
          "output_type": "stream",
          "name": "stdout",
          "text": [
            "123\n",
            "abc\n",
            "True\n"
          ]
        }
      ]
    },
    {
      "cell_type": "markdown",
      "source": [
        "**Python:Loops**\n",
        "a. Print First 10 natural numbers using while loop\n",
        "b. Write a program to print multipication table of a given number\n",
        "c. Display numbers from a list using loop\n",
        "d.Print list in reverse order using a loop\n",
        "e.Display numbers from -10 to -1 using for loop\n",
        "f.Find the factorial of a given number\n",
        "g.Use a loop to display elements from a given listpresent at odd index positions\n",
        "h.Calculate the cube of all numbers from 1 to a given nymber"
      ],
      "metadata": {
        "id": "EzbBMU5XIIJL"
      }
    },
    {
      "cell_type": "code",
      "source": [
        "\n",
        "count = 1\n",
        "while count <= 10:\n",
        "    print(count)\n",
        "    count += 1"
      ],
      "metadata": {
        "colab": {
          "base_uri": "https://localhost:8080/"
        },
        "id": "XXC2r2ohILh4",
        "outputId": "673cae0e-2d7b-4ae9-c124-c58161910d1d"
      },
      "execution_count": 74,
      "outputs": [
        {
          "output_type": "stream",
          "name": "stdout",
          "text": [
            "1\n",
            "2\n",
            "3\n",
            "4\n",
            "5\n",
            "6\n",
            "7\n",
            "8\n",
            "9\n",
            "10\n"
          ]
        }
      ]
    },
    {
      "cell_type": "code",
      "source": [
        "num = int(input(\"Enter a number: \"))\n",
        "\n",
        "print(\"Multiplication Table of\", num)\n",
        "for i in range(1, 11):\n",
        "    print(num, \"x\", i, \"=\", num * i)\n"
      ],
      "metadata": {
        "colab": {
          "base_uri": "https://localhost:8080/"
        },
        "id": "uEnIWeWsIfhs",
        "outputId": "cbe82ae5-b2ad-41dd-cea4-f3e0c6489912"
      },
      "execution_count": 75,
      "outputs": [
        {
          "output_type": "stream",
          "name": "stdout",
          "text": [
            "Enter a number: 2000\n",
            "Multiplication Table of 2000\n",
            "2000 x 1 = 2000\n",
            "2000 x 2 = 4000\n",
            "2000 x 3 = 6000\n",
            "2000 x 4 = 8000\n",
            "2000 x 5 = 10000\n",
            "2000 x 6 = 12000\n",
            "2000 x 7 = 14000\n",
            "2000 x 8 = 16000\n",
            "2000 x 9 = 18000\n",
            "2000 x 10 = 20000\n"
          ]
        }
      ]
    },
    {
      "cell_type": "code",
      "source": [
        "numbers = [1, 2, 3, 4, 5]\n",
        "\n",
        "for number in numbers:\n",
        "    print(number)\n"
      ],
      "metadata": {
        "colab": {
          "base_uri": "https://localhost:8080/"
        },
        "id": "yx6OojP0Io2v",
        "outputId": "c75bcd15-63ad-4811-c962-717f649164e5"
      },
      "execution_count": 76,
      "outputs": [
        {
          "output_type": "stream",
          "name": "stdout",
          "text": [
            "1\n",
            "2\n",
            "3\n",
            "4\n",
            "5\n"
          ]
        }
      ]
    },
    {
      "cell_type": "code",
      "source": [
        "numbers = [1, 2, 3, 4, 5]\n",
        "\n",
        "for i in range(len(numbers)-1, -1, -1):\n",
        "    print(numbers[i])\n"
      ],
      "metadata": {
        "colab": {
          "base_uri": "https://localhost:8080/"
        },
        "id": "v_f9pIHZI3dV",
        "outputId": "a086bfab-c42e-44a5-dbeb-912098a5f482"
      },
      "execution_count": 78,
      "outputs": [
        {
          "output_type": "stream",
          "name": "stdout",
          "text": [
            "5\n",
            "4\n",
            "3\n",
            "2\n",
            "1\n"
          ]
        }
      ]
    },
    {
      "cell_type": "code",
      "source": [
        "for num in range(-10, 0):\n",
        "    print(num)\n"
      ],
      "metadata": {
        "colab": {
          "base_uri": "https://localhost:8080/"
        },
        "id": "OodfgOhiI_pa",
        "outputId": "f24984d4-88ef-4ca2-8c4b-f602f8057796"
      },
      "execution_count": 80,
      "outputs": [
        {
          "output_type": "stream",
          "name": "stdout",
          "text": [
            "-10\n",
            "-9\n",
            "-8\n",
            "-7\n",
            "-6\n",
            "-5\n",
            "-4\n",
            "-3\n",
            "-2\n",
            "-1\n"
          ]
        }
      ]
    },
    {
      "cell_type": "code",
      "source": [
        "num = int(input(\"Enter a number: \"))\n",
        "factorial = 1\n",
        "\n",
        "for i in range(1, num + 1):\n",
        "    factorial *= i\n",
        "\n",
        "print(\"Factorial of\", num, \"is\", factorial)\n"
      ],
      "metadata": {
        "colab": {
          "base_uri": "https://localhost:8080/"
        },
        "id": "s0JjJZZSJR6P",
        "outputId": "86cd58bc-feab-44b4-f313-e6d6051cd42a"
      },
      "execution_count": 81,
      "outputs": [
        {
          "output_type": "stream",
          "name": "stdout",
          "text": [
            "Enter a number: 4\n",
            "Factorial of 4 is 24\n"
          ]
        }
      ]
    },
    {
      "cell_type": "code",
      "source": [
        "numbers = [1, 2, 3, 4, 5, 6, 7, 8, 9]\n",
        "\n",
        "for i in range(1, len(numbers), 2):\n",
        "    print(numbers[i])\n"
      ],
      "metadata": {
        "colab": {
          "base_uri": "https://localhost:8080/"
        },
        "id": "UGvBMIg9JZi7",
        "outputId": "becbb153-9503-4710-b00b-bd3d6e69b0f3"
      },
      "execution_count": 82,
      "outputs": [
        {
          "output_type": "stream",
          "name": "stdout",
          "text": [
            "2\n",
            "4\n",
            "6\n",
            "8\n"
          ]
        }
      ]
    },
    {
      "cell_type": "markdown",
      "source": [
        "**python Userdefined functions**\n",
        "a. Write a program to create a function that will return a list of the unique digits in your class ID.\n",
        "\n",
        "\n",
        "\n"
      ],
      "metadata": {
        "id": "_rBNQb7AJ9tN"
      }
    },
    {
      "cell_type": "code",
      "source": [
        "def get_unique_digits(class_id = \"YourClassID2031063\" ):\n",
        "    class_id_str = str(class_id)\n",
        "    unique_digits = []\n",
        "    \n",
        "    for char in class_id_str:\n",
        "        if char.isdigit() and char not in unique_digits:\n",
        "            unique_digits.append(char)\n",
        "    \n",
        "    return unique_digits\n",
        "\n",
        "# Example usage\n",
        "class_id = \"YourClassID 2031063\"\n",
        "unique_digits = get_unique_digits(class_id)\n",
        "print(unique_digits)"
      ],
      "metadata": {
        "colab": {
          "base_uri": "https://localhost:8080/"
        },
        "id": "rffq4TF_Lgc2",
        "outputId": "a9dbfb0d-54f6-4851-e89a-c5608b4083e2"
      },
      "execution_count": 93,
      "outputs": [
        {
          "output_type": "stream",
          "name": "stdout",
          "text": [
            "['2', '0', '3', '1', '6']\n"
          ]
        }
      ]
    }
  ]
}