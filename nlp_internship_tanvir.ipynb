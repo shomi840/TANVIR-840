{
  "metadata": {
    "kernelspec": {
      "language": "python",
      "display_name": "Python 3",
      "name": "python3"
    },
    "language_info": {
      "name": "python",
      "version": "3.10.12",
      "mimetype": "text/x-python",
      "codemirror_mode": {
        "name": "ipython",
        "version": 3
      },
      "pygments_lexer": "ipython3",
      "nbconvert_exporter": "python",
      "file_extension": ".py"
    },
    "kaggle": {
      "accelerator": "none",
      "dataSources": [
        {
          "sourceId": 10719574,
          "sourceType": "datasetVersion",
          "datasetId": 6644646
        },
        {
          "sourceId": 10789014,
          "sourceType": "datasetVersion",
          "datasetId": 6695331
        },
        {
          "sourceId": 10866327,
          "sourceType": "datasetVersion",
          "datasetId": 6750623
        },
        {
          "sourceId": 10866423,
          "sourceType": "datasetVersion",
          "datasetId": 6750671
        },
        {
          "sourceId": 10876912,
          "sourceType": "datasetVersion",
          "datasetId": 6758123
        }
      ],
      "dockerImageVersionId": 30887,
      "isInternetEnabled": true,
      "language": "python",
      "sourceType": "notebook",
      "isGpuEnabled": false
    },
    "colab": {
      "provenance": [],
      "include_colab_link": true
    }
  },
  "nbformat_minor": 0,
  "nbformat": 4,
  "cells": [
    {
      "cell_type": "markdown",
      "metadata": {
        "id": "view-in-github",
        "colab_type": "text"
      },
      "source": [
        "<a href=\"https://colab.research.google.com/github/shomi840/TANVIR-840/blob/main/nlp_internship_tanvir.ipynb\" target=\"_parent\"><img src=\"https://colab.research.google.com/assets/colab-badge.svg\" alt=\"Open In Colab\"/></a>"
      ]
    },
    {
      "cell_type": "markdown",
      "source": [
        "Task 1: Project Setup & Team Coordination\n",
        "\n",
        "\n",
        "\n",
        "\n",
        "\n",
        "\n",
        "\n",
        "\n",
        "\n"
      ],
      "metadata": {
        "id": "loLHaddf2h8f"
      }
    },
    {
      "cell_type": "markdown",
      "source": [
        "\n",
        "**Task 2: PDF Extraction & VerificationAssigned **\n"
      ],
      "metadata": {
        "id": "8OFHrx0P2h8j"
      }
    },
    {
      "cell_type": "code",
      "source": [
        "import shutil\n",
        "\n",
        "input_pdf = \"/kaggle/input/nlp-bangla-fuler-bibah-page/Page1.pdf\"\n",
        "writable_pdf = \"/kaggle/working/page1.pdf\"\n",
        "\n",
        "shutil.copy(input_pdf, writable_pdf)  # Copy to writable location\n"
      ],
      "metadata": {
        "trusted": true,
        "execution": {
          "iopub.status.busy": "2025-03-02T05:05:35.300810Z",
          "iopub.execute_input": "2025-03-02T05:05:35.301137Z",
          "iopub.status.idle": "2025-03-02T05:05:35.324069Z",
          "shell.execute_reply.started": "2025-03-02T05:05:35.301111Z",
          "shell.execute_reply": "2025-03-02T05:05:35.323438Z"
        },
        "colab": {
          "base_uri": "https://localhost:8080/",
          "height": 321
        },
        "id": "tdcC0BEH2h8k",
        "outputId": "c583e9a2-c59a-4943-e51b-135edbfe5ec3"
      },
      "outputs": [
        {
          "output_type": "error",
          "ename": "FileNotFoundError",
          "evalue": "[Errno 2] No such file or directory: '/kaggle/input/nlp-bangla-fuler-bibah-page/Page1.pdf'",
          "traceback": [
            "\u001b[0;31m---------------------------------------------------------------------------\u001b[0m",
            "\u001b[0;31mFileNotFoundError\u001b[0m                         Traceback (most recent call last)",
            "\u001b[0;32m<ipython-input-2-c131b473aacd>\u001b[0m in \u001b[0;36m<cell line: 0>\u001b[0;34m()\u001b[0m\n\u001b[1;32m      4\u001b[0m \u001b[0mwritable_pdf\u001b[0m \u001b[0;34m=\u001b[0m \u001b[0;34m\"/kaggle/working/page1.pdf\"\u001b[0m\u001b[0;34m\u001b[0m\u001b[0;34m\u001b[0m\u001b[0m\n\u001b[1;32m      5\u001b[0m \u001b[0;34m\u001b[0m\u001b[0m\n\u001b[0;32m----> 6\u001b[0;31m \u001b[0mshutil\u001b[0m\u001b[0;34m.\u001b[0m\u001b[0mcopy\u001b[0m\u001b[0;34m(\u001b[0m\u001b[0minput_pdf\u001b[0m\u001b[0;34m,\u001b[0m \u001b[0mwritable_pdf\u001b[0m\u001b[0;34m)\u001b[0m  \u001b[0;31m# Copy to writable location\u001b[0m\u001b[0;34m\u001b[0m\u001b[0;34m\u001b[0m\u001b[0m\n\u001b[0m",
            "\u001b[0;32m/usr/lib/python3.11/shutil.py\u001b[0m in \u001b[0;36mcopy\u001b[0;34m(src, dst, follow_symlinks)\u001b[0m\n\u001b[1;32m    429\u001b[0m     \u001b[0;32mif\u001b[0m \u001b[0mos\u001b[0m\u001b[0;34m.\u001b[0m\u001b[0mpath\u001b[0m\u001b[0;34m.\u001b[0m\u001b[0misdir\u001b[0m\u001b[0;34m(\u001b[0m\u001b[0mdst\u001b[0m\u001b[0;34m)\u001b[0m\u001b[0;34m:\u001b[0m\u001b[0;34m\u001b[0m\u001b[0;34m\u001b[0m\u001b[0m\n\u001b[1;32m    430\u001b[0m         \u001b[0mdst\u001b[0m \u001b[0;34m=\u001b[0m \u001b[0mos\u001b[0m\u001b[0;34m.\u001b[0m\u001b[0mpath\u001b[0m\u001b[0;34m.\u001b[0m\u001b[0mjoin\u001b[0m\u001b[0;34m(\u001b[0m\u001b[0mdst\u001b[0m\u001b[0;34m,\u001b[0m \u001b[0mos\u001b[0m\u001b[0;34m.\u001b[0m\u001b[0mpath\u001b[0m\u001b[0;34m.\u001b[0m\u001b[0mbasename\u001b[0m\u001b[0;34m(\u001b[0m\u001b[0msrc\u001b[0m\u001b[0;34m)\u001b[0m\u001b[0;34m)\u001b[0m\u001b[0;34m\u001b[0m\u001b[0;34m\u001b[0m\u001b[0m\n\u001b[0;32m--> 431\u001b[0;31m     \u001b[0mcopyfile\u001b[0m\u001b[0;34m(\u001b[0m\u001b[0msrc\u001b[0m\u001b[0;34m,\u001b[0m \u001b[0mdst\u001b[0m\u001b[0;34m,\u001b[0m \u001b[0mfollow_symlinks\u001b[0m\u001b[0;34m=\u001b[0m\u001b[0mfollow_symlinks\u001b[0m\u001b[0;34m)\u001b[0m\u001b[0;34m\u001b[0m\u001b[0;34m\u001b[0m\u001b[0m\n\u001b[0m\u001b[1;32m    432\u001b[0m     \u001b[0mcopymode\u001b[0m\u001b[0;34m(\u001b[0m\u001b[0msrc\u001b[0m\u001b[0;34m,\u001b[0m \u001b[0mdst\u001b[0m\u001b[0;34m,\u001b[0m \u001b[0mfollow_symlinks\u001b[0m\u001b[0;34m=\u001b[0m\u001b[0mfollow_symlinks\u001b[0m\u001b[0;34m)\u001b[0m\u001b[0;34m\u001b[0m\u001b[0;34m\u001b[0m\u001b[0m\n\u001b[1;32m    433\u001b[0m     \u001b[0;32mreturn\u001b[0m \u001b[0mdst\u001b[0m\u001b[0;34m\u001b[0m\u001b[0;34m\u001b[0m\u001b[0m\n",
            "\u001b[0;32m/usr/lib/python3.11/shutil.py\u001b[0m in \u001b[0;36mcopyfile\u001b[0;34m(src, dst, follow_symlinks)\u001b[0m\n\u001b[1;32m    254\u001b[0m         \u001b[0mos\u001b[0m\u001b[0;34m.\u001b[0m\u001b[0msymlink\u001b[0m\u001b[0;34m(\u001b[0m\u001b[0mos\u001b[0m\u001b[0;34m.\u001b[0m\u001b[0mreadlink\u001b[0m\u001b[0;34m(\u001b[0m\u001b[0msrc\u001b[0m\u001b[0;34m)\u001b[0m\u001b[0;34m,\u001b[0m \u001b[0mdst\u001b[0m\u001b[0;34m)\u001b[0m\u001b[0;34m\u001b[0m\u001b[0;34m\u001b[0m\u001b[0m\n\u001b[1;32m    255\u001b[0m     \u001b[0;32melse\u001b[0m\u001b[0;34m:\u001b[0m\u001b[0;34m\u001b[0m\u001b[0;34m\u001b[0m\u001b[0m\n\u001b[0;32m--> 256\u001b[0;31m         \u001b[0;32mwith\u001b[0m \u001b[0mopen\u001b[0m\u001b[0;34m(\u001b[0m\u001b[0msrc\u001b[0m\u001b[0;34m,\u001b[0m \u001b[0;34m'rb'\u001b[0m\u001b[0;34m)\u001b[0m \u001b[0;32mas\u001b[0m \u001b[0mfsrc\u001b[0m\u001b[0;34m:\u001b[0m\u001b[0;34m\u001b[0m\u001b[0;34m\u001b[0m\u001b[0m\n\u001b[0m\u001b[1;32m    257\u001b[0m             \u001b[0;32mtry\u001b[0m\u001b[0;34m:\u001b[0m\u001b[0;34m\u001b[0m\u001b[0;34m\u001b[0m\u001b[0m\n\u001b[1;32m    258\u001b[0m                 \u001b[0;32mwith\u001b[0m \u001b[0mopen\u001b[0m\u001b[0;34m(\u001b[0m\u001b[0mdst\u001b[0m\u001b[0;34m,\u001b[0m \u001b[0;34m'wb'\u001b[0m\u001b[0;34m)\u001b[0m \u001b[0;32mas\u001b[0m \u001b[0mfdst\u001b[0m\u001b[0;34m:\u001b[0m\u001b[0;34m\u001b[0m\u001b[0;34m\u001b[0m\u001b[0m\n",
            "\u001b[0;31mFileNotFoundError\u001b[0m: [Errno 2] No such file or directory: '/kaggle/input/nlp-bangla-fuler-bibah-page/Page1.pdf'"
          ]
        }
      ],
      "execution_count": 2
    },
    {
      "cell_type": "code",
      "source": [
        "import shutil\n",
        "shutil.copyfile(\"/kaggle/input/nlp-bangla-fuler-bibah-page/Page1.pdf\", \"/kaggle/working/page1.pdf\")\n"
      ],
      "metadata": {
        "trusted": true,
        "execution": {
          "iopub.status.busy": "2025-03-02T05:05:38.495764Z",
          "iopub.execute_input": "2025-03-02T05:05:38.496044Z",
          "iopub.status.idle": "2025-03-02T05:05:38.502797Z",
          "shell.execute_reply.started": "2025-03-02T05:05:38.496025Z",
          "shell.execute_reply": "2025-03-02T05:05:38.502011Z"
        },
        "id": "GgV7mvUN2h8n",
        "outputId": "6fe87f85-c905-4438-b18e-48ed6d7faa22"
      },
      "outputs": [
        {
          "execution_count": 3,
          "output_type": "execute_result",
          "data": {
            "text/plain": "'/kaggle/working/page1.pdf'"
          },
          "metadata": {}
        }
      ],
      "execution_count": null
    },
    {
      "cell_type": "code",
      "source": [
        "print(os.path.exists(\"/kaggle/working/page1.pdf\"))\n"
      ],
      "metadata": {
        "trusted": true,
        "execution": {
          "iopub.status.busy": "2025-03-02T05:05:42.146862Z",
          "iopub.execute_input": "2025-03-02T05:05:42.147156Z",
          "iopub.status.idle": "2025-03-02T05:05:42.158287Z",
          "shell.execute_reply.started": "2025-03-02T05:05:42.147136Z",
          "shell.execute_reply": "2025-03-02T05:05:42.157144Z"
        },
        "id": "k-OtUMPA2h8n",
        "outputId": "a74b7ab0-ebf2-49ee-8565-19c1905ae220"
      },
      "outputs": [
        {
          "traceback": [
            "\u001b[0;31m---------------------------------------------------------------------------\u001b[0m",
            "\u001b[0;31mNameError\u001b[0m                                 Traceback (most recent call last)",
            "\u001b[0;32m<ipython-input-4-be68e6441da6>\u001b[0m in \u001b[0;36m<cell line: 1>\u001b[0;34m()\u001b[0m\n\u001b[0;32m----> 1\u001b[0;31m \u001b[0mprint\u001b[0m\u001b[0;34m(\u001b[0m\u001b[0mos\u001b[0m\u001b[0;34m.\u001b[0m\u001b[0mpath\u001b[0m\u001b[0;34m.\u001b[0m\u001b[0mexists\u001b[0m\u001b[0;34m(\u001b[0m\u001b[0;34m\"/kaggle/working/page1.pdf\"\u001b[0m\u001b[0;34m)\u001b[0m\u001b[0;34m)\u001b[0m\u001b[0;34m\u001b[0m\u001b[0;34m\u001b[0m\u001b[0m\n\u001b[0m",
            "\u001b[0;31mNameError\u001b[0m: name 'os' is not defined"
          ],
          "ename": "NameError",
          "evalue": "name 'os' is not defined",
          "output_type": "error"
        }
      ],
      "execution_count": null
    },
    {
      "cell_type": "code",
      "source": [
        "!apt-get update\n",
        "!apt-get install -y poppler-utils tesseract-ocr tesseract-ocr-ben\n",
        "!pip install pdf2image pytesseract"
      ],
      "metadata": {
        "trusted": true,
        "execution": {
          "iopub.status.busy": "2025-03-02T05:05:45.825957Z",
          "iopub.execute_input": "2025-03-02T05:05:45.826283Z",
          "iopub.status.idle": "2025-03-02T05:06:03.447605Z",
          "shell.execute_reply.started": "2025-03-02T05:05:45.826255Z",
          "shell.execute_reply": "2025-03-02T05:06:03.446566Z"
        },
        "id": "nAYdEGew2h8o",
        "outputId": "aca2e990-3581-4725-dadd-30b9ac50c320"
      },
      "outputs": [
        {
          "name": "stdout",
          "text": "Get:1 https://cloud.r-project.org/bin/linux/ubuntu jammy-cran40/ InRelease [3,632 B]\nGet:2 https://developer.download.nvidia.com/compute/cuda/repos/ubuntu2204/x86_64  InRelease [1,581 B]\nGet:3 http://security.ubuntu.com/ubuntu jammy-security InRelease [129 kB]                           \nGet:4 https://cloud.r-project.org/bin/linux/ubuntu jammy-cran40/ Packages [66.7 kB]                 \nHit:5 http://archive.ubuntu.com/ubuntu jammy InRelease                                              \nGet:6 https://r2u.stat.illinois.edu/ubuntu jammy InRelease [6,555 B]                                \nGet:7 https://developer.download.nvidia.com/compute/cuda/repos/ubuntu2204/x86_64  Packages [1,321 kB]\nGet:8 http://archive.ubuntu.com/ubuntu jammy-updates InRelease [128 kB]        \nGet:9 https://r2u.stat.illinois.edu/ubuntu jammy/main amd64 Packages [2,664 kB]           \nGet:10 https://ppa.launchpadcontent.net/deadsnakes/ppa/ubuntu jammy InRelease [18.1 kB]   \nGet:11 http://security.ubuntu.com/ubuntu jammy-security/main amd64 Packages [2,649 kB]              \nGet:12 https://ppa.launchpadcontent.net/graphics-drivers/ppa/ubuntu jammy InRelease [24.3 kB]       \nGet:13 http://archive.ubuntu.com/ubuntu jammy-backports InRelease [127 kB]                          \nGet:14 https://r2u.stat.illinois.edu/ubuntu jammy/main all Packages [8,708 kB]                      \nHit:15 https://ppa.launchpadcontent.net/ubuntugis/ppa/ubuntu jammy InRelease                        \nGet:16 http://security.ubuntu.com/ubuntu jammy-security/restricted amd64 Packages [3,688 kB]        \nGet:17 https://ppa.launchpadcontent.net/deadsnakes/ppa/ubuntu jammy/main amd64 Packages [34.0 kB]   \nGet:18 http://archive.ubuntu.com/ubuntu jammy-updates/universe amd64 Packages [1,533 kB]            \nGet:19 http://security.ubuntu.com/ubuntu jammy-security/universe amd64 Packages [1,235 kB]          \nGet:20 https://ppa.launchpadcontent.net/graphics-drivers/ppa/ubuntu jammy/main amd64 Packages [57.8 kB]\nGet:21 http://archive.ubuntu.com/ubuntu jammy-updates/main amd64 Packages [2,956 kB]           \nGet:22 http://archive.ubuntu.com/ubuntu jammy-updates/restricted amd64 Packages [3,830 kB]\nGet:23 http://archive.ubuntu.com/ubuntu jammy-backports/universe amd64 Packages [35.2 kB]\nFetched 29.2 MB in 3s (11.7 MB/s)                            \nReading package lists... Done\nW: Skipping acquire of configured file 'main/source/Sources' as repository 'https://r2u.stat.illinois.edu/ubuntu jammy InRelease' does not seem to provide it (sources.list entry misspelt?)\nReading package lists... Done\nBuilding dependency tree... Done\nReading state information... Done\ntesseract-ocr is already the newest version (4.1.1-2.1build1).\nThe following additional packages will be installed:\n  libpoppler-dev libpoppler-private-dev libpoppler118\nThe following NEW packages will be installed:\n  poppler-utils tesseract-ocr-ben\nThe following packages will be upgraded:\n  libpoppler-dev libpoppler-private-dev libpoppler118\n3 upgraded, 2 newly installed, 0 to remove and 140 not upgraded.\nNeed to get 1,977 kB of archives.\nAfter this operation, 1,567 kB of additional disk space will be used.\nGet:1 http://archive.ubuntu.com/ubuntu jammy-updates/main amd64 libpoppler-private-dev amd64 22.02.0-2ubuntu0.6 [199 kB]\nGet:2 http://archive.ubuntu.com/ubuntu jammy-updates/main amd64 libpoppler-dev amd64 22.02.0-2ubuntu0.6 [5,184 B]\nGet:3 http://archive.ubuntu.com/ubuntu jammy-updates/main amd64 libpoppler118 amd64 22.02.0-2ubuntu0.6 [1,071 kB]\nGet:4 http://archive.ubuntu.com/ubuntu jammy-updates/main amd64 poppler-utils amd64 22.02.0-2ubuntu0.6 [186 kB]\nGet:5 http://archive.ubuntu.com/ubuntu jammy/universe amd64 tesseract-ocr-ben all 1:4.00~git30-7274cfa-1.1 [516 kB]\nFetched 1,977 kB in 1s (2,784 kB/s)        \n(Reading database ... 127400 files and directories currently installed.)\nPreparing to unpack .../libpoppler-private-dev_22.02.0-2ubuntu0.6_amd64.deb ...\nUnpacking libpoppler-private-dev:amd64 (22.02.0-2ubuntu0.6) over (22.02.0-2ubuntu0.5) ...\nPreparing to unpack .../libpoppler-dev_22.02.0-2ubuntu0.6_amd64.deb ...\nUnpacking libpoppler-dev:amd64 (22.02.0-2ubuntu0.6) over (22.02.0-2ubuntu0.5) ...\nPreparing to unpack .../libpoppler118_22.02.0-2ubuntu0.6_amd64.deb ...\nUnpacking libpoppler118:amd64 (22.02.0-2ubuntu0.6) over (22.02.0-2ubuntu0.5) ...\nSelecting previously unselected package poppler-utils.\nPreparing to unpack .../poppler-utils_22.02.0-2ubuntu0.6_amd64.deb ...\nUnpacking poppler-utils (22.02.0-2ubuntu0.6) ...\nSelecting previously unselected package tesseract-ocr-ben.\nPreparing to unpack .../tesseract-ocr-ben_1%3a4.00~git30-7274cfa-1.1_all.deb ...\nUnpacking tesseract-ocr-ben (1:4.00~git30-7274cfa-1.1) ...\nSetting up tesseract-ocr-ben (1:4.00~git30-7274cfa-1.1) ...\nSetting up libpoppler118:amd64 (22.02.0-2ubuntu0.6) ...\nSetting up poppler-utils (22.02.0-2ubuntu0.6) ...\nSetting up libpoppler-dev:amd64 (22.02.0-2ubuntu0.6) ...\nSetting up libpoppler-private-dev:amd64 (22.02.0-2ubuntu0.6) ...\nProcessing triggers for man-db (2.10.2-1) ...\nProcessing triggers for libc-bin (2.35-0ubuntu3.4) ...\n/sbin/ldconfig.real: /usr/local/lib/libtcm.so.1 is not a symbolic link\n\n/sbin/ldconfig.real: /usr/local/lib/libumf.so.0 is not a symbolic link\n\n/sbin/ldconfig.real: /usr/local/lib/libtcm_debug.so.1 is not a symbolic link\n\n/sbin/ldconfig.real: /usr/local/lib/libhwloc.so.15 is not a symbolic link\n\n/sbin/ldconfig.real: /usr/local/lib/libur_loader.so.0 is not a symbolic link\n\n/sbin/ldconfig.real: /usr/local/lib/libur_adapter_level_zero.so.0 is not a symbolic link\n\n/sbin/ldconfig.real: /usr/local/lib/libur_adapter_opencl.so.0 is not a symbolic link\n\n/sbin/ldconfig.real: /usr/local/lib/libtbbbind_2_5.so.3 is not a symbolic link\n\n/sbin/ldconfig.real: /usr/local/lib/libtbbbind_2_0.so.3 is not a symbolic link\n\n/sbin/ldconfig.real: /usr/local/lib/libtbb.so.12 is not a symbolic link\n\n/sbin/ldconfig.real: /usr/local/lib/libtbbmalloc_proxy.so.2 is not a symbolic link\n\n/sbin/ldconfig.real: /usr/local/lib/libtbbmalloc.so.2 is not a symbolic link\n\n/sbin/ldconfig.real: /usr/local/lib/libtbbbind.so.3 is not a symbolic link\n\nRequirement already satisfied: pdf2image in /usr/local/lib/python3.10/dist-packages (1.17.0)\nRequirement already satisfied: pytesseract in /usr/local/lib/python3.10/dist-packages (0.3.13)\nRequirement already satisfied: pillow in /usr/local/lib/python3.10/dist-packages (from pdf2image) (11.0.0)\nRequirement already satisfied: packaging>=21.3 in /usr/local/lib/python3.10/dist-packages (from pytesseract) (24.2)\n",
          "output_type": "stream"
        }
      ],
      "execution_count": null
    },
    {
      "cell_type": "code",
      "source": [
        "from pdf2image import convert_from_path\n",
        "import pytesseract\n",
        "\n",
        "# Paths\n",
        "pdf_path = \"/kaggle/input/nlp-bangla-fuler-bibah-page/Page1.pdf\"  # Your PDF file\n",
        "bengali_text = \"\"  # Initialize as empty string to store extracted text\n",
        "\n",
        "# Convert PDF pages to images\n",
        "images = convert_from_path(pdf_path)\n",
        "\n",
        "# Extract text from each image\n",
        "for img in images:\n",
        "    text = pytesseract.image_to_string(img, lang=\"ben\")  # Extract Bengali text\n",
        "    bengali_text += text + \"\\n\"  # Append extracted text from each page\n",
        "\n",
        "# Output the extracted text\n",
        "print(bengali_text)\n"
      ],
      "metadata": {
        "trusted": true,
        "execution": {
          "iopub.status.busy": "2025-03-02T05:06:04.544385Z",
          "iopub.execute_input": "2025-03-02T05:06:04.544701Z",
          "iopub.status.idle": "2025-03-02T05:06:07.426247Z",
          "shell.execute_reply.started": "2025-03-02T05:06:04.544666Z",
          "shell.execute_reply": "2025-03-02T05:06:07.425360Z"
        },
        "id": "EDZkS4I52h8o",
        "outputId": "9bf6a86e-745d-46d6-cc65-629864f9c3fa"
      },
      "outputs": [
        {
          "name": "stdout",
          "text": "ফুলের বিবাহ\n\nবঙ্কিমচন্দ্র চট্টোপাধ্যায়\n\n[লেখক-পরিচিতি : বঙ্কিমচন্দ্র চট্টোপাধ্যায় ২৬শে জুন ১৮৩৮ সালে পশ্চিমবঙ্গের চব্বিশ পরগনা জেলার\nঅন্তর্গত কীঠালপাড়া গ্রামে জন্মগ্রহণ করেন। তিনি ১৮৫৮ সালে কলকাতা বিশ্ববিদ্যালয় থেকে বি.এ.পরীক্ষায়\nউত্তীর্ণ হন এবং সে বছরই ডেপুটি ম্যাজিস্ট্রেট ও ডেপুটি কালেক্টর পদে চাকরিতে নিযুক্ত হন। বঙ্কিমচন্দ্র\nতেত্রিশ বছর একই পদে চাকরি করে ১৮৯১ সালে অবসর গ্রহণ করেন। তিনি পাঠ্যাবস্থায়ই সাহিত্যচর্চা\nশুরু করেন। তার অসামান্য কৃতিত্‌ প্রকাশ পেয়েছে পাশ্চাত্য ভাবাদর্শে বাংলা উপন্যাস রচনার পথিকৃৎ হিসেবে ।\n১৮৬৫ সালে প্রকাশিত তীর প্রথম বাংলা উপন্যাস দুর্েশনন্দিনী বাংলা কথাসাহিত্যে এক নবদিগন্ত উন্মোচন\nকরে। তার অন্যান্য উপন্যাস হলো :কপালকৃওলা, মৃণালিনী, বিষবৃক্ষ, ইন্দিরা, যুগলাঙগুরীয়, রাধারানী, চন্দ্রশেখর,\nরজনী, কৃষ্ণকান্তের উইল, রাজসিংহ, আনন্দমঠ, দেবী চৌধুরানী ও সীতারাম। প্রবন্ধ সাহিত্যেও বঙ্কিমচন্দ্র\nকৃতিত্ব দেখিয়েছেন। কমলাকান্তের দণ্ডর, লোকরহস্য, কৃষ্ণ চরিত্র ইত্যাদি তার উল্লেখযোগ্য প্রবন্ধগ্রস্থ।\nবঙ্কিমচন্দ্র চট্টোপাধ্যায় ১৮৯৪ সালের ৮ই এপ্রিল মৃত্যুবরণ করেন |]\n\nবৈশাখ মাস বিবাহের মাস। আমি ১লা বৈশাখে নসী বাবুর ফুলবাগানে বসিয়া একটি বিবাহ\nদেখিলাম । ভবিষ্যৎ বরকন্যাদিগের শিক্ষার্থ লিখিয়া রাখিতেছি।\n\nমন্িকা ফুলের বিবাহ। বৈকাল-শৈশব অবসানপ্রায়, কলিকা-কন্যা বিবাহযোগ্যা হইয়া আসিল । কন্যার\nপিতা বড়লোক নহে, ক্ষুদ্র বৃক্ষ, তাহাতে আবার অনেকগুলি কন্যাভারগ্রস্ত। সম্বন্ধের অনেক কথা\nহইতেছিল, কিন্ত কোনটা স্থির হয় নাই। উদ্যানের রাজা স্থলপদ্র নির্দোষ পাত্র বটে, কিন্ত ঘর বড় উচু,\nস্থলপদ্ম অত দূর নামিল না। জবা এ বিবাহে অসম্মত ছিল না, কিন্তু জবা বড় রাগী, কন্যাকতা\nপিছাইলেন । গন্ধরাজ পাত্র ভালো, কিন্তু বড় দেমাগ, প্রায় তাহার বর পাওয়া যায় না। এইরূপ\nঅব্যবস্থার সময়ে ভ্রমররাজ ঘটক হইয়া মল্পিকা- বৃক্ষসদনে উপস্থিত হইলেন। তিনি আসিয়া বলিলেন,\n'শুণ্‌ !গুণ্‌ ! গুণ্‌ মেয়ে আছে?\n\nপাতা নাড়িয়া সায় দিলেন, “আছে! ভ্রমর পত্রাসন গ্রহণ করিয়া বলিলেন, “গুণ্‌ গুণ্‌ গুণ্‌!\nগুণ্‌ গ্ণাগুণৃ! মেয়ে দেখিব।\"\n\nবৃক্ষ, শাখা নত করিয়া মুদিতনয়না অবগ্ুপ্ঠনবতী কন্যা দেখাইলেন।\nভ্রমর একবার বৃক্ষকে প্রদক্ষিণ করিয়া আসিয়া বলিলেন, গুণৃ! গুণৃ ! গুণৃ! গুণ দেখিতে চাই। ঘোমটা খোল ।”\n\nলজ্জাশীলা কন্যা কিছুতেই ঘোম্টা খুলে না। বৃক্ষ বলিলেন, “আমার মেয়েগুলি বড় লাজুক । তুমি\nএকটু অপেক্ষা কর, আমি মুখ দেখাইতেছি।”\n\n২০১৮\n\f\n\n",
          "output_type": "stream"
        }
      ],
      "execution_count": null
    },
    {
      "cell_type": "code",
      "source": [
        "from pdf2image import convert_from_path\n",
        "import pytesseract\n",
        "\n",
        "pdf_path = \"/kaggle/input/nlp-bangla-fuler-bibah-page/Page1.pdf\"  # Your copied PDF file\n",
        "images = convert_from_path(pdf_path)  # Convert PDF pages to images\n",
        "\n",
        "bengali_text = \"\"  # Initialize as empty string\n",
        "for img in images:\n",
        "    text = pytesseract.image_to_string(img, lang=\"ben\")  # Extract Bengali text\n",
        "    bengali_text += text + \"\\n\"\n",
        "\n",
        "print(bengali_text)  # Output the extracted text\n"
      ],
      "metadata": {
        "trusted": true,
        "execution": {
          "iopub.status.busy": "2025-03-02T05:06:13.602955Z",
          "iopub.execute_input": "2025-03-02T05:06:13.603552Z",
          "iopub.status.idle": "2025-03-02T05:06:16.025643Z",
          "shell.execute_reply.started": "2025-03-02T05:06:13.603520Z",
          "shell.execute_reply": "2025-03-02T05:06:16.024699Z"
        },
        "id": "v_NRNrqU2h8p",
        "outputId": "19867cb6-d00d-4702-84c6-1ed4c8fecb10"
      },
      "outputs": [
        {
          "name": "stdout",
          "text": "ফুলের বিবাহ\n\nবঙ্কিমচন্দ্র চট্টোপাধ্যায়\n\n[লেখক-পরিচিতি : বঙ্কিমচন্দ্র চট্টোপাধ্যায় ২৬শে জুন ১৮৩৮ সালে পশ্চিমবঙ্গের চব্বিশ পরগনা জেলার\nঅন্তর্গত কীঠালপাড়া গ্রামে জন্মগ্রহণ করেন। তিনি ১৮৫৮ সালে কলকাতা বিশ্ববিদ্যালয় থেকে বি.এ.পরীক্ষায়\nউত্তীর্ণ হন এবং সে বছরই ডেপুটি ম্যাজিস্ট্রেট ও ডেপুটি কালেক্টর পদে চাকরিতে নিযুক্ত হন। বঙ্কিমচন্দ্র\nতেত্রিশ বছর একই পদে চাকরি করে ১৮৯১ সালে অবসর গ্রহণ করেন। তিনি পাঠ্যাবস্থায়ই সাহিত্যচর্চা\nশুরু করেন। তার অসামান্য কৃতিত্‌ প্রকাশ পেয়েছে পাশ্চাত্য ভাবাদর্শে বাংলা উপন্যাস রচনার পথিকৃৎ হিসেবে ।\n১৮৬৫ সালে প্রকাশিত তীর প্রথম বাংলা উপন্যাস দুর্েশনন্দিনী বাংলা কথাসাহিত্যে এক নবদিগন্ত উন্মোচন\nকরে। তার অন্যান্য উপন্যাস হলো :কপালকৃওলা, মৃণালিনী, বিষবৃক্ষ, ইন্দিরা, যুগলাঙগুরীয়, রাধারানী, চন্দ্রশেখর,\nরজনী, কৃষ্ণকান্তের উইল, রাজসিংহ, আনন্দমঠ, দেবী চৌধুরানী ও সীতারাম। প্রবন্ধ সাহিত্যেও বঙ্কিমচন্দ্র\nকৃতিত্ব দেখিয়েছেন। কমলাকান্তের দণ্ডর, লোকরহস্য, কৃষ্ণ চরিত্র ইত্যাদি তার উল্লেখযোগ্য প্রবন্ধগ্রস্থ।\nবঙ্কিমচন্দ্র চট্টোপাধ্যায় ১৮৯৪ সালের ৮ই এপ্রিল মৃত্যুবরণ করেন |]\n\nবৈশাখ মাস বিবাহের মাস। আমি ১লা বৈশাখে নসী বাবুর ফুলবাগানে বসিয়া একটি বিবাহ\nদেখিলাম । ভবিষ্যৎ বরকন্যাদিগের শিক্ষার্থ লিখিয়া রাখিতেছি।\n\nমন্িকা ফুলের বিবাহ। বৈকাল-শৈশব অবসানপ্রায়, কলিকা-কন্যা বিবাহযোগ্যা হইয়া আসিল । কন্যার\nপিতা বড়লোক নহে, ক্ষুদ্র বৃক্ষ, তাহাতে আবার অনেকগুলি কন্যাভারগ্রস্ত। সম্বন্ধের অনেক কথা\nহইতেছিল, কিন্ত কোনটা স্থির হয় নাই। উদ্যানের রাজা স্থলপদ্র নির্দোষ পাত্র বটে, কিন্ত ঘর বড় উচু,\nস্থলপদ্ম অত দূর নামিল না। জবা এ বিবাহে অসম্মত ছিল না, কিন্তু জবা বড় রাগী, কন্যাকতা\nপিছাইলেন । গন্ধরাজ পাত্র ভালো, কিন্তু বড় দেমাগ, প্রায় তাহার বর পাওয়া যায় না। এইরূপ\nঅব্যবস্থার সময়ে ভ্রমররাজ ঘটক হইয়া মল্পিকা- বৃক্ষসদনে উপস্থিত হইলেন। তিনি আসিয়া বলিলেন,\n'শুণ্‌ !গুণ্‌ ! গুণ্‌ মেয়ে আছে?\n\nপাতা নাড়িয়া সায় দিলেন, “আছে! ভ্রমর পত্রাসন গ্রহণ করিয়া বলিলেন, “গুণ্‌ গুণ্‌ গুণ্‌!\nগুণ্‌ গ্ণাগুণৃ! মেয়ে দেখিব।\"\n\nবৃক্ষ, শাখা নত করিয়া মুদিতনয়না অবগ্ুপ্ঠনবতী কন্যা দেখাইলেন।\nভ্রমর একবার বৃক্ষকে প্রদক্ষিণ করিয়া আসিয়া বলিলেন, গুণৃ! গুণৃ ! গুণৃ! গুণ দেখিতে চাই। ঘোমটা খোল ।”\n\nলজ্জাশীলা কন্যা কিছুতেই ঘোম্টা খুলে না। বৃক্ষ বলিলেন, “আমার মেয়েগুলি বড় লাজুক । তুমি\nএকটু অপেক্ষা কর, আমি মুখ দেখাইতেছি।”\n\n২০১৮\n\f\n\n",
          "output_type": "stream"
        }
      ],
      "execution_count": null
    },
    {
      "cell_type": "code",
      "source": [
        "import os\n",
        "import json\n",
        "import shutil\n",
        "import subprocess\n",
        "from pdf2image import convert_from_path\n",
        "import pytesseract\n",
        "\n",
        "# Paths\n",
        "input_pdf = \"/kaggle/input/nlp-bangla-fuler-bibah-page/Page1.pdf\"\n",
        "writable_pdf = \"/kaggle/working/page1.pdf\"\n",
        "\n",
        "# Copy to writable directory\n",
        "shutil.copy(input_pdf, writable_pdf)\n",
        "\n",
        "def is_text_pdf(pdf_path):\n",
        "    \"\"\"Check if the PDF contains embedded text.\"\"\"\n",
        "    try:\n",
        "        output = subprocess.run([\"pdffonts\", pdf_path], capture_output=True, text=True)\n",
        "        return len(output.stdout.splitlines()) > 2  # If fonts exist, it's text-based\n",
        "    except Exception as e:\n",
        "        print(f\"Error checking PDF type: {e}\")\n",
        "        return False\n",
        "\n",
        "def extract_text_pdf(pdf_path, output_txt):\n",
        "    \"\"\"Extract text from a text-based PDF.\"\"\"\n",
        "    subprocess.run([\"pdftotext\", pdf_path, output_txt])\n",
        "    print(f\"Extracted text saved to {output_txt}\")\n",
        "\n",
        "def extract_text_ocr(pdf_path, output_json):\n",
        "    \"\"\"Extract text using OCR for a scanned PDF.\"\"\"\n",
        "    pages = convert_from_path(pdf_path, poppler_path=\"/usr/bin/\")\n",
        "    extracted_text = {}\n",
        "\n",
        "    for i, page in enumerate(pages):\n",
        "        text = pytesseract.image_to_string(page, lang=\"ben\")  # Bangla OCR\n",
        "        extracted_text[f\"page_{i+1}\"] = text.strip()\n",
        "\n",
        "    with open(output_json, \"w\", encoding=\"utf-8\") as f:\n",
        "        json.dump(extracted_text, f, ensure_ascii=False, indent=4)\n",
        "\n",
        "    print(f\"OCR extracted text saved to {output_json}\")\n",
        "\n",
        "# Determine PDF type and extract text\n",
        "output_text = \"/kaggle/working/raw_extracted.txt\"\n",
        "output_json = \"/kaggle/working/raw_extracted.json\"\n",
        "\n",
        "if is_text_pdf(writable_pdf):\n",
        "    extract_text_pdf(writable_pdf, output_text)\n",
        "else:\n",
        "    extract_text_ocr(writable_pdf, output_json)\n"
      ],
      "metadata": {
        "trusted": true,
        "execution": {
          "iopub.status.busy": "2025-03-02T05:06:21.024037Z",
          "iopub.execute_input": "2025-03-02T05:06:21.024379Z",
          "iopub.status.idle": "2025-03-02T05:06:23.532628Z",
          "shell.execute_reply.started": "2025-03-02T05:06:21.024351Z",
          "shell.execute_reply": "2025-03-02T05:06:23.531710Z"
        },
        "id": "Li0_vf2d2h8q",
        "outputId": "f2abc05a-493b-4ffd-ea5b-f88182c3411a"
      },
      "outputs": [
        {
          "name": "stdout",
          "text": "OCR extracted text saved to /kaggle/working/raw_extracted.json\n",
          "output_type": "stream"
        }
      ],
      "execution_count": null
    },
    {
      "cell_type": "code",
      "source": [
        "from pdf2image import convert_from_path\n",
        "import pytesseract\n",
        "import json\n",
        "import os\n",
        "\n",
        "# Define paths\n",
        "pdf_path = \"/kaggle/input/nlp-bangla-fuler-bibah-page/Page1.pdf\"  # Update with the correct PDF path\n",
        "output_json = \"/kaggle/working/raw_extracted.json\"\n",
        "\n",
        "# Convert PDF to images\n",
        "try:\n",
        "    pages = convert_from_path(pdf_path, poppler_path=\"/usr/bin/\")\n",
        "    extracted_text = {}\n",
        "\n",
        "    # Process each page\n",
        "    for i, page in enumerate(pages):\n",
        "        text = pytesseract.image_to_string(page, lang=\"ben\")  # Bangla OCR\n",
        "        print(f\"Processing page {i+1}: {text[:200]}...\")  # Preview first 200 characters\n",
        "        extracted_text[f\"page_{i+1}\"] = text.strip()\n",
        "\n",
        "    if not extracted_text:\n",
        "        print(\"No text was extracted from OCR.\")\n",
        "    else:\n",
        "        # Save the extracted text to JSON\n",
        "        try:\n",
        "            with open(output_json, \"w\", encoding=\"utf-8\") as f:\n",
        "                json.dump(extracted_text, f, ensure_ascii=False, indent=4)\n",
        "            print(f\"OCR extracted text saved to {output_json}\")\n",
        "        except Exception as e:\n",
        "            print(f\"Error saving OCR output: {e}\")\n",
        "except Exception as e:\n",
        "    print(f\"Error during PDF processing: {e}\")\n"
      ],
      "metadata": {
        "trusted": true,
        "execution": {
          "iopub.status.busy": "2025-03-02T05:06:27.446720Z",
          "iopub.execute_input": "2025-03-02T05:06:27.447044Z",
          "iopub.status.idle": "2025-03-02T05:06:29.845457Z",
          "shell.execute_reply.started": "2025-03-02T05:06:27.447015Z",
          "shell.execute_reply": "2025-03-02T05:06:29.844580Z"
        },
        "id": "xGi4KXlY2h8r",
        "outputId": "7a6046f7-7a97-4b43-eae4-d7c7e7c06611"
      },
      "outputs": [
        {
          "name": "stdout",
          "text": "Processing page 1: ফুলের বিবাহ\n\nবঙ্কিমচন্দ্র চট্টোপাধ্যায়\n\n[লেখক-পরিচিতি : বঙ্কিমচন্দ্র চট্টোপাধ্যায় ২৬শে জুন ১৮৩৮ সালে পশ্চিমবঙ্গের চব্বিশ পরগনা জেলার\nঅন্তর্গত কীঠালপাড়া গ্রামে জন্মগ্রহণ করেন। তিনি ১৮৫৮ সালে কলকাতা ...\nOCR extracted text saved to /kaggle/working/raw_extracted.json\n",
          "output_type": "stream"
        }
      ],
      "execution_count": null
    },
    {
      "cell_type": "code",
      "source": [
        "import os\n",
        "import json\n",
        "import subprocess\n",
        "from pdf2image import convert_from_path\n",
        "import pytesseract\n",
        "\n",
        "# Define paths\n",
        "input_pdf = \"/kaggle/input/nlp-bangla-fuler-bibah-page/Page1.pdf\"  # Replace with your actual PDF path\n",
        "output_json = \"/kaggle/working/raw_extracted.json\"\n",
        "output_txt = \"/kaggle/working/raw_extracted.txt\"\n",
        "\n",
        "def is_text_pdf(pdf_path):\n",
        "    \"\"\"Check if the PDF contains embedded text.\"\"\"\n",
        "    try:\n",
        "        output = subprocess.run([\"pdffonts\", pdf_path], capture_output=True, text=True)\n",
        "        return len(output.stdout.splitlines()) > 2  # If fonts exist, it's text-based\n",
        "    except Exception as e:\n",
        "        print(f\"Error checking PDF type: {e}\")\n",
        "        return False\n",
        "\n",
        "def extract_text_pdf(pdf_path, output_txt):\n",
        "    \"\"\"Extract text from a text-based PDF using pdftotext.\"\"\"\n",
        "    subprocess.run([\"pdftotext\", pdf_path, output_txt])\n",
        "    print(f\"Extracted text saved to {output_txt}\")\n",
        "\n",
        "def extract_text_ocr(pdf_path, output_json):\n",
        "    \"\"\"Extract text using OCR for a scanned PDF.\"\"\"\n",
        "    pages = convert_from_path(pdf_path, poppler_path=\"/usr/bin/\")\n",
        "    extracted_text = {}\n",
        "\n",
        "    for i, page in enumerate(pages):\n",
        "        text = pytesseract.image_to_string(page, lang=\"ben\")  # Bangla OCR\n",
        "        extracted_text[f\"page_{i+1}\"] = text.strip()\n",
        "\n",
        "    with open(output_json, \"w\", encoding=\"utf-8\") as f:\n",
        "        json.dump(extracted_text, f, ensure_ascii=False, indent=4)\n",
        "\n",
        "    print(f\"OCR extracted text saved to {output_json}\")\n",
        "\n",
        "# Determine PDF type and extract text\n",
        "if is_text_pdf(input_pdf):\n",
        "    extract_text_pdf(input_pdf, output_txt)\n",
        "else:\n",
        "    extract_text_ocr(input_pdf, output_json)\n",
        "\n"
      ],
      "metadata": {
        "trusted": true,
        "execution": {
          "iopub.status.busy": "2025-03-02T05:06:34.875912Z",
          "iopub.execute_input": "2025-03-02T05:06:34.876232Z",
          "iopub.status.idle": "2025-03-02T05:06:37.330177Z",
          "shell.execute_reply.started": "2025-03-02T05:06:34.876188Z",
          "shell.execute_reply": "2025-03-02T05:06:37.329310Z"
        },
        "id": "ZBI-8pvq2h8r",
        "outputId": "01bf885c-7001-4243-ca17-d7e300ba0907"
      },
      "outputs": [
        {
          "name": "stdout",
          "text": "OCR extracted text saved to /kaggle/working/raw_extracted.json\n",
          "output_type": "stream"
        }
      ],
      "execution_count": null
    },
    {
      "cell_type": "code",
      "source": [
        "from pdf2image import convert_from_path\n",
        "import pytesseract\n",
        "import json\n",
        "import os\n",
        "\n",
        "# Define paths\n",
        "pdf_path = \"/kaggle/working/page1.pdf\"\n",
        "output_json = \"/kaggle/working/raw_extracted.json\"\n",
        "\n",
        "# Ensure Poppler path is set correctly for your environment (for Kaggle, it's often '/usr/bin')\n",
        "poppler_path = \"/usr/bin/\"\n",
        "\n",
        "# Convert PDF to images (with explicit poppler_path)\n",
        "try:\n",
        "    pages = convert_from_path(pdf_path, poppler_path=poppler_path)\n",
        "    extracted_text = {}\n",
        "\n",
        "    # Process each page\n",
        "    for i, page in enumerate(pages):\n",
        "        text = pytesseract.image_to_string(page, lang=\"ben\")  # Bangla OCR\n",
        "        print(f\"Processing page {i+1}: {text[:200]}...\")  # Preview first 200 characters\n",
        "        extracted_text[f\"page_{i+1}\"] = text.strip()\n",
        "\n",
        "    if not extracted_text:\n",
        "        print(\"No text was extracted from OCR.\")\n",
        "    else:\n",
        "        # Save the extracted text to JSON\n",
        "        with open(output_json, \"w\", encoding=\"utf-8\") as f:\n",
        "            json.dump(extracted_text, f, ensure_ascii=False, indent=4)\n",
        "        print(f\"OCR extracted text saved to {output_json}\")\n",
        "except Exception as e:\n",
        "    print(f\"Error during PDF processing: {e}\")\n"
      ],
      "metadata": {
        "trusted": true,
        "execution": {
          "iopub.status.busy": "2025-03-02T05:06:41.914162Z",
          "iopub.execute_input": "2025-03-02T05:06:41.914502Z",
          "iopub.status.idle": "2025-03-02T05:06:44.426286Z",
          "shell.execute_reply.started": "2025-03-02T05:06:41.914480Z",
          "shell.execute_reply": "2025-03-02T05:06:44.425421Z"
        },
        "id": "sUA1DK7k2h8s",
        "outputId": "8ef5031e-9e0a-4798-a1ce-c92a61c02d84"
      },
      "outputs": [
        {
          "name": "stdout",
          "text": "Processing page 1: ফুলের বিবাহ\n\nবঙ্কিমচন্দ্র চট্টোপাধ্যায়\n\n[লেখক-পরিচিতি : বঙ্কিমচন্দ্র চট্টোপাধ্যায় ২৬শে জুন ১৮৩৮ সালে পশ্চিমবঙ্গের চব্বিশ পরগনা জেলার\nঅন্তর্গত কীঠালপাড়া গ্রামে জন্মগ্রহণ করেন। তিনি ১৮৫৮ সালে কলকাতা ...\nOCR extracted text saved to /kaggle/working/raw_extracted.json\n",
          "output_type": "stream"
        }
      ],
      "execution_count": null
    },
    {
      "cell_type": "markdown",
      "source": [
        "Task 3: Section/Chapter Segmentation\n",
        "Assigned to:"
      ],
      "metadata": {
        "id": "_dr7Z7Zs2h8t"
      }
    },
    {
      "cell_type": "code",
      "source": [
        "import json\n",
        "import re\n",
        "\n",
        "# Path to the extracted text from Task 2\n",
        "input_json = \"/kaggle/working/raw_extracted.json\"\n",
        "output_json = \"/kaggle/working/segmented_data.json\"\n",
        "\n",
        "# Load the extracted text from Task 2\n",
        "with open(input_json, \"r\", encoding=\"utf-8\") as f:\n",
        "    extracted_data = json.load(f)\n",
        "\n",
        "# Function to segment text into sections based on heading patterns\n",
        "def segment_text(text):\n",
        "    sections = []\n",
        "\n",
        "    # Define a simple regex for detecting headings (this can be refined)\n",
        "    heading_pattern = r'^[A-Z0-9\\s]+(?:\\.\\s*[A-Z0-9]+)*$'  # Headings in all caps or with numbers\n",
        "\n",
        "    # Split text into potential sections based on headings\n",
        "    sections_candidate = re.split(heading_pattern, text)\n",
        "\n",
        "    # Clean and store sections\n",
        "    for i, section in enumerate(sections_candidate):\n",
        "        if section.strip():  # Skip empty sections\n",
        "            sections.append({\n",
        "                \"section_id\": f\"section_{i+1:03}\",\n",
        "                \"content\": section.strip()\n",
        "            })\n",
        "\n",
        "    return sections\n",
        "\n",
        "# Process each page and segment the text\n",
        "segmented_data = {}\n",
        "\n",
        "for page, text in extracted_data.items():\n",
        "    # If OCR extraction failed, skip this page\n",
        "    if text == \"OCR_ERROR\":\n",
        "        segmented_data[page] = {\"error\": \"OCR failed on this page\"}\n",
        "        continue\n",
        "\n",
        "    # Segment the text for this page\n",
        "    sections = segment_text(text)\n",
        "    segmented_data[page] = {\"sections\": sections}\n",
        "\n",
        "# Save the segmented data to a JSON file\n",
        "with open(output_json, \"w\", encoding=\"utf-8\") as json_file:\n",
        "    json.dump(segmented_data, json_file, ensure_ascii=False, indent=4)\n",
        "\n",
        "print(f\"Segmentation complete. Data saved to {output_json}.\")\n"
      ],
      "metadata": {
        "trusted": true,
        "execution": {
          "iopub.status.busy": "2025-03-02T05:06:47.513351Z",
          "iopub.execute_input": "2025-03-02T05:06:47.513678Z",
          "iopub.status.idle": "2025-03-02T05:06:47.522915Z",
          "shell.execute_reply.started": "2025-03-02T05:06:47.513652Z",
          "shell.execute_reply": "2025-03-02T05:06:47.522064Z"
        },
        "id": "VNHTnCsT2h8t",
        "outputId": "bca90334-7c3b-49e6-c02d-e0ad2e1da0aa"
      },
      "outputs": [
        {
          "name": "stdout",
          "text": "Segmentation complete. Data saved to /kaggle/working/segmented_data.json.\n",
          "output_type": "stream"
        }
      ],
      "execution_count": null
    },
    {
      "cell_type": "markdown",
      "source": [
        "Task 4: Basic Cleanup & Formatting"
      ],
      "metadata": {
        "id": "dkaatXR12h8t"
      }
    },
    {
      "cell_type": "code",
      "source": [
        "import json\n",
        "import re\n",
        "\n",
        "# Paths\n",
        "input_json = \"/kaggle/working/segmented_data.json\"\n",
        "output_json = \"/kaggle/working/cleaned_segments.json\"\n",
        "\n",
        "# Load segmented data from Task 3\n",
        "with open(input_json, \"r\", encoding=\"utf-8\") as f:\n",
        "    segmented_data = json.load(f)\n",
        "\n",
        "# Function to clean text\n",
        "def clean_text(text):\n",
        "    # Ensure text is UTF-8 encoded (we assume input is UTF-8)\n",
        "    # Remove BOM if present\n",
        "    text = text.lstrip('\\ufeff')\n",
        "\n",
        "    # Remove extra spaces: leading, trailing, and multiple spaces between words\n",
        "    text = re.sub(r'\\s+', ' ', text).strip()  # Replace multiple spaces with single space\n",
        "\n",
        "    # Merge incorrect line breaks (i.e., lines that were split incorrectly)\n",
        "    text = re.sub(r'\\n+', ' ', text)  # Merge newlines into a single space\n",
        "\n",
        "    # Ensure paragraph boundaries (preserve newlines where appropriate)\n",
        "    text = re.sub(r'([।?!])\\s*', r'\\1\\n', text)  # Place newline after Bangla punctuation\n",
        "\n",
        "    # Remove invisible characters like zero-width spaces (if any)\n",
        "    text = re.sub(r'\\u200B', '', text)  # Zero-width space\n",
        "\n",
        "    return text\n",
        "\n",
        "# Clean the text for each section\n",
        "cleaned_data = {}\n",
        "\n",
        "for page, data in segmented_data.items():\n",
        "    if \"sections\" in data:\n",
        "        cleaned_sections = []\n",
        "\n",
        "        for section in data[\"sections\"]:\n",
        "            section_id = section[\"section_id\"]\n",
        "            content = section[\"content\"]\n",
        "\n",
        "            # Clean the content of each section\n",
        "            cleaned_content = clean_text(content)\n",
        "            cleaned_sections.append({\n",
        "                \"section_id\": section_id,\n",
        "                \"content\": cleaned_content\n",
        "            })\n",
        "\n",
        "        cleaned_data[page] = {\"sections\": cleaned_sections}\n",
        "    else:\n",
        "        # If there's an error in the page, retain the error message\n",
        "        cleaned_data[page] = {\"error\": data.get(\"error\", \"Unknown error\")}\n",
        "\n",
        "# Save the cleaned text to a new JSON file\n",
        "with open(output_json, \"w\", encoding=\"utf-8\") as json_file:\n",
        "    json.dump(cleaned_data, json_file, ensure_ascii=False, indent=4)\n",
        "\n",
        "print(f\"Cleanup complete. Data saved to {output_json}.\")\n"
      ],
      "metadata": {
        "trusted": true,
        "execution": {
          "iopub.status.busy": "2025-03-02T05:06:52.209918Z",
          "iopub.execute_input": "2025-03-02T05:06:52.210237Z",
          "iopub.status.idle": "2025-03-02T05:06:52.220085Z",
          "shell.execute_reply.started": "2025-03-02T05:06:52.210213Z",
          "shell.execute_reply": "2025-03-02T05:06:52.219220Z"
        },
        "id": "Hv9yjVUa2h8u",
        "outputId": "38adfb60-d022-4a42-a040-56c6daf143ad"
      },
      "outputs": [
        {
          "name": "stdout",
          "text": "Cleanup complete. Data saved to /kaggle/working/cleaned_segments.json.\n",
          "output_type": "stream"
        }
      ],
      "execution_count": null
    },
    {
      "cell_type": "code",
      "source": [
        "from pdf2image import convert_from_path\n",
        "import pytesseract\n",
        "import json\n",
        "import os\n",
        "\n",
        "# Define paths\n",
        "pdf_path = \"/kaggle/input/nlp-bangla-fuler-bibah-page/Page1.pdf\"  # Corrected PDF file path\n",
        "output_json = \"/kaggle/working/raw_extracted.json\"\n",
        "\n",
        "# Initialize the extracted_text variable\n",
        "extracted_text = {}\n",
        "\n",
        "try:\n",
        "    # Convert PDF to images\n",
        "    pages = convert_from_path(pdf_path, poppler_path=\"/usr/bin/\")  # Ensure poppler path is correct\n",
        "\n",
        "    # Process each page\n",
        "    for i, page in enumerate(pages):\n",
        "        try:\n",
        "            text = pytesseract.image_to_string(page, lang=\"ben\").strip()\n",
        "            extracted_text[f\"page_{i+1}\"] = text\n",
        "            print(f\"Processing page {i+1}: {text[:200]}...\")  # Preview first 200 characters\n",
        "        except Exception as e:\n",
        "            print(f\"Error processing page {i+1}: {e}\")\n",
        "            extracted_text[f\"page_{i+1}\"] = \"OCR_ERROR\"\n",
        "\n",
        "    # Save extracted text if it's valid\n",
        "    if extracted_text and any(text != \"OCR_ERROR\" for text in extracted_text.values()):\n",
        "        with open(output_json, \"w\", encoding=\"utf-8\") as f:\n",
        "            json.dump(extracted_text, f, ensure_ascii=False, indent=4)\n",
        "        print(f\"OCR extracted text saved to {output_json}\")\n",
        "    else:\n",
        "        print(\"No valid text was extracted. JSON file not created.\")\n",
        "\n",
        "except Exception as e:\n",
        "    print(f\"Error during PDF processing: {e}\")\n"
      ],
      "metadata": {
        "trusted": true,
        "execution": {
          "iopub.status.busy": "2025-03-02T05:06:57.833414Z",
          "iopub.execute_input": "2025-03-02T05:06:57.833702Z",
          "iopub.status.idle": "2025-03-02T05:07:00.240226Z",
          "shell.execute_reply.started": "2025-03-02T05:06:57.833680Z",
          "shell.execute_reply": "2025-03-02T05:07:00.239291Z"
        },
        "id": "8OsN49cn2h8u",
        "outputId": "77d938ec-bebf-4f11-ab49-a8fb06b03142"
      },
      "outputs": [
        {
          "name": "stdout",
          "text": "Processing page 1: ফুলের বিবাহ\n\nবঙ্কিমচন্দ্র চট্টোপাধ্যায়\n\n[লেখক-পরিচিতি : বঙ্কিমচন্দ্র চট্টোপাধ্যায় ২৬শে জুন ১৮৩৮ সালে পশ্চিমবঙ্গের চব্বিশ পরগনা জেলার\nঅন্তর্গত কীঠালপাড়া গ্রামে জন্মগ্রহণ করেন। তিনি ১৮৫৮ সালে কলকাতা ...\nOCR extracted text saved to /kaggle/working/raw_extracted.json\n",
          "output_type": "stream"
        }
      ],
      "execution_count": null
    },
    {
      "cell_type": "code",
      "source": [
        "import json\n",
        "import re\n",
        "\n",
        "# Load extracted text\n",
        "input_file = \"raw_extracted.json\"\n",
        "output_file = \"segmented_data.json\"\n",
        "\n",
        "with open(input_file, \"r\", encoding=\"utf-8\") as f:\n",
        "    extracted_data = json.load(f)\n",
        "\n",
        "# Define segmentation rules (adjust regex based on document structure)\n",
        "heading_patterns = [\n",
        "    r\"^(?:CHAPTER|SECTION)\\s+\\d+\",  # English chapter/section headings\n",
        "    r\"^[০-৯]+\\.\",  # Bangla numbered sections (১., ২., etc.)\n",
        "    r\"^[A-Z\\s]+$\",  # All-uppercase headings\n",
        "]\n",
        "\n",
        "# Function to split text into sections\n",
        "def segment_text(text):\n",
        "    sections = []\n",
        "    current_section = \"\"\n",
        "\n",
        "    lines = text.split(\"\\n\")\n",
        "    for line in lines:\n",
        "        if any(re.match(pattern, line.strip()) for pattern in heading_patterns):\n",
        "            if current_section:\n",
        "                sections.append(current_section.strip())\n",
        "            current_section = line.strip()\n",
        "        else:\n",
        "            current_section += \" \" + line.strip()\n",
        "\n",
        "    if current_section:\n",
        "        sections.append(current_section.strip())\n",
        "\n",
        "    return sections\n",
        "\n",
        "# Process each page and segment text\n",
        "segmented_data = {}\n",
        "for page, text in extracted_data.items():\n",
        "    segmented_data[page] = {\"sections\": segment_text(text)}\n",
        "\n",
        "# Save segmented data\n",
        "with open(output_file, \"w\", encoding=\"utf-8\") as json_file:\n",
        "    json.dump(segmented_data, json_file, ensure_ascii=False, indent=4)\n",
        "\n",
        "print(f\"Segmentation complete. Output saved to '{output_file}'.\")\n"
      ],
      "metadata": {
        "trusted": true,
        "execution": {
          "iopub.status.busy": "2025-03-02T05:07:07.722992Z",
          "iopub.execute_input": "2025-03-02T05:07:07.723351Z",
          "iopub.status.idle": "2025-03-02T05:07:07.731967Z",
          "shell.execute_reply.started": "2025-03-02T05:07:07.723319Z",
          "shell.execute_reply": "2025-03-02T05:07:07.731113Z"
        },
        "id": "SnGCXdJa2h8u",
        "outputId": "c397841d-2422-4e04-be58-3e2316b7e991"
      },
      "outputs": [
        {
          "name": "stdout",
          "text": "Segmentation complete. Output saved to 'segmented_data.json'.\n",
          "output_type": "stream"
        }
      ],
      "execution_count": null
    },
    {
      "cell_type": "code",
      "source": [
        "import json\n",
        "import re\n",
        "\n",
        "# Load segmented data\n",
        "input_file = \"segmented_data.json\"  # Replace with the actual path to your segmented data\n",
        "output_file = \"cleaned_segments.json\"  # Path where cleaned data will be saved\n",
        "\n",
        "# Load the segmented data from the JSON file\n",
        "with open(input_file, \"r\", encoding=\"utf-8\") as f:\n",
        "    segmented_data = json.load(f)\n",
        "\n",
        "# Ensure UTF-8 encoding\n",
        "def ensure_utf8_encoding(text):\n",
        "    \"\"\"Ensure the text is valid UTF-8 and handle any non-UTF-8 characters gracefully.\"\"\"\n",
        "    return text.encode(\"utf-8\", errors=\"ignore\").decode(\"utf-8\")\n",
        "\n",
        "# Remove unwanted spaces and merge broken lines\n",
        "def clean_spaces(text):\n",
        "    \"\"\"Strip leading/trailing spaces and replace multiple newlines with a single space.\"\"\"\n",
        "    text = text.strip()\n",
        "    text = re.sub(r\"\\n+\", \" \", text)  # Merge split lines into one space\n",
        "    return text\n",
        "\n",
        "# Preserve paragraphs using double newline as separator\n",
        "def preserve_paragraphs(text):\n",
        "    \"\"\"Ensure paragraphs are separated by double newlines.\"\"\"\n",
        "    text = re.sub(r\"\\n{2,}\", \"\\n\\n\", text)  # Ensure paragraph boundaries\n",
        "    return text\n",
        "\n",
        "# Normalize Bangla punctuation\n",
        "def handle_special_characters(text):\n",
        "    \"\"\"Remove invisible characters (e.g., zero-width spaces) and normalize punctuation.\"\"\"\n",
        "    text = re.sub(r\"[\\u200B\\u200C\\u200D\\u200E\\u200F\\u202A-\\u202E\\u2060-\\u2064]+\", \"\", text)  # Remove invisible characters\n",
        "    text = re.sub(r\" ?([।ঃ,]) ?\", r\"\\1 \", text)  # Ensure correct spacing around Bangla punctuation\n",
        "    return text.strip()\n",
        "\n",
        "# Clean and reformat text\n",
        "cleaned_segments = {}\n",
        "\n",
        "for page, page_data in segmented_data.items():\n",
        "    if \"sections\" not in page_data:\n",
        "        continue\n",
        "\n",
        "    cleaned_sections = []\n",
        "    for section in page_data[\"sections\"]:\n",
        "        # Skip empty sections\n",
        "        if not section.strip():\n",
        "            continue\n",
        "\n",
        "        # Apply all cleaning steps\n",
        "        section = ensure_utf8_encoding(section)\n",
        "        section = clean_spaces(section)\n",
        "        section = preserve_paragraphs(section)\n",
        "        section = handle_special_characters(section)\n",
        "        cleaned_sections.append(section)\n",
        "\n",
        "    cleaned_segments[page] = {\"sections\": cleaned_sections}\n",
        "\n",
        "# Save cleaned text\n",
        "with open(output_file, \"w\", encoding=\"utf-8\") as json_file:\n",
        "    json.dump(cleaned_segments, json_file, ensure_ascii=False, indent=4)\n",
        "\n",
        "print(f\"Text cleanup complete. Output saved to '{output_file}'.\")\n"
      ],
      "metadata": {
        "trusted": true,
        "execution": {
          "iopub.status.busy": "2025-03-02T05:07:13.302162Z",
          "iopub.execute_input": "2025-03-02T05:07:13.302498Z",
          "iopub.status.idle": "2025-03-02T05:07:13.313036Z",
          "shell.execute_reply.started": "2025-03-02T05:07:13.302475Z",
          "shell.execute_reply": "2025-03-02T05:07:13.312166Z"
        },
        "id": "yFHbBKLN2h8v",
        "outputId": "0cf6ea9c-919f-4590-da9f-5edf99a9c9b2"
      },
      "outputs": [
        {
          "name": "stdout",
          "text": "Text cleanup complete. Output saved to 'cleaned_segments.json'.\n",
          "output_type": "stream"
        }
      ],
      "execution_count": null
    },
    {
      "cell_type": "markdown",
      "source": [
        "Task 5: Text Normalization & Spell Checking"
      ],
      "metadata": {
        "id": "FpBCYyGG2h8v"
      }
    },
    {
      "cell_type": "code",
      "source": [
        "import json\n",
        "import re\n",
        "import csv\n",
        "import string\n",
        "import unicodedata\n",
        "import os\n",
        "\n",
        "# Define paths\n",
        "input_file = \"cleaned_segments.json\"  # Path to your cleaned text file\n",
        "output_file = \"normalized_text.json\"  # Path to save the normalized text\n",
        "correction_log_file = \"correction_log.csv\"  # Path to save the correction log\n",
        "\n",
        "# Check if the input file exists\n",
        "if not os.path.isfile(input_file):\n",
        "    print(f\"Error: The file '{input_file}' was not found.\")\n",
        "else:\n",
        "    # Load the cleaned segmented data from the JSON file\n",
        "    with open(input_file, \"r\", encoding=\"utf-8\") as f:\n",
        "        cleaned_data = json.load(f)\n",
        "\n",
        "    # Define common OCR errors and their corrections\n",
        "    common_errors = {\n",
        "        \"কৃওলা\": \"কুণ্ডলা\",\n",
        "        \"কপালকৃওলা\": \"কপালকুণ্ডলা\",\n",
        "        \"বিষবৃক্ষ\": \"বিষবৃক্ষ\",  # Correct as is, no change needed\n",
        "        \"তীর\": \"তাঁর\",\n",
        "        \"দুর্েশনন্দিনী\": \"দুর্গেশনন্দিনী\",\n",
        "        \"অসামান্য কৃতিত্\": \"অসামান্য কৃতিত্ব\",\n",
        "        \"প্রবন্ধগ্রস্থ\": \"প্রবন্ধগ্রন্থ\",\n",
        "        \"গ্ণাগুণৃ\": \"গুণাগুণ\",\n",
        "        \"দণ্ডর\": \"দণ্ড\",\n",
        "        \"অবগ্ুপ্ঠনবতী\": \"অবগুণ্ঠনবতী\",\n",
        "        \"স্থলপদ্র\": \"স্থলপদ্ম\",\n",
        "        \"কন্যাকতা\": \"কন্যাকান্তা\",\n",
        "        \"কলিকা-কন্যা\": \"কলিকা কন্যা\",\n",
        "        \"মল্পিকা\": \"মল্লিকা\",\n",
        "    }\n",
        "\n",
        "    # Define stopwords for filtering\n",
        "    stopwords = [\n",
        "        \"এবং\", \"থেকে\", \"হয়\", \"নাহি\", \"কিন্তু\", \"থাক\", \"করিয়া\",\n",
        "        \"হবে\", \"ছিল\", \"এটি\", \"এই\", \"এমন\", \"তুমি\", \"আমি\", \"তার\",\n",
        "        \"নাহে\", \"অথবা\", \"করতে\", \"আমরা\", \"এমনকি\", \"দু\", \"একটি\",\n",
        "        \"নিজের\", \"তারৈ\", \"ঐ\", \"আপনি\", \"করিয়ে\", \"তত\", \"জন্য\",\n",
        "        \"যখন\", \"হত\", \"সেটাও\", \"করার\", \"ওঁদের\", \"শুধু\", \"তাহার\",\n",
        "        \"ওদের\", \"দেওয়ার\", \"নিজেই\", \"আমার\", \"দিলেন\", \"ফিরে\",\n",
        "        \"গেলে\", \"জানা\", \"আপনার\", \"তাঁর\", \"উপর\", \"তাকে\", \"রয়েছে\",\n",
        "        \"যাকে\", \"এঁরা\", \"তাদের\", \"সেই\", \"হবেন\", \"কোনও\", \"অনুযায়ী\",\n",
        "        \"যান\", \"তাও\", \"পরেও\", \"গিয়েছে\", \"অবধি\", \"কয়েকটি\", \"কাছ\",\n",
        "        \"করা\", \"চেয়ে\", \"কেউ\", \"নাগাদ\", \"করি\", \"বলেছেন\", \"নেওয়ার\",\n",
        "        \"কাউকে\", \"ভাবে\", \"দিকে\", \"তারপর\", \"যেমন\", \"ওখানে\", \"খুব\",\n",
        "        \"গুলি\", \"অর্থাত\", \"তো\", \"ছিলেন\", \"কোন\", \"পারেন\", \"হয়তো\",\n",
        "        \"বরং\", \"কেউই\", \"জনকে\", \"প্রভৃতি\", \"দুটো\", \"তাঁকে\", \"এখন\",\n",
        "        \"অন্য\", \"ওর\", \"ছিল\", \"ওকে\", \"তুলে\", \"দিয়েছে\", \"জানানো\",\n",
        "        \"ওঁরা\", \"এটাই\", \"তুমি\", \"করিতে\", \"তাহলে\", \"দেন\", \"বলে\",\n",
        "        \"যে\", \"হলেই\", \"এমনকী\", \"হল\", \"বহু\", \"বলল\", \"মধ্যেই\",\n",
        "        \"ধরে\", \"তাঁদের\", \"তেমন\", \"আই\", \"হইবে\", \"তাহাতে\", \"নেওয়া\",\n",
        "        \"যিনি\", \"এঁদের\", \"অনেকে\", \"হতে\", \"কে\", \"ধরা\", \"হইতে\",\n",
        "        \"করায়\", \"ব্যবহার\", \"থাকে\", \"বসে\", \"থাকেন\", \"থাকবে\",\n",
        "        \"স্বয়ং\", \"এরা\", \"দেয়\", \"নিয়ে\", \"কবে\", \"সবার\", \"দেখে\",\n",
        "        \"চলে\", \"যেতে\", \"ইত্যাদি\", \"সেখান\", \"চান\", \"অন্তত\", \"হবে\",\n",
        "        \"সেটাই\", \"পর্যন্ত\", \"মাধ্যমে\", \"এমন\", \"ভাবেই\", \"দিয়েছেন\",\n",
        "        \"ওরা\", \"করে\", \"তাতে\", \"এবং\", \"এতে\", \"ইহা\", \"জন্যওজে\",\n",
        "        \"সুতরাং\", \"আমাকে\", \"বিশেষ\", \"এসে\", \"করতে\", \"এখানেই\",\n",
        "        \"আমরা\", \"কিন্তু\", \"তিনি\", \"বিনা\", \"আজ\", \"কারও\", \"করিয়া\",\n",
        "        \"তা\", \"ছাড়া\", \"থেকে\", \"যারা\", \"হয়\", \"হওয়া\", \"এল\", \"মাত্র\",\n",
        "        \"ফের\", \"জানতে\", \"জানিয়ে\", \"বললেন\", \"মতোই\", \"সাথে\", \"কর\",\n",
        "        \"করেছেন\", \"করবেন\", \"হলে\", \"নাকি\", \"সঙ্গে\", \"আগামী\", \"এখনও\",\n",
        "        \"তাঁাহারা\", \"দিতে\", \"তাঁরা\", \"আগে\", \"আমাদের\", \"সেটি\", \"বলেন\",\n",
        "        \"স্পষ্ট\", \"কোনো\", \"হোক\", \"থাকবেন\", \"জন\", \"করছেন\", \"অবশ্য\",\n",
        "        \"গিয়ে\", \"হয়নি\", \"এখানে\", \"করবে\", \"কিছু\", \"হওয়ায়\", \"কখনও\",\n",
        "        \"যাদের\", \"বার\", \"হয়ে\", \"পারি\", \"জানিয়েছে\", \"আদ্যভাগে\", \"আরও\", \"মতো\",\n",
        "        \"যায়\", \"যাওয়ার\", \"কিংবা\", \"যদি\", \"পরেই\", \"জনের\", \"হিসাবে\",\n",
        "        \"এস\", \"দুটি\", \"জানায়\", \"গোটা\", \"যাওয়া\", \"তথা\", \"সমস্ত\",\n",
        "        \"যদিও\", \"করাই\", \"হতেই\", \"হয়েছেন\", \"নয়\", \"বিভিন্ন\",\n",
        "        \"বিষয়টি\", \"রকম\", \"অনেক\", \"করেছিলেন\", \"উপরে\", \"এ\", \"এদের\",\n",
        "        \"উনি\", \"হয়\", \"সব\", \"পরে\", \"প্রতি\", \"যার\", \"মধ্যেও\", \"মোটেই\",\n",
        "        \"এই\", \"বা\", \"বেশ\", \"পারে\", \"যতটা\", \"অনেকেই\", \"যাচ্ছে\",\n",
        "        \"অথচ\", \"অতএব\", \"একই\", \"দেখা\", \"চায়\", \"আছে\", \"থাকায়\",\n",
        "        \"যথেষ্ট\", \"কী\", \"তাহা\", \"রাখা\", \"ওঁর\", \"সেখানে\", \"সম্প্রতি\",\n",
        "        \"তিনঐ\", \"উচিত\", \"হওয়ার\", \"ফলে\", \"ওই\", \"কেন\", \"থাকা\", \"এটা\"\n",
        "    ]\n",
        "\n",
        "    # Function to remove zero-width characters\n",
        "    def remove_zero_width(text):\n",
        "        return re.sub(r\"[\\u200B\\u200C\\u200D\\u200E\\u200F]\", \"\", text)\n",
        "\n",
        "    # Function to remove punctuation\n",
        "    def remove_punctuation(text):\n",
        "        return text.translate(str.maketrans(\"\", \"\", string.punctuation))\n",
        "\n",
        "    # Function to normalize Unicode characters\n",
        "    def normalize_unicode(text):\n",
        "        return unicodedata.normalize(\"NFC\", text)  # NFC (Normalization Form C) is often used for consistency\n",
        "\n",
        "    # Function to correct common OCR errors\n",
        "    def correct_spelling(text):\n",
        "        corrected_text = text\n",
        "        corrections = []  # Track changes\n",
        "        for incorrect, correct in common_errors.items():\n",
        "            if incorrect in text:\n",
        "                corrections.append((incorrect, correct))\n",
        "                corrected_text = re.sub(r\"\\b\" + re.escape(incorrect) + r\"\\b\", correct, corrected_text)\n",
        "        return corrected_text, corrections\n",
        "\n",
        "    # Function to apply normalization steps\n",
        "    def normalize_text(text):\n",
        "        text = remove_zero_width(text)  # Remove zero-width characters\n",
        "        text = remove_punctuation(text)  # Remove punctuation\n",
        "        text = normalize_unicode(text)   # Normalize Unicode characters\n",
        "        corrected_text, corrections = correct_spelling(text)  # Correct OCR errors\n",
        "        return corrected_text, corrections\n",
        "\n",
        "    # Process each page's sections\n",
        "    normalized_data = {}\n",
        "    correction_log = []\n",
        "\n",
        "    for page, page_data in cleaned_data.items():\n",
        "        if \"sections\" not in page_data:\n",
        "            continue\n",
        "\n",
        "        normalized_sections = []\n",
        "        for section in page_data[\"sections\"]:\n",
        "            # Apply normalization (spell check and remove zero-width characters, punctuation, and normalize Unicode)\n",
        "            normalized_section, corrections = normalize_text(section)\n",
        "            normalized_sections.append(normalized_section)\n",
        "\n",
        "            # Log corrections\n",
        "            correction_log.extend(corrections)\n",
        "\n",
        "        normalized_data[page] = {\"sections\": normalized_sections}\n",
        "\n",
        "    # Save the normalized text to a JSON file\n",
        "    with open(output_file, \"w\", encoding=\"utf-8\") as json_file:\n",
        "        json.dump(normalized_data, json_file, ensure_ascii=False, indent=4)\n",
        "\n",
        "    # Save the correction log to a CSV file\n",
        "    with open(correction_log_file, \"w\", newline='', encoding=\"utf-8\") as csv_file:\n",
        "        writer = csv.writer(csv_file)\n",
        "        writer.writerow([\"Original Text\", \"Corrected Text\"])  # CSV header\n",
        "        for original, corrected in correction_log:\n",
        "            writer.writerow([original, corrected])\n",
        "\n",
        "    print(f\"Normalization completed. Output saved to {output_file} and {correction_log_file}.\")\n"
      ],
      "metadata": {
        "trusted": true,
        "execution": {
          "iopub.status.busy": "2025-03-02T05:07:18.241398Z",
          "iopub.execute_input": "2025-03-02T05:07:18.241751Z",
          "iopub.status.idle": "2025-03-02T05:07:18.260598Z",
          "shell.execute_reply.started": "2025-03-02T05:07:18.241726Z",
          "shell.execute_reply": "2025-03-02T05:07:18.259634Z"
        },
        "id": "ifZufNqR2h8w",
        "outputId": "b4578bcc-989d-4501-9c88-b51032fee69f"
      },
      "outputs": [
        {
          "name": "stdout",
          "text": "Normalization completed. Output saved to normalized_text.json and correction_log.csv.\n",
          "output_type": "stream"
        }
      ],
      "execution_count": null
    },
    {
      "cell_type": "code",
      "source": [
        "pip install --upgrade scipy\n"
      ],
      "metadata": {
        "trusted": true,
        "execution": {
          "iopub.status.busy": "2025-03-02T05:07:25.823866Z",
          "iopub.execute_input": "2025-03-02T05:07:25.824165Z",
          "iopub.status.idle": "2025-03-02T05:07:35.336696Z",
          "shell.execute_reply.started": "2025-03-02T05:07:25.824143Z",
          "shell.execute_reply": "2025-03-02T05:07:35.335598Z"
        },
        "id": "eIhVc_f62h8x",
        "outputId": "93871ba0-bc8b-4d83-c601-bd3c112b8262"
      },
      "outputs": [
        {
          "name": "stdout",
          "text": "Requirement already satisfied: scipy in /usr/local/lib/python3.10/dist-packages (1.13.1)\nCollecting scipy\n  Downloading scipy-1.15.2-cp310-cp310-manylinux_2_17_x86_64.manylinux2014_x86_64.whl.metadata (61 kB)\n\u001b[2K     \u001b[90m━━━━━━━━━━━━━━━━━━━━━━━━━━━━━━━━━━━━━━━━\u001b[0m \u001b[32m62.0/62.0 kB\u001b[0m \u001b[31m2.4 MB/s\u001b[0m eta \u001b[36m0:00:00\u001b[0m\n\u001b[?25hRequirement already satisfied: numpy<2.5,>=1.23.5 in /usr/local/lib/python3.10/dist-packages (from scipy) (1.26.4)\nRequirement already satisfied: mkl_fft in /usr/local/lib/python3.10/dist-packages (from numpy<2.5,>=1.23.5->scipy) (1.3.8)\nRequirement already satisfied: mkl_random in /usr/local/lib/python3.10/dist-packages (from numpy<2.5,>=1.23.5->scipy) (1.2.4)\nRequirement already satisfied: mkl_umath in /usr/local/lib/python3.10/dist-packages (from numpy<2.5,>=1.23.5->scipy) (0.1.1)\nRequirement already satisfied: mkl in /usr/local/lib/python3.10/dist-packages (from numpy<2.5,>=1.23.5->scipy) (2025.0.1)\nRequirement already satisfied: tbb4py in /usr/local/lib/python3.10/dist-packages (from numpy<2.5,>=1.23.5->scipy) (2022.0.0)\nRequirement already satisfied: mkl-service in /usr/local/lib/python3.10/dist-packages (from numpy<2.5,>=1.23.5->scipy) (2.4.1)\nRequirement already satisfied: intel-openmp>=2024 in /usr/local/lib/python3.10/dist-packages (from mkl->numpy<2.5,>=1.23.5->scipy) (2024.2.0)\nRequirement already satisfied: tbb==2022.* in /usr/local/lib/python3.10/dist-packages (from mkl->numpy<2.5,>=1.23.5->scipy) (2022.0.0)\nRequirement already satisfied: tcmlib==1.* in /usr/local/lib/python3.10/dist-packages (from tbb==2022.*->mkl->numpy<2.5,>=1.23.5->scipy) (1.2.0)\nRequirement already satisfied: intel-cmplr-lib-rt in /usr/local/lib/python3.10/dist-packages (from mkl_umath->numpy<2.5,>=1.23.5->scipy) (2024.2.0)\nRequirement already satisfied: intel-cmplr-lib-ur==2024.2.0 in /usr/local/lib/python3.10/dist-packages (from intel-openmp>=2024->mkl->numpy<2.5,>=1.23.5->scipy) (2024.2.0)\nDownloading scipy-1.15.2-cp310-cp310-manylinux_2_17_x86_64.manylinux2014_x86_64.whl (37.6 MB)\n\u001b[2K   \u001b[90m━━━━━━━━━━━━━━━━━━━━━━━━━━━━━━━━━━━━━━━━\u001b[0m \u001b[32m37.6/37.6 MB\u001b[0m \u001b[31m50.1 MB/s\u001b[0m eta \u001b[36m0:00:00\u001b[0m:00:01\u001b[0m00:01\u001b[0m\n\u001b[?25hInstalling collected packages: scipy\n  Attempting uninstall: scipy\n    Found existing installation: scipy 1.13.1\n    Uninstalling scipy-1.13.1:\n      Successfully uninstalled scipy-1.13.1\n\u001b[31mERROR: pip's dependency resolver does not currently take into account all the packages that are installed. This behaviour is the source of the following dependency conflicts.\ngensim 4.3.3 requires scipy<1.14.0,>=1.7.0, but you have scipy 1.15.2 which is incompatible.\nmlxtend 0.23.3 requires scikit-learn>=1.3.1, but you have scikit-learn 1.2.2 which is incompatible.\nplotnine 0.14.4 requires matplotlib>=3.8.0, but you have matplotlib 3.7.5 which is incompatible.\u001b[0m\u001b[31m\n\u001b[0mSuccessfully installed scipy-1.15.2\nNote: you may need to restart the kernel to use updated packages.\n",
          "output_type": "stream"
        }
      ],
      "execution_count": null
    },
    {
      "cell_type": "code",
      "source": [
        "!pip install scipy==1.10.1\n",
        "!pip install gensim==4.3.1\n"
      ],
      "metadata": {
        "trusted": true,
        "execution": {
          "iopub.status.busy": "2025-03-02T05:07:39.378681Z",
          "iopub.execute_input": "2025-03-02T05:07:39.379001Z",
          "iopub.status.idle": "2025-03-02T05:07:52.208234Z",
          "shell.execute_reply.started": "2025-03-02T05:07:39.378973Z",
          "shell.execute_reply": "2025-03-02T05:07:52.207392Z"
        },
        "id": "O1Tz8S5X2h8y",
        "outputId": "fd50dcb9-1078-485b-99e0-376c1ac3a48a"
      },
      "outputs": [
        {
          "name": "stdout",
          "text": "Collecting scipy==1.10.1\n  Downloading scipy-1.10.1-cp310-cp310-manylinux_2_17_x86_64.manylinux2014_x86_64.whl.metadata (58 kB)\n\u001b[2K     \u001b[90m━━━━━━━━━━━━━━━━━━━━━━━━━━━━━━━━━━━━━━━━\u001b[0m \u001b[32m58.9/58.9 kB\u001b[0m \u001b[31m2.6 MB/s\u001b[0m eta \u001b[36m0:00:00\u001b[0m\n\u001b[?25hRequirement already satisfied: numpy<1.27.0,>=1.19.5 in /usr/local/lib/python3.10/dist-packages (from scipy==1.10.1) (1.26.4)\nRequirement already satisfied: mkl_fft in /usr/local/lib/python3.10/dist-packages (from numpy<1.27.0,>=1.19.5->scipy==1.10.1) (1.3.8)\nRequirement already satisfied: mkl_random in /usr/local/lib/python3.10/dist-packages (from numpy<1.27.0,>=1.19.5->scipy==1.10.1) (1.2.4)\nRequirement already satisfied: mkl_umath in /usr/local/lib/python3.10/dist-packages (from numpy<1.27.0,>=1.19.5->scipy==1.10.1) (0.1.1)\nRequirement already satisfied: mkl in /usr/local/lib/python3.10/dist-packages (from numpy<1.27.0,>=1.19.5->scipy==1.10.1) (2025.0.1)\nRequirement already satisfied: tbb4py in /usr/local/lib/python3.10/dist-packages (from numpy<1.27.0,>=1.19.5->scipy==1.10.1) (2022.0.0)\nRequirement already satisfied: mkl-service in /usr/local/lib/python3.10/dist-packages (from numpy<1.27.0,>=1.19.5->scipy==1.10.1) (2.4.1)\nRequirement already satisfied: intel-openmp>=2024 in /usr/local/lib/python3.10/dist-packages (from mkl->numpy<1.27.0,>=1.19.5->scipy==1.10.1) (2024.2.0)\nRequirement already satisfied: tbb==2022.* in /usr/local/lib/python3.10/dist-packages (from mkl->numpy<1.27.0,>=1.19.5->scipy==1.10.1) (2022.0.0)\nRequirement already satisfied: tcmlib==1.* in /usr/local/lib/python3.10/dist-packages (from tbb==2022.*->mkl->numpy<1.27.0,>=1.19.5->scipy==1.10.1) (1.2.0)\nRequirement already satisfied: intel-cmplr-lib-rt in /usr/local/lib/python3.10/dist-packages (from mkl_umath->numpy<1.27.0,>=1.19.5->scipy==1.10.1) (2024.2.0)\nRequirement already satisfied: intel-cmplr-lib-ur==2024.2.0 in /usr/local/lib/python3.10/dist-packages (from intel-openmp>=2024->mkl->numpy<1.27.0,>=1.19.5->scipy==1.10.1) (2024.2.0)\nDownloading scipy-1.10.1-cp310-cp310-manylinux_2_17_x86_64.manylinux2014_x86_64.whl (34.4 MB)\n\u001b[2K   \u001b[90m━━━━━━━━━━━━━━━━━━━━━━━━━━━━━━━━━━━━━━━━\u001b[0m \u001b[32m34.4/34.4 MB\u001b[0m \u001b[31m48.9 MB/s\u001b[0m eta \u001b[36m0:00:00\u001b[0m:00:01\u001b[0m00:01\u001b[0m\n\u001b[?25hInstalling collected packages: scipy\n  Attempting uninstall: scipy\n    Found existing installation: scipy 1.15.2\n    Uninstalling scipy-1.15.2:\n      Successfully uninstalled scipy-1.15.2\n\u001b[31mERROR: pip's dependency resolver does not currently take into account all the packages that are installed. This behaviour is the source of the following dependency conflicts.\nkaggle-environments 1.16.11 requires scipy>=1.11.2, but you have scipy 1.10.1 which is incompatible.\nmlxtend 0.23.3 requires scikit-learn>=1.3.1, but you have scikit-learn 1.2.2 which is incompatible.\nplotnine 0.14.4 requires matplotlib>=3.8.0, but you have matplotlib 3.7.5 which is incompatible.\nscikit-image 0.25.0 requires scipy>=1.11.2, but you have scipy 1.10.1 which is incompatible.\u001b[0m\u001b[31m\n\u001b[0mSuccessfully installed scipy-1.10.1\nCollecting gensim==4.3.1\n  Downloading gensim-4.3.1-cp310-cp310-manylinux_2_17_x86_64.manylinux2014_x86_64.whl.metadata (8.5 kB)\nRequirement already satisfied: numpy>=1.18.5 in /usr/local/lib/python3.10/dist-packages (from gensim==4.3.1) (1.26.4)\nRequirement already satisfied: scipy>=1.7.0 in /usr/local/lib/python3.10/dist-packages (from gensim==4.3.1) (1.10.1)\nRequirement already satisfied: smart-open>=1.8.1 in /usr/local/lib/python3.10/dist-packages (from gensim==4.3.1) (7.0.5)\nRequirement already satisfied: mkl_fft in /usr/local/lib/python3.10/dist-packages (from numpy>=1.18.5->gensim==4.3.1) (1.3.8)\nRequirement already satisfied: mkl_random in /usr/local/lib/python3.10/dist-packages (from numpy>=1.18.5->gensim==4.3.1) (1.2.4)\nRequirement already satisfied: mkl_umath in /usr/local/lib/python3.10/dist-packages (from numpy>=1.18.5->gensim==4.3.1) (0.1.1)\nRequirement already satisfied: mkl in /usr/local/lib/python3.10/dist-packages (from numpy>=1.18.5->gensim==4.3.1) (2025.0.1)\nRequirement already satisfied: tbb4py in /usr/local/lib/python3.10/dist-packages (from numpy>=1.18.5->gensim==4.3.1) (2022.0.0)\nRequirement already satisfied: mkl-service in /usr/local/lib/python3.10/dist-packages (from numpy>=1.18.5->gensim==4.3.1) (2.4.1)\nRequirement already satisfied: wrapt in /usr/local/lib/python3.10/dist-packages (from smart-open>=1.8.1->gensim==4.3.1) (1.17.0)\nRequirement already satisfied: intel-openmp>=2024 in /usr/local/lib/python3.10/dist-packages (from mkl->numpy>=1.18.5->gensim==4.3.1) (2024.2.0)\nRequirement already satisfied: tbb==2022.* in /usr/local/lib/python3.10/dist-packages (from mkl->numpy>=1.18.5->gensim==4.3.1) (2022.0.0)\nRequirement already satisfied: tcmlib==1.* in /usr/local/lib/python3.10/dist-packages (from tbb==2022.*->mkl->numpy>=1.18.5->gensim==4.3.1) (1.2.0)\nRequirement already satisfied: intel-cmplr-lib-rt in /usr/local/lib/python3.10/dist-packages (from mkl_umath->numpy>=1.18.5->gensim==4.3.1) (2024.2.0)\nRequirement already satisfied: intel-cmplr-lib-ur==2024.2.0 in /usr/local/lib/python3.10/dist-packages (from intel-openmp>=2024->mkl->numpy>=1.18.5->gensim==4.3.1) (2024.2.0)\nDownloading gensim-4.3.1-cp310-cp310-manylinux_2_17_x86_64.manylinux2014_x86_64.whl (26.4 MB)\n\u001b[2K   \u001b[90m━━━━━━━━━━━━━━━━━━━━━━━━━━━━━━━━━━━━━━━━\u001b[0m \u001b[32m26.4/26.4 MB\u001b[0m \u001b[31m56.4 MB/s\u001b[0m eta \u001b[36m0:00:00\u001b[0m:00:01\u001b[0m00:01\u001b[0m\n\u001b[?25hInstalling collected packages: gensim\n  Attempting uninstall: gensim\n    Found existing installation: gensim 4.3.3\n    Uninstalling gensim-4.3.3:\n      Successfully uninstalled gensim-4.3.3\nSuccessfully installed gensim-4.3.1\n",
          "output_type": "stream"
        }
      ],
      "execution_count": null
    },
    {
      "cell_type": "code",
      "source": [
        "pip install PyBangla\n"
      ],
      "metadata": {
        "trusted": true,
        "execution": {
          "iopub.status.busy": "2025-03-02T05:07:55.466738Z",
          "iopub.execute_input": "2025-03-02T05:07:55.467045Z",
          "iopub.status.idle": "2025-03-02T05:08:03.985785Z",
          "shell.execute_reply.started": "2025-03-02T05:07:55.467018Z",
          "shell.execute_reply": "2025-03-02T05:08:03.984917Z"
        },
        "id": "kIVOfsmq2h8z",
        "outputId": "8d3eacaa-03f7-4448-c092-beb9f7508ea8"
      },
      "outputs": [
        {
          "name": "stdout",
          "text": "Collecting PyBangla\n  Downloading pybangla-2.0.8-py3-none-any.whl.metadata (8.0 kB)\nCollecting DateTime (from PyBangla)\n  Downloading DateTime-5.5-py3-none-any.whl.metadata (33 kB)\nCollecting num2words (from PyBangla)\n  Downloading num2words-0.5.14-py3-none-any.whl.metadata (13 kB)\nCollecting python-Levenshtein (from PyBangla)\n  Downloading python_Levenshtein-0.26.1-py3-none-any.whl.metadata (3.7 kB)\nRequirement already satisfied: fuzzywuzzy in /usr/local/lib/python3.10/dist-packages (from PyBangla) (0.18.0)\nCollecting zope.interface (from DateTime->PyBangla)\n  Downloading zope.interface-7.2-cp310-cp310-manylinux_2_5_x86_64.manylinux1_x86_64.manylinux_2_17_x86_64.manylinux2014_x86_64.whl.metadata (44 kB)\n\u001b[2K     \u001b[90m━━━━━━━━━━━━━━━━━━━━━━━━━━━━━━━━━━━━━━━━\u001b[0m \u001b[32m44.4/44.4 kB\u001b[0m \u001b[31m2.5 MB/s\u001b[0m eta \u001b[36m0:00:00\u001b[0m\n\u001b[?25hRequirement already satisfied: pytz in /usr/local/lib/python3.10/dist-packages (from DateTime->PyBangla) (2025.1)\nCollecting docopt>=0.6.2 (from num2words->PyBangla)\n  Downloading docopt-0.6.2.tar.gz (25 kB)\n  Preparing metadata (setup.py) ... \u001b[?25l\u001b[?25hdone\nCollecting Levenshtein==0.26.1 (from python-Levenshtein->PyBangla)\n  Downloading levenshtein-0.26.1-cp310-cp310-manylinux_2_17_x86_64.manylinux2014_x86_64.whl.metadata (3.2 kB)\nCollecting rapidfuzz<4.0.0,>=3.9.0 (from Levenshtein==0.26.1->python-Levenshtein->PyBangla)\n  Downloading rapidfuzz-3.12.1-cp310-cp310-manylinux_2_17_x86_64.manylinux2014_x86_64.whl.metadata (11 kB)\nRequirement already satisfied: setuptools in /usr/local/lib/python3.10/dist-packages (from zope.interface->DateTime->PyBangla) (75.1.0)\nDownloading pybangla-2.0.8-py3-none-any.whl (43 kB)\n\u001b[2K   \u001b[90m━━━━━━━━━━━━━━━━━━━━━━━━━━━━━━━━━━━━━━━━\u001b[0m \u001b[32m43.5/43.5 kB\u001b[0m \u001b[31m2.8 MB/s\u001b[0m eta \u001b[36m0:00:00\u001b[0m\n\u001b[?25hDownloading DateTime-5.5-py3-none-any.whl (52 kB)\n\u001b[2K   \u001b[90m━━━━━━━━━━━━━━━━━━━━━━━━━━━━━━━━━━━━━━━━\u001b[0m \u001b[32m52.6/52.6 kB\u001b[0m \u001b[31m3.4 MB/s\u001b[0m eta \u001b[36m0:00:00\u001b[0m\n\u001b[?25hDownloading num2words-0.5.14-py3-none-any.whl (163 kB)\n\u001b[2K   \u001b[90m━━━━━━━━━━━━━━━━━━━━━━━━━━━━━━━━━━━━━━━━\u001b[0m \u001b[32m163.5/163.5 kB\u001b[0m \u001b[31m7.9 MB/s\u001b[0m eta \u001b[36m0:00:00\u001b[0m\n\u001b[?25hDownloading python_Levenshtein-0.26.1-py3-none-any.whl (9.4 kB)\nDownloading levenshtein-0.26.1-cp310-cp310-manylinux_2_17_x86_64.manylinux2014_x86_64.whl (162 kB)\n\u001b[2K   \u001b[90m━━━━━━━━━━━━━━━━━━━━━━━━━━━━━━━━━━━━━━━━\u001b[0m \u001b[32m162.6/162.6 kB\u001b[0m \u001b[31m12.8 MB/s\u001b[0m eta \u001b[36m0:00:00\u001b[0m\n\u001b[?25hDownloading zope.interface-7.2-cp310-cp310-manylinux_2_5_x86_64.manylinux1_x86_64.manylinux_2_17_x86_64.manylinux2014_x86_64.whl (254 kB)\n\u001b[2K   \u001b[90m━━━━━━━━━━━━━━━━━━━━━━━━━━━━━━━━━━━━━━━━\u001b[0m \u001b[32m254.5/254.5 kB\u001b[0m \u001b[31m15.0 MB/s\u001b[0m eta \u001b[36m0:00:00\u001b[0m\n\u001b[?25hDownloading rapidfuzz-3.12.1-cp310-cp310-manylinux_2_17_x86_64.manylinux2014_x86_64.whl (3.1 MB)\n\u001b[2K   \u001b[90m━━━━━━━━━━━━━━━━━━━━━━━━━━━━━━━━━━━━━━━━\u001b[0m \u001b[32m3.1/3.1 MB\u001b[0m \u001b[31m68.9 MB/s\u001b[0m eta \u001b[36m0:00:00\u001b[0m:00:01\u001b[0m\n\u001b[?25hBuilding wheels for collected packages: docopt\n  Building wheel for docopt (setup.py) ... \u001b[?25l\u001b[?25hdone\n  Created wheel for docopt: filename=docopt-0.6.2-py2.py3-none-any.whl size=13706 sha256=ef4c3f8fc542bca0230ccef2cb4980416503ea9f3806f55f2ce83a11235b6be3\n  Stored in directory: /root/.cache/pip/wheels/fc/ab/d4/5da2067ac95b36618c629a5f93f809425700506f72c9732fac\nSuccessfully built docopt\nInstalling collected packages: docopt, zope.interface, rapidfuzz, num2words, Levenshtein, DateTime, python-Levenshtein, PyBangla\nSuccessfully installed DateTime-5.5 Levenshtein-0.26.1 PyBangla-2.0.8 docopt-0.6.2 num2words-0.5.14 python-Levenshtein-0.26.1 rapidfuzz-3.12.1 zope.interface-7.2\nNote: you may need to restart the kernel to use updated packages.\n",
          "output_type": "stream"
        }
      ],
      "execution_count": null
    },
    {
      "cell_type": "code",
      "source": [
        "pip install bnlp-toolkit\n"
      ],
      "metadata": {
        "trusted": true,
        "execution": {
          "iopub.status.busy": "2025-03-02T05:08:08.282150Z",
          "iopub.execute_input": "2025-03-02T05:08:08.282483Z",
          "iopub.status.idle": "2025-03-02T05:08:16.434104Z",
          "shell.execute_reply.started": "2025-03-02T05:08:08.282457Z",
          "shell.execute_reply": "2025-03-02T05:08:16.433250Z"
        },
        "id": "U8nq_9Lc2h8z",
        "outputId": "d585b0b6-3f45-4247-ff94-b461a9678822"
      },
      "outputs": [
        {
          "name": "stdout",
          "text": "Collecting bnlp-toolkit\n  Downloading bnlp_toolkit-4.0.3-py3-none-any.whl.metadata (3.3 kB)\nRequirement already satisfied: sentencepiece==0.2.0 in /usr/local/lib/python3.10/dist-packages (from bnlp-toolkit) (0.2.0)\nCollecting gensim==4.3.2 (from bnlp-toolkit)\n  Downloading gensim-4.3.2-cp310-cp310-manylinux_2_17_x86_64.manylinux2014_x86_64.whl.metadata (8.4 kB)\nRequirement already satisfied: nltk in /usr/local/lib/python3.10/dist-packages (from bnlp-toolkit) (3.2.4)\nRequirement already satisfied: numpy in /usr/local/lib/python3.10/dist-packages (from bnlp-toolkit) (1.26.4)\nRequirement already satisfied: scipy==1.10.1 in /usr/local/lib/python3.10/dist-packages (from bnlp-toolkit) (1.10.1)\nCollecting sklearn-crfsuite==0.3.6 (from bnlp-toolkit)\n  Downloading sklearn_crfsuite-0.3.6-py2.py3-none-any.whl.metadata (3.8 kB)\nCollecting tqdm==4.66.3 (from bnlp-toolkit)\n  Downloading tqdm-4.66.3-py3-none-any.whl.metadata (57 kB)\n\u001b[2K     \u001b[90m━━━━━━━━━━━━━━━━━━━━━━━━━━━━━━━━━━━━━━━━\u001b[0m \u001b[32m57.6/57.6 kB\u001b[0m \u001b[31m1.6 MB/s\u001b[0m eta \u001b[36m0:00:00\u001b[0m\n\u001b[?25hCollecting ftfy==6.2.0 (from bnlp-toolkit)\n  Downloading ftfy-6.2.0-py3-none-any.whl.metadata (7.3 kB)\nCollecting emoji==1.7.0 (from bnlp-toolkit)\n  Downloading emoji-1.7.0.tar.gz (175 kB)\n\u001b[2K     \u001b[90m━━━━━━━━━━━━━━━━━━━━━━━━━━━━━━━━━━━━━━━━\u001b[0m \u001b[32m175.4/175.4 kB\u001b[0m \u001b[31m7.5 MB/s\u001b[0m eta \u001b[36m0:00:00\u001b[0m\n\u001b[?25h  Preparing metadata (setup.py) ... \u001b[?25l\u001b[?25hdone\nRequirement already satisfied: requests in /usr/local/lib/python3.10/dist-packages (from bnlp-toolkit) (2.32.3)\nRequirement already satisfied: wcwidth<0.3.0,>=0.2.12 in /usr/local/lib/python3.10/dist-packages (from ftfy==6.2.0->bnlp-toolkit) (0.2.13)\nRequirement already satisfied: smart-open>=1.8.1 in /usr/local/lib/python3.10/dist-packages (from gensim==4.3.2->bnlp-toolkit) (7.0.5)\nCollecting python-crfsuite>=0.8.3 (from sklearn-crfsuite==0.3.6->bnlp-toolkit)\n  Downloading python_crfsuite-0.9.11-cp310-cp310-manylinux_2_17_x86_64.manylinux2014_x86_64.whl.metadata (4.3 kB)\nRequirement already satisfied: six in /usr/local/lib/python3.10/dist-packages (from sklearn-crfsuite==0.3.6->bnlp-toolkit) (1.17.0)\nRequirement already satisfied: tabulate in /usr/local/lib/python3.10/dist-packages (from sklearn-crfsuite==0.3.6->bnlp-toolkit) (0.9.0)\nRequirement already satisfied: mkl_fft in /usr/local/lib/python3.10/dist-packages (from numpy->bnlp-toolkit) (1.3.8)\nRequirement already satisfied: mkl_random in /usr/local/lib/python3.10/dist-packages (from numpy->bnlp-toolkit) (1.2.4)\nRequirement already satisfied: mkl_umath in /usr/local/lib/python3.10/dist-packages (from numpy->bnlp-toolkit) (0.1.1)\nRequirement already satisfied: mkl in /usr/local/lib/python3.10/dist-packages (from numpy->bnlp-toolkit) (2025.0.1)\nRequirement already satisfied: tbb4py in /usr/local/lib/python3.10/dist-packages (from numpy->bnlp-toolkit) (2022.0.0)\nRequirement already satisfied: mkl-service in /usr/local/lib/python3.10/dist-packages (from numpy->bnlp-toolkit) (2.4.1)\nRequirement already satisfied: charset-normalizer<4,>=2 in /usr/local/lib/python3.10/dist-packages (from requests->bnlp-toolkit) (3.4.1)\nRequirement already satisfied: idna<4,>=2.5 in /usr/local/lib/python3.10/dist-packages (from requests->bnlp-toolkit) (3.10)\nRequirement already satisfied: urllib3<3,>=1.21.1 in /usr/local/lib/python3.10/dist-packages (from requests->bnlp-toolkit) (2.3.0)\nRequirement already satisfied: certifi>=2017.4.17 in /usr/local/lib/python3.10/dist-packages (from requests->bnlp-toolkit) (2025.1.31)\nRequirement already satisfied: wrapt in /usr/local/lib/python3.10/dist-packages (from smart-open>=1.8.1->gensim==4.3.2->bnlp-toolkit) (1.17.0)\nRequirement already satisfied: intel-openmp>=2024 in /usr/local/lib/python3.10/dist-packages (from mkl->numpy->bnlp-toolkit) (2024.2.0)\nRequirement already satisfied: tbb==2022.* in /usr/local/lib/python3.10/dist-packages (from mkl->numpy->bnlp-toolkit) (2022.0.0)\nRequirement already satisfied: tcmlib==1.* in /usr/local/lib/python3.10/dist-packages (from tbb==2022.*->mkl->numpy->bnlp-toolkit) (1.2.0)\nRequirement already satisfied: intel-cmplr-lib-rt in /usr/local/lib/python3.10/dist-packages (from mkl_umath->numpy->bnlp-toolkit) (2024.2.0)\nRequirement already satisfied: intel-cmplr-lib-ur==2024.2.0 in /usr/local/lib/python3.10/dist-packages (from intel-openmp>=2024->mkl->numpy->bnlp-toolkit) (2024.2.0)\nDownloading bnlp_toolkit-4.0.3-py3-none-any.whl (22 kB)\nDownloading ftfy-6.2.0-py3-none-any.whl (54 kB)\n\u001b[2K   \u001b[90m━━━━━━━━━━━━━━━━━━━━━━━━━━━━━━━━━━━━━━━━\u001b[0m \u001b[32m54.4/54.4 kB\u001b[0m \u001b[31m2.0 MB/s\u001b[0m eta \u001b[36m0:00:00\u001b[0m\n\u001b[?25hDownloading gensim-4.3.2-cp310-cp310-manylinux_2_17_x86_64.manylinux2014_x86_64.whl (26.5 MB)\n\u001b[2K   \u001b[90m━━━━━━━━━━━━━━━━━━━━━━━━━━━━━━━━━━━━━━━━\u001b[0m \u001b[32m26.5/26.5 MB\u001b[0m \u001b[31m62.8 MB/s\u001b[0m eta \u001b[36m0:00:00\u001b[0m:00:01\u001b[0m0:01\u001b[0mm\n\u001b[?25hDownloading sklearn_crfsuite-0.3.6-py2.py3-none-any.whl (12 kB)\nDownloading tqdm-4.66.3-py3-none-any.whl (78 kB)\n\u001b[2K   \u001b[90m━━━━━━━━━━━━━━━━━━━━━━━━━━━━━━━━━━━━━━━━\u001b[0m \u001b[32m78.4/78.4 kB\u001b[0m \u001b[31m5.7 MB/s\u001b[0m eta \u001b[36m0:00:00\u001b[0m\n\u001b[?25hDownloading python_crfsuite-0.9.11-cp310-cp310-manylinux_2_17_x86_64.manylinux2014_x86_64.whl (1.2 MB)\n\u001b[2K   \u001b[90m━━━━━━━━━━━━━━━━━━━━━━━━━━━━━━━━━━━━━━━━\u001b[0m \u001b[32m1.2/1.2 MB\u001b[0m \u001b[31m42.4 MB/s\u001b[0m eta \u001b[36m0:00:00\u001b[0m\n\u001b[?25hBuilding wheels for collected packages: emoji\n  Building wheel for emoji (setup.py) ... \u001b[?25l\u001b[?25hdone\n  Created wheel for emoji: filename=emoji-1.7.0-py3-none-any.whl size=171033 sha256=d11cd54827f5781ef72f837358621cc0664bf90d0cb7fd40565efce9c5597404\n  Stored in directory: /root/.cache/pip/wheels/31/8a/8c/315c9e5d7773f74b33d5ed33f075b49c6eaeb7cedbb86e2cf8\nSuccessfully built emoji\nInstalling collected packages: emoji, tqdm, python-crfsuite, ftfy, sklearn-crfsuite, gensim, bnlp-toolkit\n  Attempting uninstall: emoji\n    Found existing installation: emoji 2.14.1\n    Uninstalling emoji-2.14.1:\n      Successfully uninstalled emoji-2.14.1\n  Attempting uninstall: tqdm\n    Found existing installation: tqdm 4.67.1\n    Uninstalling tqdm-4.67.1:\n      Successfully uninstalled tqdm-4.67.1\n  Attempting uninstall: gensim\n    Found existing installation: gensim 4.3.1\n    Uninstalling gensim-4.3.1:\n      Successfully uninstalled gensim-4.3.1\nSuccessfully installed bnlp-toolkit-4.0.3 emoji-1.7.0 ftfy-6.2.0 gensim-4.3.2 python-crfsuite-0.9.11 sklearn-crfsuite-0.3.6 tqdm-4.66.3\nNote: you may need to restart the kernel to use updated packages.\n",
          "output_type": "stream"
        }
      ],
      "execution_count": null
    },
    {
      "cell_type": "code",
      "source": [
        "pip install bnltk\n"
      ],
      "metadata": {
        "trusted": true,
        "execution": {
          "iopub.status.busy": "2025-03-02T05:08:18.423920Z",
          "iopub.execute_input": "2025-03-02T05:08:18.424304Z",
          "iopub.status.idle": "2025-03-02T05:09:33.685406Z",
          "shell.execute_reply.started": "2025-03-02T05:08:18.424267Z",
          "shell.execute_reply": "2025-03-02T05:09:33.684252Z"
        },
        "id": "1XxfL8_V2h80",
        "outputId": "59bc8508-62cb-42d5-fab5-d8b10690fdd4"
      },
      "outputs": [
        {
          "name": "stdout",
          "text": "Collecting bnltk\n  Downloading bnltk-0.7.8-py3-none-any.whl.metadata (5.1 kB)\nCollecting black==24.10.0 (from bnltk)\n  Downloading black-24.10.0-cp310-cp310-manylinux_2_17_x86_64.manylinux2014_x86_64.manylinux_2_28_x86_64.whl.metadata (79 kB)\n\u001b[2K     \u001b[90m━━━━━━━━━━━━━━━━━━━━━━━━━━━━━━━━━━━━━━━━\u001b[0m \u001b[32m79.2/79.2 kB\u001b[0m \u001b[31m3.5 MB/s\u001b[0m eta \u001b[36m0:00:00\u001b[0m\n\u001b[?25hCollecting keras==3.6.0 (from bnltk)\n  Downloading keras-3.6.0-py3-none-any.whl.metadata (5.8 kB)\nCollecting numpy==2.0.2 (from bnltk)\n  Downloading numpy-2.0.2-cp310-cp310-manylinux_2_17_x86_64.manylinux2014_x86_64.whl.metadata (60 kB)\n\u001b[2K     \u001b[90m━━━━━━━━━━━━━━━━━━━━━━━━━━━━━━━━━━━━━━━━\u001b[0m \u001b[32m60.9/60.9 kB\u001b[0m \u001b[31m1.9 MB/s\u001b[0m eta \u001b[36m0:00:00\u001b[0m\n\u001b[?25hRequirement already satisfied: requests==2.32.3 in /usr/local/lib/python3.10/dist-packages (from bnltk) (2.32.3)\nCollecting scikit-learn==1.5.2 (from bnltk)\n  Downloading scikit_learn-1.5.2-cp310-cp310-manylinux_2_17_x86_64.manylinux2014_x86_64.whl.metadata (13 kB)\nCollecting tensorflow==2.18.0 (from bnltk)\n  Downloading tensorflow-2.18.0-cp310-cp310-manylinux_2_17_x86_64.manylinux2014_x86_64.whl.metadata (4.1 kB)\nRequirement already satisfied: click>=8.0.0 in /usr/local/lib/python3.10/dist-packages (from black==24.10.0->bnltk) (8.1.7)\nRequirement already satisfied: mypy-extensions>=0.4.3 in /usr/local/lib/python3.10/dist-packages (from black==24.10.0->bnltk) (1.0.0)\nRequirement already satisfied: packaging>=22.0 in /usr/local/lib/python3.10/dist-packages (from black==24.10.0->bnltk) (24.2)\nCollecting pathspec>=0.9.0 (from black==24.10.0->bnltk)\n  Downloading pathspec-0.12.1-py3-none-any.whl.metadata (21 kB)\nRequirement already satisfied: platformdirs>=2 in /usr/local/lib/python3.10/dist-packages (from black==24.10.0->bnltk) (4.3.6)\nRequirement already satisfied: tomli>=1.1.0 in /usr/local/lib/python3.10/dist-packages (from black==24.10.0->bnltk) (2.2.1)\nRequirement already satisfied: typing-extensions>=4.0.1 in /usr/local/lib/python3.10/dist-packages (from black==24.10.0->bnltk) (4.12.2)\nRequirement already satisfied: absl-py in /usr/local/lib/python3.10/dist-packages (from keras==3.6.0->bnltk) (1.4.0)\nRequirement already satisfied: rich in /usr/local/lib/python3.10/dist-packages (from keras==3.6.0->bnltk) (13.9.4)\nRequirement already satisfied: namex in /usr/local/lib/python3.10/dist-packages (from keras==3.6.0->bnltk) (0.0.8)\nRequirement already satisfied: h5py in /usr/local/lib/python3.10/dist-packages (from keras==3.6.0->bnltk) (3.12.1)\nRequirement already satisfied: optree in /usr/local/lib/python3.10/dist-packages (from keras==3.6.0->bnltk) (0.13.1)\nRequirement already satisfied: ml-dtypes in /usr/local/lib/python3.10/dist-packages (from keras==3.6.0->bnltk) (0.4.1)\nRequirement already satisfied: charset-normalizer<4,>=2 in /usr/local/lib/python3.10/dist-packages (from requests==2.32.3->bnltk) (3.4.1)\nRequirement already satisfied: idna<4,>=2.5 in /usr/local/lib/python3.10/dist-packages (from requests==2.32.3->bnltk) (3.10)\nRequirement already satisfied: urllib3<3,>=1.21.1 in /usr/local/lib/python3.10/dist-packages (from requests==2.32.3->bnltk) (2.3.0)\nRequirement already satisfied: certifi>=2017.4.17 in /usr/local/lib/python3.10/dist-packages (from requests==2.32.3->bnltk) (2025.1.31)\nRequirement already satisfied: scipy>=1.6.0 in /usr/local/lib/python3.10/dist-packages (from scikit-learn==1.5.2->bnltk) (1.10.1)\nRequirement already satisfied: joblib>=1.2.0 in /usr/local/lib/python3.10/dist-packages (from scikit-learn==1.5.2->bnltk) (1.4.2)\nRequirement already satisfied: threadpoolctl>=3.1.0 in /usr/local/lib/python3.10/dist-packages (from scikit-learn==1.5.2->bnltk) (3.5.0)\nRequirement already satisfied: astunparse>=1.6.0 in /usr/local/lib/python3.10/dist-packages (from tensorflow==2.18.0->bnltk) (1.6.3)\nRequirement already satisfied: flatbuffers>=24.3.25 in /usr/local/lib/python3.10/dist-packages (from tensorflow==2.18.0->bnltk) (24.3.25)\nRequirement already satisfied: gast!=0.5.0,!=0.5.1,!=0.5.2,>=0.2.1 in /usr/local/lib/python3.10/dist-packages (from tensorflow==2.18.0->bnltk) (0.6.0)\nRequirement already satisfied: google-pasta>=0.1.1 in /usr/local/lib/python3.10/dist-packages (from tensorflow==2.18.0->bnltk) (0.2.0)\nRequirement already satisfied: libclang>=13.0.0 in /usr/local/lib/python3.10/dist-packages (from tensorflow==2.18.0->bnltk) (18.1.1)\nRequirement already satisfied: opt-einsum>=2.3.2 in /usr/local/lib/python3.10/dist-packages (from tensorflow==2.18.0->bnltk) (3.4.0)\nRequirement already satisfied: protobuf!=4.21.0,!=4.21.1,!=4.21.2,!=4.21.3,!=4.21.4,!=4.21.5,<6.0.0dev,>=3.20.3 in /usr/local/lib/python3.10/dist-packages (from tensorflow==2.18.0->bnltk) (3.20.3)\nRequirement already satisfied: setuptools in /usr/local/lib/python3.10/dist-packages (from tensorflow==2.18.0->bnltk) (75.1.0)\nRequirement already satisfied: six>=1.12.0 in /usr/local/lib/python3.10/dist-packages (from tensorflow==2.18.0->bnltk) (1.17.0)\nRequirement already satisfied: termcolor>=1.1.0 in /usr/local/lib/python3.10/dist-packages (from tensorflow==2.18.0->bnltk) (2.5.0)\nRequirement already satisfied: wrapt>=1.11.0 in /usr/local/lib/python3.10/dist-packages (from tensorflow==2.18.0->bnltk) (1.17.0)\nRequirement already satisfied: grpcio<2.0,>=1.24.3 in /usr/local/lib/python3.10/dist-packages (from tensorflow==2.18.0->bnltk) (1.68.1)\nCollecting tensorboard<2.19,>=2.18 (from tensorflow==2.18.0->bnltk)\n  Downloading tensorboard-2.18.0-py3-none-any.whl.metadata (1.6 kB)\nRequirement already satisfied: tensorflow-io-gcs-filesystem>=0.23.1 in /usr/local/lib/python3.10/dist-packages (from tensorflow==2.18.0->bnltk) (0.37.1)\nRequirement already satisfied: wheel<1.0,>=0.23.0 in /usr/local/lib/python3.10/dist-packages (from astunparse>=1.6.0->tensorflow==2.18.0->bnltk) (0.45.1)\nINFO: pip is looking at multiple versions of scipy to determine which version is compatible with other requirements. This could take a while.\nCollecting scipy>=1.6.0 (from scikit-learn==1.5.2->bnltk)\n  Using cached scipy-1.15.2-cp310-cp310-manylinux_2_17_x86_64.manylinux2014_x86_64.whl.metadata (61 kB)\nRequirement already satisfied: markdown>=2.6.8 in /usr/local/lib/python3.10/dist-packages (from tensorboard<2.19,>=2.18->tensorflow==2.18.0->bnltk) (3.7)\nRequirement already satisfied: tensorboard-data-server<0.8.0,>=0.7.0 in /usr/local/lib/python3.10/dist-packages (from tensorboard<2.19,>=2.18->tensorflow==2.18.0->bnltk) (0.7.2)\nRequirement already satisfied: werkzeug>=1.0.1 in /usr/local/lib/python3.10/dist-packages (from tensorboard<2.19,>=2.18->tensorflow==2.18.0->bnltk) (3.1.3)\nRequirement already satisfied: markdown-it-py>=2.2.0 in /usr/local/lib/python3.10/dist-packages (from rich->keras==3.6.0->bnltk) (3.0.0)\nRequirement already satisfied: pygments<3.0.0,>=2.13.0 in /usr/local/lib/python3.10/dist-packages (from rich->keras==3.6.0->bnltk) (2.19.1)\nRequirement already satisfied: mdurl~=0.1 in /usr/local/lib/python3.10/dist-packages (from markdown-it-py>=2.2.0->rich->keras==3.6.0->bnltk) (0.1.2)\nRequirement already satisfied: MarkupSafe>=2.1.1 in /usr/local/lib/python3.10/dist-packages (from werkzeug>=1.0.1->tensorboard<2.19,>=2.18->tensorflow==2.18.0->bnltk) (3.0.2)\nDownloading bnltk-0.7.8-py3-none-any.whl (15 kB)\nDownloading black-24.10.0-cp310-cp310-manylinux_2_17_x86_64.manylinux2014_x86_64.manylinux_2_28_x86_64.whl (1.8 MB)\n\u001b[2K   \u001b[90m━━━━━━━━━━━━━━━━━━━━━━━━━━━━━━━━━━━━━━━━\u001b[0m \u001b[32m1.8/1.8 MB\u001b[0m \u001b[31m37.7 MB/s\u001b[0m eta \u001b[36m0:00:00\u001b[0m00:01\u001b[0m\n\u001b[?25hDownloading keras-3.6.0-py3-none-any.whl (1.2 MB)\n\u001b[2K   \u001b[90m━━━━━━━━━━━━━━━━━━━━━━━━━━━━━━━━━━━━━━━━\u001b[0m \u001b[32m1.2/1.2 MB\u001b[0m \u001b[31m41.6 MB/s\u001b[0m eta \u001b[36m0:00:00\u001b[0m\n\u001b[?25hDownloading numpy-2.0.2-cp310-cp310-manylinux_2_17_x86_64.manylinux2014_x86_64.whl (19.5 MB)\n\u001b[2K   \u001b[90m━━━━━━━━━━━━━━━━━━━━━━━━━━━━━━━━━━━━━━━━\u001b[0m \u001b[32m19.5/19.5 MB\u001b[0m \u001b[31m91.2 MB/s\u001b[0m eta \u001b[36m0:00:00\u001b[0m:00:01\u001b[0m00:01\u001b[0m\n\u001b[?25hDownloading scikit_learn-1.5.2-cp310-cp310-manylinux_2_17_x86_64.manylinux2014_x86_64.whl (13.3 MB)\n\u001b[2K   \u001b[90m━━━━━━━━━━━━━━━━━━━━━━━━━━━━━━━━━━━━━━━━\u001b[0m \u001b[32m13.3/13.3 MB\u001b[0m \u001b[31m66.2 MB/s\u001b[0m eta \u001b[36m0:00:00\u001b[0m:00:01\u001b[0m00:01\u001b[0m\n\u001b[?25hDownloading tensorflow-2.18.0-cp310-cp310-manylinux_2_17_x86_64.manylinux2014_x86_64.whl (615.3 MB)\n\u001b[2K   \u001b[90m━━━━━━━━━━━━━━━━━━━━━━━━━━━━━━━━━━━━━━━━\u001b[0m \u001b[32m615.3/615.3 MB\u001b[0m \u001b[31m2.7 MB/s\u001b[0m eta \u001b[36m0:00:00\u001b[0m0:00:01\u001b[0m0:01\u001b[0mm\n\u001b[?25hDownloading pathspec-0.12.1-py3-none-any.whl (31 kB)\nUsing cached scipy-1.15.2-cp310-cp310-manylinux_2_17_x86_64.manylinux2014_x86_64.whl (37.6 MB)\nDownloading tensorboard-2.18.0-py3-none-any.whl (5.5 MB)\n\u001b[2K   \u001b[90m━━━━━━━━━━━━━━━━━━━━━━━━━━━━━━━━━━━━━━━━\u001b[0m \u001b[32m5.5/5.5 MB\u001b[0m \u001b[31m78.1 MB/s\u001b[0m eta \u001b[36m0:00:00\u001b[0m:00:01\u001b[0m00:01\u001b[0m\n\u001b[?25hInstalling collected packages: pathspec, numpy, tensorboard, scipy, black, scikit-learn, keras, tensorflow, bnltk\n  Attempting uninstall: numpy\n    Found existing installation: numpy 1.26.4\n    Uninstalling numpy-1.26.4:\n      Successfully uninstalled numpy-1.26.4\n  Attempting uninstall: tensorboard\n    Found existing installation: tensorboard 2.17.1\n    Uninstalling tensorboard-2.17.1:\n      Successfully uninstalled tensorboard-2.17.1\n  Attempting uninstall: scipy\n    Found existing installation: scipy 1.10.1\n    Uninstalling scipy-1.10.1:\n      Successfully uninstalled scipy-1.10.1\n  Attempting uninstall: scikit-learn\n    Found existing installation: scikit-learn 1.2.2\n    Uninstalling scikit-learn-1.2.2:\n      Successfully uninstalled scikit-learn-1.2.2\n  Attempting uninstall: keras\n    Found existing installation: keras 3.5.0\n    Uninstalling keras-3.5.0:\n      Successfully uninstalled keras-3.5.0\n  Attempting uninstall: tensorflow\n    Found existing installation: tensorflow 2.17.1\n    Uninstalling tensorflow-2.17.1:\n      Successfully uninstalled tensorflow-2.17.1\n\u001b[31mERROR: pip's dependency resolver does not currently take into account all the packages that are installed. This behaviour is the source of the following dependency conflicts.\nbnlp-toolkit 4.0.3 requires scipy==1.10.1, but you have scipy 1.15.2 which is incompatible.\ncatboost 1.2.7 requires numpy<2.0,>=1.16.0, but you have numpy 2.0.2 which is incompatible.\ncudf-cu12 24.12.0 requires pyarrow<19.0.0a0,>=14.0.0; platform_machine == \"x86_64\", but you have pyarrow 19.0.0 which is incompatible.\ncupy-cuda12x 12.2.0 requires numpy<1.27,>=1.20, but you have numpy 2.0.2 which is incompatible.\nlangchain 0.3.12 requires async-timeout<5.0.0,>=4.0.0; python_version < \"3.11\", but you have async-timeout 5.0.1 which is incompatible.\nlangchain 0.3.12 requires numpy<2,>=1.22.4; python_version < \"3.12\", but you have numpy 2.0.2 which is incompatible.\nmatplotlib 3.7.5 requires numpy<2,>=1.20, but you have numpy 2.0.2 which is incompatible.\nmkl-fft 1.3.8 requires numpy<1.27.0,>=1.26.4, but you have numpy 2.0.2 which is incompatible.\nmkl-random 1.2.4 requires numpy<1.27.0,>=1.26.4, but you have numpy 2.0.2 which is incompatible.\nmkl-umath 0.1.1 requires numpy<1.27.0,>=1.26.4, but you have numpy 2.0.2 which is incompatible.\npandas-gbq 0.25.0 requires google-api-core<3.0.0dev,>=2.10.2, but you have google-api-core 1.34.1 which is incompatible.\nplotnine 0.14.4 requires matplotlib>=3.8.0, but you have matplotlib 3.7.5 which is incompatible.\npytensor 2.26.4 requires numpy<2,>=1.17.0, but you have numpy 2.0.2 which is incompatible.\ntensorflow-decision-forests 1.10.0 requires tensorflow==2.17.0, but you have tensorflow 2.18.0 which is incompatible.\ntensorflow-text 2.17.0 requires tensorflow<2.18,>=2.17.0, but you have tensorflow 2.18.0 which is incompatible.\ntf-keras 2.17.0 requires tensorflow<2.18,>=2.17, but you have tensorflow 2.18.0 which is incompatible.\nthinc 8.2.5 requires numpy<2.0.0,>=1.19.0; python_version >= \"3.9\", but you have numpy 2.0.2 which is incompatible.\u001b[0m\u001b[31m\n\u001b[0mSuccessfully installed black-24.10.0 bnltk-0.7.8 keras-3.6.0 numpy-2.0.2 pathspec-0.12.1 scikit-learn-1.5.2 scipy-1.15.2 tensorboard-2.18.0 tensorflow-2.18.0\nNote: you may need to restart the kernel to use updated packages.\n",
          "output_type": "stream"
        }
      ],
      "execution_count": null
    },
    {
      "cell_type": "code",
      "source": [
        "import nltk\n",
        "from nltk.tokenize import word_tokenize, sent_tokenize\n",
        "import json\n",
        "\n",
        "# Ensure you have the necessary NLTK data\n",
        "nltk.download('punkt')\n",
        "\n",
        "# Load the normalized text data\n",
        "normalized_file = \"normalized_text.json\"  # Path to your normalized text file\n",
        "\n",
        "with open(normalized_file, \"r\", encoding=\"utf-8\") as file:\n",
        "    normalized_data = json.load(file)\n",
        "\n",
        "# Function to tokenize sentences and words\n",
        "def tokenize_text(normalized_data):\n",
        "    tokenized_data = {}\n",
        "\n",
        "    for page, page_data in normalized_data.items():\n",
        "        tokenized_page = {\"sentences\": []}\n",
        "        for section in page_data[\"sections\"]:\n",
        "            # Tokenize sentences\n",
        "            sentences = sent_tokenize(section)\n",
        "            # Tokenize each sentence into words\n",
        "            tokenized_sentences = [word_tokenize(sentence) for sentence in sentences]\n",
        "            tokenized_page[\"sentences\"].extend(tokenized_sentences)\n",
        "\n",
        "        tokenized_data[page] = tokenized_page\n",
        "\n",
        "    return tokenized_data\n",
        "\n",
        "# Tokenize the normalized text\n",
        "tokenized_data = tokenize_text(normalized_data)\n",
        "\n",
        "# Save tokenized data to a JSON file\n",
        "tokenized_file = \"tokenized_text.json\"\n",
        "with open(tokenized_file, \"w\", encoding=\"utf-8\") as file:\n",
        "    json.dump(tokenized_data, file, ensure_ascii=False, indent=4)\n",
        "\n",
        "print(f\"Tokenization complete. Tokenized data saved to '{tokenized_file}'.\")\n"
      ],
      "metadata": {
        "trusted": true,
        "execution": {
          "iopub.status.busy": "2025-03-02T05:09:49.733874Z",
          "iopub.execute_input": "2025-03-02T05:09:49.734243Z",
          "iopub.status.idle": "2025-03-02T05:09:49.744844Z",
          "shell.execute_reply.started": "2025-03-02T05:09:49.734213Z",
          "shell.execute_reply": "2025-03-02T05:09:49.744048Z"
        },
        "id": "y2Kj7cQq2h80",
        "outputId": "8f39fcc7-cab4-41b7-8c1a-1d7c3bf7cf92"
      },
      "outputs": [
        {
          "name": "stdout",
          "text": "[nltk_data] Downloading package punkt to /usr/share/nltk_data...\n[nltk_data]   Package punkt is already up-to-date!\nTokenization complete. Tokenized data saved to 'tokenized_text.json'.\n",
          "output_type": "stream"
        }
      ],
      "execution_count": null
    },
    {
      "cell_type": "code",
      "source": [
        "import json\n",
        "\n",
        "# Load tokenized data from a JSON file\n",
        "with open('tokenized_text.json', 'r', encoding='utf-8') as file:\n",
        "    tokenized_data = json.load(file)\n",
        "\n",
        "# Print the first 20 tokenized sentences\n",
        "print(\"\\n🔹 First 20 Tokenized Sentences:\\n\")\n",
        "count = 0\n",
        "for page, data in tokenized_data.items():\n",
        "    for sentence in data[\"sentences\"]:\n",
        "        print(\" \".join(sentence))  # Print tokenized sentence as a string\n",
        "        count += 1\n",
        "        if count == 20:  # Print only 20 sentences\n",
        "            break\n",
        "    if count == 20:\n",
        "        break  # Stop after printing 20 sentences\n"
      ],
      "metadata": {
        "trusted": true,
        "execution": {
          "iopub.status.busy": "2025-03-02T05:09:55.966315Z",
          "iopub.execute_input": "2025-03-02T05:09:55.966635Z",
          "iopub.status.idle": "2025-03-02T05:09:55.973113Z",
          "shell.execute_reply.started": "2025-03-02T05:09:55.966607Z",
          "shell.execute_reply": "2025-03-02T05:09:55.972266Z"
        },
        "id": "aMOcTWug2h81",
        "outputId": "62928683-a065-4aac-c39a-df259e6cbfc2"
      },
      "outputs": [
        {
          "name": "stdout",
          "text": "\n🔹 First 20 Tokenized Sentences:\n\nফুলের বিবাহ বঙ্কিমচন্দ্র চট্টোপাধ্যায় লেখকপরিচিতি বঙ্কিমচন্দ্র চট্টোপাধ্যায় ২৬শে জুন ১৮৩৮ সালে পশ্চিমবঙ্গের চব্বিশ পরগনা জেলার অন্তর্গত কীঠালপাড়া গ্রামে জন্মগ্রহণ করেন। তিনি ১৮৫৮ সালে কলকাতা বিশ্ববিদ্যালয় থেকে বিএপরীক্ষায় উত্তাঁর্ণ হন এবং সে বছরই ডেপুটি ম্যাজিস্ট্রেট ও ডেপুটি কালেক্টর পদে চাকরিতে নিযুক্ত হন। বঙ্কিমচন্দ্র তেত্রিশ বছর একই পদে চাকরি করে ১৮৯১ সালে অবসর গ্রহণ করেন। তিনি পাঠ্যাবস্থায়ই সাহিত্যচর্চা শুরু করেন। তার অসামান্য কৃতিত্ প্রকাশ পেয়েছে পাশ্চাত্য ভাবাদর্শে বাংলা উপন্যাস রচনার পথিকৃৎ হিসেবে। ১৮৬৫ সালে প্রকাশিত তাঁর প্রথম বাংলা উপন্যাস দুর্েশনন্দিনী বাংলা কথাসাহিত্যে এক নবদিগন্ত উন্মোচন করে। তার অন্যান্য উপন্যাস হলো কপালকৃওলা মৃণালিনী বিষবৃক্ষ ইন্দিরা যুগলাঙগুরীয় রাধারানী চন্দ্রশেখর রজনী কৃষ্ণকান্তের উইল রাজসিংহ আনন্দমঠ দেবী চৌধুরানী ও সীতারাম। প্রবন্ধ সাহিত্যেও বঙ্কিমচন্দ্র কৃতিত্ব দেখিয়েছেন। কমলাকান্তের দণ্ড লোকরহস্য কৃষ্ণ চরিত্র ইত্যাদি তার উল্লেখযোগ্য প্রবন্ধগ্রন্থ। বঙ্কিমচন্দ্র চট্টোপাধ্যায় ১৮৯৪ সালের ৮ই এপ্রিল মৃত্যুবরণ করেন বৈশাখ মাস বিবাহের মাস। আমি ১লা বৈশাখে নসী বাবুর ফুলবাগানে বসিয়া একটি বিবাহ দেখিলাম। ভবিষ্যৎ বরকন্যাদিগের শিক্ষার্থ লিখিয়া রাখিতেছি। মন্িকা ফুলের বিবাহ। বৈকালশৈশব অবসানপ্রায় কলিকাকন্যা বিবাহযোগ্যা হইয়া আসিল। কন্যার পিতা বড়লোক নহে ক্ষুদ্র বৃক্ষ তাহাতে আবার অনেকগুলি কন্যাভারগ্রস্ত। সম্বন্ধের অনেক কথা হইতেছিল কিন্ত কোনটা স্থির হয় নাই। উদ্যানের রাজা স্থলপদ্ম নির্দোষ পাত্র বটে কিন্ত ঘর বড় উচু স্থলপদ্ম অত দূর নামিল না। জবা এ বিবাহে অসম্মত ছিল না কিন্তু জবা বড় রাগী কন্যাকতা পিছাইলেন। গন্ধরাজ পাত্র ভালো কিন্তু বড় দেমাগ প্রায় তাহার বর পাওয়া যায় না। এইরূপ অব্যবস্থার সময়ে ভ্রমররাজ ঘটক হইয়া মল্পিকা বৃক্ষসদনে উপস্থিত হইলেন। তিনি আসিয়া বলিলেন শুণ্ গুণ্ গুণ্ মেয়ে আছে পাতা নাড়িয়া সায় দিলেন “ আছে ভ্রমর পত্রাসন গ্রহণ করিয়া বলিলেন “ গুণ্ গুণ্ গুণ্ গুণ্ গ্ণাগুণৃ মেয়ে দেখিব। বৃক্ষ শাখা নত করিয়া মুদিতনয়না অবগ্ুপ্ঠনবতী কন্যা দেখাইলেন। ভ্রমর একবার বৃক্ষকে প্রদক্ষিণ করিয়া আসিয়া বলিলেন গুণৃ গুণৃ গুণৃ গুণ দেখিতে চাই। ঘোমটা খোল। ” লজ্জাশীলা কন্যা কিছুতেই ঘোম্টা খুলে না। বৃক্ষ বলিলেন “ আমার মেয়েগুলি বড় লাজুক। তুমি একটু অপেক্ষা কর আমি মুখ দেখাইতেছি। ” ২০১৮\n",
          "output_type": "stream"
        }
      ],
      "execution_count": null
    },
    {
      "cell_type": "markdown",
      "source": [
        "Task 6: Exploratory Data Analysis (EDA)"
      ],
      "metadata": {
        "id": "OBTP0CE92h81"
      }
    },
    {
      "cell_type": "code",
      "source": [
        "import json\n",
        "import re\n",
        "import nltk\n",
        "import matplotlib.pyplot as plt\n",
        "import seaborn as sns\n",
        "from collections import Counter\n",
        "from nltk.corpus import stopwords\n",
        "from nltk.tokenize import word_tokenize, sent_tokenize\n",
        "from wordcloud import WordCloud\n",
        "\n",
        "# Ensure necessary resources are downloaded\n",
        "nltk.download(\"punkt\")\n",
        "nltk.download(\"stopwords\")\n",
        "\n",
        "# Load normalized text (from Task 5)\n",
        "input_file = \"normalized_text.json\"\n",
        "with open(input_file, \"r\", encoding=\"utf-8\") as f:\n",
        "    normalized_data = json.load(f)\n",
        "\n",
        "# Extract all text for analysis\n",
        "all_text = \" \".join([section for page_data in normalized_data.values() for section in page_data[\"sections\"]])\n",
        "\n",
        "# Function to calculate basic stats\n",
        "def calculate_basic_stats(text):\n",
        "    words = word_tokenize(text)\n",
        "    word_count = len(words)\n",
        "    unique_words = len(set(words))\n",
        "    sentence_lengths = [len(word_tokenize(sentence)) for sentence in sent_tokenize(text)]\n",
        "    avg_sentence_length = sum(sentence_lengths) / len(sentence_lengths) if sentence_lengths else 0\n",
        "    return word_count, unique_words, sentence_lengths, avg_sentence_length\n",
        "\n",
        "# Function for frequency analysis (top N frequent words)\n",
        "def frequency_analysis(text, n=10):\n",
        "    words = word_tokenize(text)\n",
        "    words = [word for word in words if word.isalnum()]  # Remove punctuation and special characters\n",
        "    stop_words = set(stopwords.words(\"english\"))  # Adjust this for Bangla stop words if needed\n",
        "    filtered_words = [word for word in words if word.lower() not in stop_words]\n",
        "\n",
        "    word_counts = Counter(filtered_words)\n",
        "    return sorted(word_counts.items(), key=lambda x: x[1], reverse=True)[:n]\n",
        "\n",
        "# Function for bigrams/trigrams\n",
        "def ngrams_analysis(text, n=2):\n",
        "    words = word_tokenize(text)\n",
        "    n_grams = list(nltk.ngrams(words, n))\n",
        "    ngram_freq = Counter(n_grams)\n",
        "    return ngram_freq.most_common(10)\n",
        "\n",
        "# Visualize word frequency using WordCloud\n",
        "def generate_wordcloud(text):\n",
        "    wordcloud = WordCloud(width=800, height=400, background_color=\"white\").generate(text)\n",
        "    plt.figure(figsize=(10, 5))\n",
        "    plt.imshow(wordcloud, interpolation=\"bilinear\")\n",
        "    plt.axis(\"off\")\n",
        "    plt.show()\n",
        "\n",
        "# Function to visualize sentence length distribution (Box & Violin Plot)\n",
        "def plot_sentence_length_distribution(sentence_lengths):\n",
        "    plt.figure(figsize=(12, 6))\n",
        "\n",
        "    # Box Plot\n",
        "    plt.subplot(1, 2, 1)\n",
        "    sns.boxplot(y=sentence_lengths, color=\"lightblue\")\n",
        "    plt.title(\"Box Plot of Sentence Lengths\")\n",
        "    plt.ylabel(\"Number of Words\")\n",
        "\n",
        "    # Violin Plot\n",
        "    plt.subplot(1, 2, 2)\n",
        "    sns.violinplot(y=sentence_lengths, color=\"lightcoral\")\n",
        "    plt.title(\"Violin Plot of Sentence Lengths\")\n",
        "    plt.ylabel(\"Number of Words\")\n",
        "\n",
        "    plt.tight_layout()\n",
        "    plt.show()\n",
        "\n",
        "# Identify anomalies: Extremely long sentences or rare characters\n",
        "def detect_anomalies(text):\n",
        "    sentences = sent_tokenize(text)\n",
        "    long_sentences = [sentence for sentence in sentences if len(word_tokenize(sentence)) > 50]  # Adjust threshold as needed\n",
        "    rare_chars = re.findall(r\"[^\\w\\s]\", text)  # Capture unusual non-alphanumeric characters\n",
        "\n",
        "    print(\"\\n🔍 **Anomaly Detection:**\")\n",
        "    print(f\"📌 Long Sentences Found: {len(long_sentences)} (Example: {long_sentences[:2]})\")\n",
        "    print(f\"📌 Rare Characters Found: {set(rare_chars)}\")\n",
        "\n",
        "# Perform analysis\n",
        "word_count, unique_words, sentence_lengths, avg_sentence_length = calculate_basic_stats(all_text)\n",
        "top_words = frequency_analysis(all_text)\n",
        "bigrams = ngrams_analysis(all_text, n=2)\n",
        "\n",
        "# Print basic statistics\n",
        "print(f\"📊 **Text Statistics:**\")\n",
        "print(f\"✅ Total Words: {word_count}\")\n",
        "print(f\"✅ Unique Words: {unique_words}\")\n",
        "print(f\"✅ Average Sentence Length: {avg_sentence_length:.2f} words\")\n",
        "\n",
        "# Print top frequent words and bigrams\n",
        "print(\"\\n🔹 **Top 10 Frequent Words:**\", top_words)\n",
        "print(\"\\n🔹 **Top 10 Bigrams:**\", bigrams)\n",
        "\n",
        "# Generate visualizations\n",
        "generate_wordcloud(all_text)\n",
        "plot_sentence_length_distribution(sentence_lengths)\n",
        "\n",
        "# Detect anomalies\n",
        "detect_anomalies(all_text)\n"
      ],
      "metadata": {
        "trusted": true,
        "execution": {
          "iopub.status.busy": "2025-03-02T05:10:00.898037Z",
          "iopub.execute_input": "2025-03-02T05:10:00.898375Z",
          "iopub.status.idle": "2025-03-02T05:10:02.431951Z",
          "shell.execute_reply.started": "2025-03-02T05:10:00.898348Z",
          "shell.execute_reply": "2025-03-02T05:10:02.430983Z"
        },
        "id": "nvevrg7y2h81",
        "outputId": "9825d8c3-bbe4-4536-81ca-ae2165ccdd50"
      },
      "outputs": [
        {
          "name": "stdout",
          "text": "[nltk_data] Downloading package punkt to /usr/share/nltk_data...\n[nltk_data]   Package punkt is already up-to-date!\n[nltk_data] Downloading package stopwords to /usr/share/nltk_data...\n[nltk_data]   Unzipping corpora/stopwords.zip.\n📊 **Text Statistics:**\n✅ Total Words: 295\n✅ Unique Words: 236\n✅ Average Sentence Length: 295.00 words\n\n🔹 **Top 10 Frequent Words:** [('ও', 2), ('১৮৩৮', 1), ('১৮৫৮', 1), ('হন', 1), ('বছরই', 1), ('বছর', 1), ('একই', 1), ('১৮৯১', 1), ('অবসর', 1), ('১৮৬৫', 1)]\n\n🔹 **Top 10 Bigrams:** [(('গুণ্', 'গুণ্'), 4), (('বঙ্কিমচন্দ্র', 'চট্টোপাধ্যায়'), 3), (('করেন।', 'তিনি'), 2), (('বাংলা', 'উপন্যাস'), 2), (('আসিয়া', 'বলিলেন'), 2), (('বলিলেন', '“'), 2), (('গুণৃ', 'গুণৃ'), 2), (('ফুলের', 'বিবাহ'), 1), (('বিবাহ', 'বঙ্কিমচন্দ্র'), 1), (('চট্টোপাধ্যায়', 'লেখকপরিচিতি'), 1)]\n",
          "output_type": "stream"
        },
        {
          "output_type": "display_data",
          "data": {
            "text/plain": "<Figure size 1000x500 with 1 Axes>",
            "image/png": "[encoded data removed]"
          },
          "metadata": {}
        },
        {
          "output_type": "display_data",
          "data": {
            "text/plain": "<Figure size 1200x600 with 2 Axes>",
            "image/png": "[encoded data removed]"
          },
          "metadata": {}
        },
        {
          "name": "stdout",
          "text": "\n🔍 **Anomaly Detection:**\n📌 Long Sentences Found: 1 (Example: ['ফুলের বিবাহ  বঙ্কিমচন্দ্র চট্টোপাধ্যায়  লেখকপরিচিতি  বঙ্কিমচন্দ্র চট্টোপাধ্যায় ২৬শে জুন ১৮৩৮ সালে পশ্চিমবঙ্গের চব্বিশ পরগনা জেলার অন্তর্গত কীঠালপাড়া গ্রামে জন্মগ্রহণ করেন। তিনি ১৮৫৮ সালে কলকাতা বিশ্ববিদ্যালয় থেকে বিএপরীক্ষায় উত্তাঁর্ণ হন এবং সে বছরই ডেপুটি ম্যাজিস্ট্রেট ও ডেপুটি কালেক্টর পদে চাকরিতে নিযুক্ত হন। বঙ্কিমচন্দ্র তেত্রিশ বছর একই পদে চাকরি করে ১৮৯১ সালে অবসর গ্রহণ করেন। তিনি পাঠ্যাবস্থায়ই সাহিত্যচর্চা শুরু করেন। তার অসামান্য কৃতিত্ প্রকাশ পেয়েছে পাশ্চাত্য ভাবাদর্শে বাংলা উপন্যাস রচনার পথিকৃৎ হিসেবে। ১৮৬৫ সালে প্রকাশিত তাঁর প্রথম বাংলা উপন্যাস দুর্েশনন্দিনী বাংলা কথাসাহিত্যে এক নবদিগন্ত উন্মোচন করে। তার অন্যান্য উপন্যাস হলো কপালকৃওলা মৃণালিনী বিষবৃক্ষ ইন্দিরা যুগলাঙগুরীয় রাধারানী চন্দ্রশেখর রজনী কৃষ্ণকান্তের উইল রাজসিংহ আনন্দমঠ দেবী চৌধুরানী ও সীতারাম। প্রবন্ধ সাহিত্যেও বঙ্কিমচন্দ্র কৃতিত্ব দেখিয়েছেন। কমলাকান্তের দণ্ড লোকরহস্য কৃষ্ণ চরিত্র ইত্যাদি তার উল্লেখযোগ্য প্রবন্ধগ্রন্থ। বঙ্কিমচন্দ্র চট্টোপাধ্যায় ১৮৯৪ সালের ৮ই এপ্রিল মৃত্যুবরণ করেন   বৈশাখ মাস বিবাহের মাস। আমি ১লা বৈশাখে নসী বাবুর ফুলবাগানে বসিয়া একটি বিবাহ দেখিলাম। ভবিষ্যৎ বরকন্যাদিগের শিক্ষার্থ লিখিয়া রাখিতেছি।  মন্িকা ফুলের বিবাহ। বৈকালশৈশব অবসানপ্রায় কলিকাকন্যা বিবাহযোগ্যা হইয়া আসিল। কন্যার পিতা বড়লোক নহে ক্ষুদ্র বৃক্ষ তাহাতে আবার অনেকগুলি কন্যাভারগ্রস্ত। সম্বন্ধের অনেক কথা হইতেছিল কিন্ত কোনটা স্থির হয় নাই। উদ্যানের রাজা স্থলপদ্ম নির্দোষ পাত্র বটে কিন্ত ঘর বড় উচু স্থলপদ্ম অত দূর নামিল না। জবা এ বিবাহে অসম্মত ছিল না কিন্তু জবা বড় রাগী কন্যাকতা পিছাইলেন। গন্ধরাজ পাত্র ভালো কিন্তু বড় দেমাগ প্রায় তাহার বর পাওয়া যায় না। এইরূপ অব্যবস্থার সময়ে ভ্রমররাজ ঘটক হইয়া মল্পিকা বৃক্ষসদনে উপস্থিত হইলেন। তিনি আসিয়া বলিলেন শুণ্ গুণ্  গুণ্ মেয়ে আছে  পাতা নাড়িয়া সায় দিলেন “আছে ভ্রমর পত্রাসন গ্রহণ করিয়া বলিলেন “গুণ্ গুণ্ গুণ্ গুণ্ গ্ণাগুণৃ মেয়ে দেখিব।   বৃক্ষ শাখা নত করিয়া মুদিতনয়না অবগ্ুপ্ঠনবতী কন্যা দেখাইলেন। ভ্রমর একবার বৃক্ষকে প্রদক্ষিণ করিয়া আসিয়া বলিলেন গুণৃ গুণৃ  গুণৃ গুণ দেখিতে চাই। ঘোমটা খোল। ”  লজ্জাশীলা কন্যা কিছুতেই ঘোম্টা খুলে না। বৃক্ষ বলিলেন “আমার মেয়েগুলি বড় লাজুক। তুমি একটু অপেক্ষা কর আমি মুখ দেখাইতেছি। ”  ২০১৮'])\n📌 Rare Characters Found: {'ৌ', 'ি', 'ী', 'ে', 'া', 'ু', '“', 'ৈ', 'ৃ', '”', '়', 'ঁ', '।', 'ো', '্', 'ং', 'ূ'}\n",
          "output_type": "stream"
        }
      ],
      "execution_count": null
    },
    {
      "cell_type": "code",
      "source": [
        "import json\n",
        "import os\n",
        "import nltk\n",
        "import matplotlib.pyplot as plt\n",
        "import seaborn as sns\n",
        "import matplotlib.font_manager as fm\n",
        "from nltk.tokenize import sent_tokenize, word_tokenize\n",
        "\n",
        "# Ensure necessary NLTK resources are downloaded\n",
        "nltk.download(\"punkt\")\n",
        "\n",
        "# Load Bangla font\n",
        "bangla_font_path = \"/kaggle/input/bangla-font/NotoSansBengali_ExtraCondensed-Regular.ttf\"\n",
        "\n",
        "if os.path.exists(bangla_font_path):\n",
        "    bangla_font = fm.FontProperties(fname=bangla_font_path)\n",
        "    print(\"✅ Custom Bangla font loaded successfully!\")\n",
        "else:\n",
        "    bangla_font = None\n",
        "    print(\"⚠️ Font file not found! Using default font.\")\n",
        "\n",
        "# Load normalized text\n",
        "input_file = \"normalized_text.json\"\n",
        "\n",
        "if not os.path.exists(input_file):\n",
        "    raise FileNotFoundError(f\"Error: {input_file} not found!\")\n",
        "\n",
        "with open(input_file, \"r\", encoding=\"utf-8\") as f:\n",
        "    normalized_data = json.load(f)\n",
        "\n",
        "# Combine all sections into one text block\n",
        "all_text = \" \".join([section for page_data in normalized_data.values() for section in page_data[\"sections\"]])\n",
        "\n",
        "# Tokenize sentences and calculate sentence lengths\n",
        "sentences = sent_tokenize(all_text)\n",
        "sentence_lengths = [len(word_tokenize(sentence)) for sentence in sentences]\n",
        "\n",
        "# ✅ Sentence Length Summary\n",
        "total_sentence_length = sum(sentence_lengths)\n",
        "total_sentences = len(sentences)\n",
        "average_sentence_length = total_sentence_length / total_sentences if total_sentences > 0 else 0\n",
        "\n",
        "# 📌 Print Statistics (in Bangla)\n",
        "print(f\"📌 মোট বাক্য সংখ্যা: {total_sentences}\")\n",
        "print(f\"📌 মোট বাক্যের দৈর্ঘ্য (সমস্ত বাক্যের মোট শব্দ সংখ্যা): {total_sentence_length}\")\n",
        "print(f\"📌 গড় বাক্য দৈর্ঘ্য: {average_sentence_length:.2f} শব্দ প্রতি বাক্য\")\n",
        "\n",
        "# ✅ Visualization\n",
        "plt.figure(figsize=(15, 5))\n",
        "\n",
        "# 🔹 1. Histogram of Sentence Lengths\n",
        "plt.subplot(1, 3, 1)\n",
        "sns.histplot(sentence_lengths, bins=30, kde=True, color=\"royalblue\")\n",
        "plt.xlabel(\"বাক্যের দৈর্ঘ্য (শব্দ সংখ্যা)\", fontproperties=bangla_font)\n",
        "plt.ylabel(\"ফ্রিকোয়েন্সি\", fontproperties=bangla_font)\n",
        "plt.title(\"📊 বাক্যের দৈর্ঘ্যের হিস্টোগ্রাম\", fontproperties=bangla_font)\n",
        "\n",
        "# 🔹 2. Box Plot (Added for Sentence Lengths)\n",
        "plt.subplot(1, 3, 2)\n",
        "sns.boxplot(y=sentence_lengths, color=\"orange\")\n",
        "plt.ylabel(\"বাক্যের দৈর্ঘ্য (শব্দ সংখ্যা)\", fontproperties=bangla_font)\n",
        "plt.title(\"📦 বাক্যের দৈর্ঘ্যের বক্স প্লট\", fontproperties=bangla_font)\n",
        "\n",
        "# 🔹 3. Violin Plot\n",
        "plt.subplot(1, 3, 3)\n",
        "sns.violinplot(y=sentence_lengths, color=\"green\")\n",
        "plt.ylabel(\"বাক্যের দৈর্ঘ্য (শব্দ সংখ্যা)\", fontproperties=bangla_font)\n",
        "plt.title(\"🎻 বাক্যের দৈর্ঘ্যের ভায়োলিন প্লট\", fontproperties=bangla_font)\n",
        "\n",
        "# ✅ Show All Plots\n",
        "plt.tight_layout()\n",
        "plt.show()\n"
      ],
      "metadata": {
        "trusted": true,
        "execution": {
          "iopub.status.busy": "2025-03-02T05:10:09.366517Z",
          "iopub.execute_input": "2025-03-02T05:10:09.366955Z",
          "iopub.status.idle": "2025-03-02T05:10:09.861721Z",
          "shell.execute_reply.started": "2025-03-02T05:10:09.366929Z",
          "shell.execute_reply": "2025-03-02T05:10:09.860813Z"
        },
        "id": "f1LTvqE72h82",
        "outputId": "9195708f-47fc-4bc3-ee90-07f5a89116fa"
      },
      "outputs": [
        {
          "name": "stdout",
          "text": "[nltk_data] Downloading package punkt to /usr/share/nltk_data...\n[nltk_data]   Package punkt is already up-to-date!\n✅ Custom Bangla font loaded successfully!\n📌 মোট বাক্য সংখ্যা: 1\n📌 মোট বাক্যের দৈর্ঘ্য (সমস্ত বাক্যের মোট শব্দ সংখ্যা): 295\n📌 গড় বাক্য দৈর্ঘ্য: 295.00 শব্দ প্রতি বাক্য\n",
          "output_type": "stream"
        },
        {
          "name": "stderr",
          "text": "/usr/local/lib/python3.10/dist-packages/seaborn/_oldcore.py:1119: FutureWarning: use_inf_as_na option is deprecated and will be removed in a future version. Convert inf values to NaN before operating instead.\n  with pd.option_context('mode.use_inf_as_na', True):\n<ipython-input-28-b082ce036f0d>:71: UserWarning: Glyph 128202 (\\N{BAR CHART}) missing from current font.\n  plt.tight_layout()\n<ipython-input-28-b082ce036f0d>:71: UserWarning: Glyph 128230 (\\N{PACKAGE}) missing from current font.\n  plt.tight_layout()\n<ipython-input-28-b082ce036f0d>:71: UserWarning: Glyph 127931 (\\N{VIOLIN}) missing from current font.\n  plt.tight_layout()\n/usr/local/lib/python3.10/dist-packages/IPython/core/pylabtools.py:151: UserWarning: Glyph 128202 (\\N{BAR CHART}) missing from current font.\n  fig.canvas.print_figure(bytes_io, **kw)\n/usr/local/lib/python3.10/dist-packages/IPython/core/pylabtools.py:151: UserWarning: Glyph 128230 (\\N{PACKAGE}) missing from current font.\n  fig.canvas.print_figure(bytes_io, **kw)\n/usr/local/lib/python3.10/dist-packages/IPython/core/pylabtools.py:151: UserWarning: Glyph 127931 (\\N{VIOLIN}) missing from current font.\n  fig.canvas.print_figure(bytes_io, **kw)\n",
          "output_type": "stream"
        },
        {
          "output_type": "display_data",
          "data": {
            "text/plain": "<Figure size 1500x500 with 3 Axes>",
            "image/png": "[encoded data removed]"
          },
          "metadata": {}
        }
      ],
      "execution_count": null
    },
    {
      "cell_type": "code",
      "source": [
        "!pip install --upgrade scipy\n"
      ],
      "metadata": {
        "trusted": true,
        "execution": {
          "iopub.status.busy": "2025-03-02T05:10:17.392472Z",
          "iopub.execute_input": "2025-03-02T05:10:17.392763Z",
          "iopub.status.idle": "2025-03-02T05:10:21.090053Z",
          "shell.execute_reply.started": "2025-03-02T05:10:17.392740Z",
          "shell.execute_reply": "2025-03-02T05:10:21.089180Z"
        },
        "id": "kONaLJcG2h82",
        "outputId": "8f85643c-27ae-4948-9f1c-efba058008d5"
      },
      "outputs": [
        {
          "name": "stdout",
          "text": "Requirement already satisfied: scipy in /usr/local/lib/python3.10/dist-packages (1.15.2)\nRequirement already satisfied: numpy<2.5,>=1.23.5 in /usr/local/lib/python3.10/dist-packages (from scipy) (2.0.2)\n",
          "output_type": "stream"
        }
      ],
      "execution_count": null
    },
    {
      "cell_type": "code",
      "source": [
        "!pip install gensim==4.0.0\n"
      ],
      "metadata": {
        "trusted": true,
        "execution": {
          "iopub.status.busy": "2025-03-02T05:10:26.034017Z",
          "iopub.execute_input": "2025-03-02T05:10:26.034346Z",
          "iopub.status.idle": "2025-03-02T05:10:32.136574Z",
          "shell.execute_reply.started": "2025-03-02T05:10:26.034318Z",
          "shell.execute_reply": "2025-03-02T05:10:32.135552Z"
        },
        "id": "Q2oL6tbD2h83",
        "outputId": "d2c2d109-8ab6-49ed-bb0f-f05a9800d120"
      },
      "outputs": [
        {
          "name": "stdout",
          "text": "Collecting gensim==4.0.0\n  Downloading gensim-4.0.0.tar.gz (23.1 MB)\n\u001b[2K     \u001b[90m━━━━━━━━━━━━━━━━━━━━━━━━━━━━━━━━━━━━━━━━\u001b[0m \u001b[32m23.1/23.1 MB\u001b[0m \u001b[31m73.2 MB/s\u001b[0m eta \u001b[36m0:00:00\u001b[0m:00:01\u001b[0m00:01\u001b[0m\n\u001b[?25h  Preparing metadata (setup.py) ... \u001b[?25l\u001b[?25hdone\nRequirement already satisfied: numpy>=1.11.3 in /usr/local/lib/python3.10/dist-packages (from gensim==4.0.0) (2.0.2)\nRequirement already satisfied: scipy>=0.18.1 in /usr/local/lib/python3.10/dist-packages (from gensim==4.0.0) (1.15.2)\nRequirement already satisfied: smart_open>=1.8.1 in /usr/local/lib/python3.10/dist-packages (from gensim==4.0.0) (7.0.5)\nRequirement already satisfied: wrapt in /usr/local/lib/python3.10/dist-packages (from smart_open>=1.8.1->gensim==4.0.0) (1.17.0)\nBuilding wheels for collected packages: gensim\n  \u001b[1;31merror\u001b[0m: \u001b[1msubprocess-exited-with-error\u001b[0m\n  \n  \u001b[31m×\u001b[0m \u001b[32mpython setup.py bdist_wheel\u001b[0m did not run successfully.\n  \u001b[31m│\u001b[0m exit code: \u001b[1;36m1\u001b[0m\n  \u001b[31m╰─>\u001b[0m See above for output.\n  \n  \u001b[1;35mnote\u001b[0m: This error originates from a subprocess, and is likely not a problem with pip.\n  Building wheel for gensim (setup.py) ... \u001b[?25lerror\n\u001b[31m  ERROR: Failed building wheel for gensim\u001b[0m\u001b[31m\n\u001b[0m\u001b[?25h  Running setup.py clean for gensim\nFailed to build gensim\n\u001b[31mERROR: ERROR: Failed to build installable wheels for some pyproject.toml based projects (gensim)\u001b[0m\u001b[31m\n\u001b[0m",
          "output_type": "stream"
        }
      ],
      "execution_count": null
    },
    {
      "cell_type": "code",
      "source": [
        "!pip install scipy==1.7.3\n"
      ],
      "metadata": {
        "trusted": true,
        "execution": {
          "iopub.status.busy": "2025-03-02T05:10:38.809404Z",
          "iopub.execute_input": "2025-03-02T05:10:38.809720Z",
          "iopub.status.idle": "2025-03-02T05:10:49.038991Z",
          "shell.execute_reply.started": "2025-03-02T05:10:38.809682Z",
          "shell.execute_reply": "2025-03-02T05:10:49.037925Z"
        },
        "id": "SEUwBEQn2h83",
        "outputId": "d96fcf4f-9f50-4de8-95f4-7f41ce78b6ed"
      },
      "outputs": [
        {
          "name": "stdout",
          "text": "Collecting scipy==1.7.3\n  Downloading scipy-1.7.3-cp310-cp310-manylinux_2_17_x86_64.manylinux2014_x86_64.whl.metadata (2.2 kB)\nCollecting numpy<1.23.0,>=1.16.5 (from scipy==1.7.3)\n  Downloading numpy-1.22.4-cp310-cp310-manylinux_2_17_x86_64.manylinux2014_x86_64.whl.metadata (2.0 kB)\nDownloading scipy-1.7.3-cp310-cp310-manylinux_2_17_x86_64.manylinux2014_x86_64.whl (39.9 MB)\n\u001b[2K   \u001b[90m━━━━━━━━━━━━━━━━━━━━━━━━━━━━━━━━━━━━━━━━\u001b[0m \u001b[32m39.9/39.9 MB\u001b[0m \u001b[31m45.6 MB/s\u001b[0m eta \u001b[36m0:00:00\u001b[0m:00:01\u001b[0m00:01\u001b[0m\n\u001b[?25hDownloading numpy-1.22.4-cp310-cp310-manylinux_2_17_x86_64.manylinux2014_x86_64.whl (16.8 MB)\n\u001b[2K   \u001b[90m━━━━━━━━━━━━━━━━━━━━━━━━━━━━━━━━━━━━━━━━\u001b[0m \u001b[32m16.8/16.8 MB\u001b[0m \u001b[31m84.2 MB/s\u001b[0m eta \u001b[36m0:00:00\u001b[0m:00:01\u001b[0m00:01\u001b[0m\n\u001b[?25hInstalling collected packages: numpy, scipy\n  Attempting uninstall: numpy\n    Found existing installation: numpy 2.0.2\n    Uninstalling numpy-2.0.2:\n      Successfully uninstalled numpy-2.0.2\n  Attempting uninstall: scipy\n    Found existing installation: scipy 1.15.2\n    Uninstalling scipy-1.15.2:\n      Successfully uninstalled scipy-1.15.2\n\u001b[31mERROR: pip's dependency resolver does not currently take into account all the packages that are installed. This behaviour is the source of the following dependency conflicts.\ncartopy 0.24.1 requires numpy>=1.23, but you have numpy 1.22.4 which is incompatible.\nalbucore 0.0.19 requires numpy>=1.24.4, but you have numpy 1.22.4 which is incompatible.\nalbumentations 1.4.20 requires numpy>=1.24.4, but you have numpy 1.22.4 which is incompatible.\nalbumentations 1.4.20 requires scipy>=1.10.0, but you have scipy 1.7.3 which is incompatible.\narviz 0.20.0 requires numpy>=1.23.0, but you have numpy 1.22.4 which is incompatible.\narviz 0.20.0 requires scipy>=1.9.0, but you have scipy 1.7.3 which is incompatible.\nastropy 6.1.7 requires numpy>=1.23, but you have numpy 1.22.4 which is incompatible.\nbayesian-optimization 2.0.3 requires numpy>=1.25, but you have numpy 1.22.4 which is incompatible.\nbigframes 1.29.0 requires numpy>=1.24.0, but you have numpy 1.22.4 which is incompatible.\nbnlp-toolkit 4.0.3 requires scipy==1.10.1, but you have scipy 1.7.3 which is incompatible.\nbnltk 0.7.8 requires numpy==2.0.2, but you have numpy 1.22.4 which is incompatible.\nchex 0.1.88 requires numpy>=1.24.1, but you have numpy 1.22.4 which is incompatible.\ncontourpy 1.3.1 requires numpy>=1.23, but you have numpy 1.22.4 which is incompatible.\ncudf-cu12 24.12.0 requires numpy<3.0a0,>=1.23, but you have numpy 1.22.4 which is incompatible.\ncudf-cu12 24.12.0 requires pyarrow<19.0.0a0,>=14.0.0; platform_machine == \"x86_64\", but you have pyarrow 19.0.0 which is incompatible.\ncuml-cu12 24.12.0 requires numpy<3.0a0,>=1.23, but you have numpy 1.22.4 which is incompatible.\ncuml-cu12 24.12.0 requires scipy>=1.8.0, but you have scipy 1.7.3 which is incompatible.\ncuvs-cu12 24.12.0 requires numpy<3.0a0,>=1.23, but you have numpy 1.22.4 which is incompatible.\ndask-cuda 24.12.0 requires numpy<3.0a0,>=1.23, but you have numpy 1.22.4 which is incompatible.\ndask-cudf-cu12 24.12.0 requires numpy<3.0a0,>=1.23, but you have numpy 1.22.4 which is incompatible.\ndipy 1.10.0 requires scipy>=1.8, but you have scipy 1.7.3 which is incompatible.\nfeaturetools 1.31.0 requires numpy>=1.25.0, but you have numpy 1.22.4 which is incompatible.\nfeaturetools 1.31.0 requires scipy>=1.10.0, but you have scipy 1.7.3 which is incompatible.\nibis-framework 9.2.0 requires numpy<3,>=1.23.2, but you have numpy 1.22.4 which is incompatible.\njax 0.4.33 requires numpy>=1.24, but you have numpy 1.22.4 which is incompatible.\njax 0.4.33 requires scipy>=1.10, but you have scipy 1.7.3 which is incompatible.\njaxlib 0.4.33 requires numpy>=1.24, but you have numpy 1.22.4 which is incompatible.\njaxlib 0.4.33 requires scipy>=1.10, but you have scipy 1.7.3 which is incompatible.\nkaggle-environments 1.16.11 requires scipy>=1.11.2, but you have scipy 1.7.3 which is incompatible.\nlangchain 0.3.12 requires async-timeout<5.0.0,>=4.0.0; python_version < \"3.11\", but you have async-timeout 5.0.1 which is incompatible.\nlibpysal 4.9.2 requires scipy>=1.8, but you have scipy 1.7.3 which is incompatible.\nmizani 0.13.1 requires numpy>=1.23.5, but you have numpy 1.22.4 which is incompatible.\nmizani 0.13.1 requires scipy>=1.8.0, but you have scipy 1.7.3 which is incompatible.\nmkl-fft 1.3.8 requires numpy<1.27.0,>=1.26.4, but you have numpy 1.22.4 which is incompatible.\nmkl-random 1.2.4 requires numpy<1.27.0,>=1.26.4, but you have numpy 1.22.4 which is incompatible.\nmkl-umath 0.1.1 requires numpy<1.27.0,>=1.26.4, but you have numpy 1.22.4 which is incompatible.\nmne 1.9.0 requires numpy<3,>=1.23, but you have numpy 1.22.4 which is incompatible.\nmne 1.9.0 requires scipy>=1.9, but you have scipy 1.7.3 which is incompatible.\nnilearn 0.10.4 requires scipy>=1.8.0, but you have scipy 1.7.3 which is incompatible.\nnumexpr 2.10.2 requires numpy>=1.23.0, but you have numpy 1.22.4 which is incompatible.\nnx-cugraph-cu12 24.10.0 requires numpy<3.0a0,>=1.23, but you have numpy 1.22.4 which is incompatible.\npandas-gbq 0.25.0 requires google-api-core<3.0.0dev,>=2.10.2, but you have google-api-core 1.34.1 which is incompatible.\npandas-stubs 2.2.2.240909 requires numpy>=1.23.5, but you have numpy 1.22.4 which is incompatible.\nplotnine 0.14.4 requires matplotlib>=3.8.0, but you have matplotlib 3.7.5 which is incompatible.\nplotnine 0.14.4 requires numpy>=1.23.5, but you have numpy 1.22.4 which is incompatible.\nplotnine 0.14.4 requires scipy>=1.8.0, but you have scipy 1.7.3 which is incompatible.\npyldavis 3.4.1 requires numpy>=1.24.2, but you have numpy 1.22.4 which is incompatible.\npylibraft-cu12 24.12.0 requires numpy<3.0a0,>=1.23, but you have numpy 1.22.4 which is incompatible.\npymc 5.19.1 requires numpy>=1.25.0, but you have numpy 1.22.4 which is incompatible.\npywavelets 1.8.0 requires numpy<3,>=1.23, but you have numpy 1.22.4 which is incompatible.\nrmm-cu12 24.12.1 requires numpy<3.0a0,>=1.23, but you have numpy 1.22.4 which is incompatible.\nscikit-image 0.25.0 requires numpy>=1.24, but you have numpy 1.22.4 which is incompatible.\nscikit-image 0.25.0 requires scipy>=1.11.2, but you have scipy 1.7.3 which is incompatible.\nstatsmodels 0.14.4 requires scipy!=1.9.2,>=1.8, but you have scipy 1.7.3 which is incompatible.\nstumpy 1.13.0 requires scipy>=1.10, but you have scipy 1.7.3 which is incompatible.\ntensorflow 2.18.0 requires numpy<2.1.0,>=1.26.0, but you have numpy 1.22.4 which is incompatible.\ntensorflow-decision-forests 1.10.0 requires tensorflow==2.17.0, but you have tensorflow 2.18.0 which is incompatible.\ntensorflow-text 2.17.0 requires tensorflow<2.18,>=2.17.0, but you have tensorflow 2.18.0 which is incompatible.\ntf-keras 2.17.0 requires tensorflow<2.18,>=2.17, but you have tensorflow 2.18.0 which is incompatible.\nucx-py-cu12 0.41.0 requires numpy<3.0a0,>=1.23, but you have numpy 1.22.4 which is incompatible.\nucxx-cu12 0.41.0 requires numpy<3.0a0,>=1.23, but you have numpy 1.22.4 which is incompatible.\nvisions 0.7.6 requires numpy>=1.23.2, but you have numpy 1.22.4 which is incompatible.\nwoodwork 0.31.0 requires numpy>=1.25.0, but you have numpy 1.22.4 which is incompatible.\nwoodwork 0.31.0 requires scipy>=1.10.0, but you have scipy 1.7.3 which is incompatible.\nxarray 2024.11.0 requires numpy>=1.24, but you have numpy 1.22.4 which is incompatible.\nxarray-einstats 0.8.0 requires numpy>=1.23, but you have numpy 1.22.4 which is incompatible.\nxarray-einstats 0.8.0 requires scipy>=1.9, but you have scipy 1.7.3 which is incompatible.\u001b[0m\u001b[31m\n\u001b[0mSuccessfully installed numpy-1.22.4 scipy-1.7.3\n",
          "output_type": "stream"
        }
      ],
      "execution_count": null
    },
    {
      "cell_type": "markdown",
      "source": [
        "Task 7: Tokenization & Sentence Splitting"
      ],
      "metadata": {
        "id": "H07qajQF2h84"
      }
    },
    {
      "cell_type": "code",
      "source": [
        "import json\n",
        "import re\n",
        "import nltk\n",
        "from nltk.tokenize import regexp_tokenize\n",
        "\n",
        "# Download necessary NLTK resources\n",
        "nltk.download('punkt')\n",
        "\n",
        "# Load normalized text\n",
        "input_file = \"normalized_text.json\"\n",
        "\n",
        "with open(input_file, \"r\", encoding=\"utf-8\") as f:\n",
        "    normalized_data = json.load(f)\n",
        "\n",
        "# Combine all sections into one text block\n",
        "all_text = \" \".join([section for page_data in normalized_data.values() for section in page_data[\"sections\"]])\n",
        "\n",
        "# --- Step 1: Implement Tokenizer ---\n",
        "\n",
        "def bangla_tokenizer(text):\n",
        "    \"\"\"\n",
        "    Custom Bangla tokenizer handling punctuation, numbers, emoticons, and word tokenization.\n",
        "    \"\"\"\n",
        "    # Define regex patterns for tokenization\n",
        "    token_pattern = r\"\\w+|[^\\w\\s]\"\n",
        "\n",
        "    # Tokenize text using the defined pattern\n",
        "    tokens = regexp_tokenize(text, token_pattern)\n",
        "\n",
        "    return tokens\n",
        "\n",
        "# --- Step 2: Sentence Splitting ---\n",
        "def split_sentences(text):\n",
        "    \"\"\"\n",
        "    Splits text into sentences based on Bangla sentence delimiters (e.g., full stop, exclamation marks, question marks).\n",
        "    \"\"\"\n",
        "    # Sentence delimiters for Bangla\n",
        "    sentence_endings = r\"[।!?]\"\n",
        "\n",
        "    # Split text using the sentence delimiters\n",
        "    sentences = re.split(sentence_endings, text)\n",
        "    # Remove any empty strings (if any) and strip whitespace\n",
        "    sentences = [sentence.strip() for sentence in sentences if sentence.strip()]\n",
        "\n",
        "    return sentences\n",
        "\n",
        "# --- Step 3: Process All Text ---\n",
        "\n",
        "# Split the text into sentences\n",
        "sentences = split_sentences(all_text)\n",
        "\n",
        "# Tokenize each sentence\n",
        "tokenized_data = {}\n",
        "for idx, sentence in enumerate(sentences):\n",
        "    tokens = bangla_tokenizer(sentence)\n",
        "    tokenized_data[f\"sentence_{idx + 1}\"] = tokens\n",
        "\n",
        "# Save tokenized data to a file\n",
        "output_file = \"tokenized_data.json\"\n",
        "with open(output_file, \"w\", encoding=\"utf-8\") as f:\n",
        "    json.dump(tokenized_data, f, ensure_ascii=False, indent=4)\n",
        "\n",
        "# --- Optional Step: Sentence Boundaries --\n",
        "# If you want to track sentence boundaries, save sentence boundaries separately\n",
        "sentence_boundaries = [{\"start\": text.find(sentence), \"end\": text.find(sentence) + len(sentence)} for sentence in sentences]\n",
        "\n",
        "# Save sentence boundaries (optional)\n",
        "boundary_output_file = \"sentence_boundaries.json\"\n",
        "with open(boundary_output_file, \"w\", encoding=\"utf-8\") as f:\n",
        "    json.dump(sentence_boundaries, f, ensure_ascii=False, indent=4)\n",
        "\n",
        "print(f\"Tokenized data saved to {output_file}\")\n",
        "print(f\"Sentence boundaries saved to {boundary_output_file} (if needed)\")\n",
        "\n"
      ],
      "metadata": {
        "trusted": true,
        "execution": {
          "iopub.status.busy": "2025-03-02T05:11:00.135003Z",
          "iopub.execute_input": "2025-03-02T05:11:00.135367Z",
          "iopub.status.idle": "2025-03-02T05:11:00.149643Z",
          "shell.execute_reply.started": "2025-03-02T05:11:00.135334Z",
          "shell.execute_reply": "2025-03-02T05:11:00.148775Z"
        },
        "id": "Ru64U2xD2h84",
        "outputId": "6b157973-a9b8-4fc7-f948-a25ff549a0b4"
      },
      "outputs": [
        {
          "name": "stdout",
          "text": "[nltk_data] Downloading package punkt to /usr/share/nltk_data...\n[nltk_data]   Package punkt is already up-to-date!\nTokenized data saved to tokenized_data.json\nSentence boundaries saved to sentence_boundaries.json (if needed)\n",
          "output_type": "stream"
        }
      ],
      "execution_count": null
    },
    {
      "cell_type": "code",
      "source": [
        "import json\n",
        "import re\n",
        "import nltk\n",
        "from nltk.tokenize import regexp_tokenize\n",
        "\n",
        "# Download necessary NLTK resources\n",
        "nltk.download('punkt')\n",
        "\n",
        "# Load normalized text\n",
        "input_file = \"normalized_text.json\"\n",
        "\n",
        "with open(input_file, \"r\", encoding=\"utf-8\") as f:\n",
        "    normalized_data = json.load(f)\n",
        "\n",
        "# Combine all sections into one text block\n",
        "all_text = \" \".join([section for page_data in normalized_data.values() for section in page_data[\"sections\"]])\n",
        "\n",
        "# --- Step 1: Implement Tokenizer ---\n",
        "\n",
        "def bangla_tokenizer(text):\n",
        "    \"\"\"\n",
        "    Custom Bangla tokenizer handling punctuation, numbers, emoticons, and word tokenization.\n",
        "    \"\"\"\n",
        "    # Define regex patterns for tokenization\n",
        "    token_pattern = r\"\\w+|[^\\w\\s]\"\n",
        "\n",
        "    # Tokenize text using the defined pattern\n",
        "    tokens = regexp_tokenize(text, token_pattern)\n",
        "\n",
        "    return tokens\n",
        "\n",
        "# --- Step 2: Sentence Splitting ---\n",
        "def split_sentences(text):\n",
        "    \"\"\"\n",
        "    Splits text into sentences based on Bangla sentence delimiters (e.g., full stop, exclamation marks, question marks).\n",
        "    \"\"\"\n",
        "    # Sentence delimiters for Bangla\n",
        "    sentence_endings = r\"[।!?]\"\n",
        "\n",
        "    # Split text using the sentence delimiters\n",
        "    sentences = re.split(sentence_endings, text)\n",
        "    # Remove any empty strings (if any) and strip whitespace\n",
        "    sentences = [sentence.strip() for sentence in sentences if sentence.strip()]\n",
        "\n",
        "    return sentences\n",
        "\n",
        "# --- Step 3: Process All Text ---\n",
        "\n",
        "# Split the text into sentences\n",
        "sentences = split_sentences(all_text)\n",
        "\n",
        "# Tokenize each sentence\n",
        "tokenized_data = {}\n",
        "for idx, sentence in enumerate(sentences):\n",
        "    tokens = bangla_tokenizer(sentence)\n",
        "    tokenized_data[f\"sentence_{idx + 1}\"] = tokens\n",
        "\n",
        "# --- Optional Step: Sentence Boundaries --\n",
        "# If you want to track sentence boundaries, save sentence boundaries separately\n",
        "sentence_boundaries = [{\"sentence\": sentence, \"start\": all_text.find(sentence), \"end\": all_text.find(sentence) + len(sentence)}\n",
        "                       for sentence in sentences]\n",
        "\n",
        "# Print sentence boundaries\n",
        "print(\"Sentence Boundaries (Start and End Positions):\")\n",
        "for i, boundary in enumerate(sentence_boundaries, start=1):\n",
        "    print(f\"Sentence {i}: {boundary['sentence']}\")\n",
        "    print(f\"  Start: {boundary['start']}, End: {boundary['end']}\")\n",
        "    print(\"-\" * 50)\n",
        "\n",
        "# Save tokenized data to a file\n",
        "output_file = \"tokenized_data.json\"\n",
        "with open(output_file, \"w\", encoding=\"utf-8\") as f:\n",
        "    json.dump(tokenized_data, f, ensure_ascii=False, indent=4)\n",
        "\n",
        "# Save sentence boundaries (optional)\n",
        "boundary_output_file = \"sentence_boundaries.json\"\n",
        "with open(boundary_output_file, \"w\", encoding=\"utf-8\") as f:\n",
        "    json.dump(sentence_boundaries, f, ensure_ascii=False, indent=4)\n",
        "\n",
        "print(f\"Tokenized data saved to {output_file}\")\n",
        "print(f\"Sentence boundaries saved to {boundary_output_file}\")\n"
      ],
      "metadata": {
        "trusted": true,
        "execution": {
          "iopub.status.busy": "2025-03-02T05:11:06.511054Z",
          "iopub.execute_input": "2025-03-02T05:11:06.511366Z",
          "iopub.status.idle": "2025-03-02T05:11:06.535354Z",
          "shell.execute_reply.started": "2025-03-02T05:11:06.511341Z",
          "shell.execute_reply": "2025-03-02T05:11:06.534588Z"
        },
        "id": "byNVzINA2h84",
        "outputId": "ed528b53-6a26-4f40-e9cd-f0c0b6101398"
      },
      "outputs": [
        {
          "name": "stdout",
          "text": "[nltk_data] Downloading package punkt to /usr/share/nltk_data...\n[nltk_data]   Package punkt is already up-to-date!\nSentence Boundaries (Start and End Positions):\nSentence 1: ফুলের বিবাহ  বঙ্কিমচন্দ্র চট্টোপাধ্যায়  লেখকপরিচিতি  বঙ্কিমচন্দ্র চট্টোপাধ্যায় ২৬শে জুন ১৮৩৮ সালে পশ্চিমবঙ্গের চব্বিশ পরগনা জেলার অন্তর্গত কীঠালপাড়া গ্রামে জন্মগ্রহণ করেন\n  Start: 0, End: 173\n--------------------------------------------------\nSentence 2: তিনি ১৮৫৮ সালে কলকাতা বিশ্ববিদ্যালয় থেকে বিএপরীক্ষায় উত্তাঁর্ণ হন এবং সে বছরই ডেপুটি ম্যাজিস্ট্রেট ও ডেপুটি কালেক্টর পদে চাকরিতে নিযুক্ত হন\n  Start: 175, End: 316\n--------------------------------------------------\nSentence 3: বঙ্কিমচন্দ্র তেত্রিশ বছর একই পদে চাকরি করে ১৮৯১ সালে অবসর গ্রহণ করেন\n  Start: 318, End: 386\n--------------------------------------------------\nSentence 4: তিনি পাঠ্যাবস্থায়ই সাহিত্যচর্চা শুরু করেন\n  Start: 388, End: 430\n--------------------------------------------------\nSentence 5: তার অসামান্য কৃতিত্ প্রকাশ পেয়েছে পাশ্চাত্য ভাবাদর্শে বাংলা উপন্যাস রচনার পথিকৃৎ হিসেবে\n  Start: 432, End: 520\n--------------------------------------------------\nSentence 6: ১৮৬৫ সালে প্রকাশিত তাঁর প্রথম বাংলা উপন্যাস দুর্েশনন্দিনী বাংলা কথাসাহিত্যে এক নবদিগন্ত উন্মোচন করে\n  Start: 522, End: 621\n--------------------------------------------------\nSentence 7: তার অন্যান্য উপন্যাস হলো কপালকৃওলা মৃণালিনী বিষবৃক্ষ ইন্দিরা যুগলাঙগুরীয় রাধারানী চন্দ্রশেখর রজনী কৃষ্ণকান্তের উইল রাজসিংহ আনন্দমঠ দেবী চৌধুরানী ও সীতারাম\n  Start: 623, End: 778\n--------------------------------------------------\nSentence 8: প্রবন্ধ সাহিত্যেও বঙ্কিমচন্দ্র কৃতিত্ব দেখিয়েছেন\n  Start: 780, End: 829\n--------------------------------------------------\nSentence 9: কমলাকান্তের দণ্ড লোকরহস্য কৃষ্ণ চরিত্র ইত্যাদি তার উল্লেখযোগ্য প্রবন্ধগ্রন্থ\n  Start: 831, End: 907\n--------------------------------------------------\nSentence 10: বঙ্কিমচন্দ্র চট্টোপাধ্যায় ১৮৯৪ সালের ৮ই এপ্রিল মৃত্যুবরণ করেন   বৈশাখ মাস বিবাহের মাস\n  Start: 909, End: 995\n--------------------------------------------------\nSentence 11: আমি ১লা বৈশাখে নসী বাবুর ফুলবাগানে বসিয়া একটি বিবাহ দেখিলাম\n  Start: 997, End: 1057\n--------------------------------------------------\nSentence 12: ভবিষ্যৎ বরকন্যাদিগের শিক্ষার্থ লিখিয়া রাখিতেছি\n  Start: 1059, End: 1106\n--------------------------------------------------\nSentence 13: মন্িকা ফুলের বিবাহ\n  Start: 1109, End: 1127\n--------------------------------------------------\nSentence 14: বৈকালশৈশব অবসানপ্রায় কলিকাকন্যা বিবাহযোগ্যা হইয়া আসিল\n  Start: 1129, End: 1184\n--------------------------------------------------\nSentence 15: কন্যার পিতা বড়লোক নহে ক্ষুদ্র বৃক্ষ তাহাতে আবার অনেকগুলি কন্যাভারগ্রস্ত\n  Start: 1186, End: 1258\n--------------------------------------------------\nSentence 16: সম্বন্ধের অনেক কথা হইতেছিল কিন্ত কোনটা স্থির হয় নাই\n  Start: 1260, End: 1312\n--------------------------------------------------\nSentence 17: উদ্যানের রাজা স্থলপদ্ম নির্দোষ পাত্র বটে কিন্ত ঘর বড় উচু স্থলপদ্ম অত দূর নামিল না\n  Start: 1314, End: 1396\n--------------------------------------------------\nSentence 18: জবা এ বিবাহে অসম্মত ছিল না কিন্তু জবা বড় রাগী কন্যাকতা পিছাইলেন\n  Start: 1398, End: 1462\n--------------------------------------------------\nSentence 19: গন্ধরাজ পাত্র ভালো কিন্তু বড় দেমাগ প্রায় তাহার বর পাওয়া যায় না\n  Start: 1464, End: 1530\n--------------------------------------------------\nSentence 20: এইরূপ অব্যবস্থার সময়ে ভ্রমররাজ ঘটক হইয়া মল্পিকা বৃক্ষসদনে উপস্থিত হইলেন\n  Start: 1532, End: 1605\n--------------------------------------------------\nSentence 21: তিনি আসিয়া বলিলেন শুণ্ গুণ্  গুণ্ মেয়ে আছে  পাতা নাড়িয়া সায় দিলেন “আছে ভ্রমর পত্রাসন গ্রহণ করিয়া বলিলেন “গুণ্ গুণ্ গুণ্ গুণ্ গ্ণাগুণৃ মেয়ে দেখিব\n  Start: 1607, End: 1758\n--------------------------------------------------\nSentence 22: বৃক্ষ শাখা নত করিয়া মুদিতনয়না অবগ্ুপ্ঠনবতী কন্যা দেখাইলেন\n  Start: 1762, End: 1821\n--------------------------------------------------\nSentence 23: ভ্রমর একবার বৃক্ষকে প্রদক্ষিণ করিয়া আসিয়া বলিলেন গুণৃ গুণৃ  গুণৃ গুণ দেখিতে চাই\n  Start: 1823, End: 1904\n--------------------------------------------------\nSentence 24: ঘোমটা খোল\n  Start: 1906, End: 1915\n--------------------------------------------------\nSentence 25: ”  লজ্জাশীলা কন্যা কিছুতেই ঘোম্টা খুলে না\n  Start: 1917, End: 1958\n--------------------------------------------------\nSentence 26: বৃক্ষ বলিলেন “আমার মেয়েগুলি বড় লাজুক\n  Start: 1960, End: 1998\n--------------------------------------------------\nSentence 27: তুমি একটু অপেক্ষা কর আমি মুখ দেখাইতেছি\n  Start: 2000, End: 2038\n--------------------------------------------------\nSentence 28: ”  ২০১৮\n  Start: 2040, End: 2047\n--------------------------------------------------\nTokenized data saved to tokenized_data.json\nSentence boundaries saved to sentence_boundaries.json\n",
          "output_type": "stream"
        }
      ],
      "execution_count": null
    },
    {
      "cell_type": "code",
      "source": [
        "import json\n",
        "import re\n",
        "import nltk\n",
        "from nltk.tokenize import regexp_tokenize\n",
        "\n",
        "# Ensure necessary NLTK resources are downloaded\n",
        "nltk.download(\"punkt\")\n",
        "\n",
        "# Load normalized text\n",
        "input_file = \"normalized_text.json\"\n",
        "\n",
        "with open(input_file, \"r\", encoding=\"utf-8\") as f:\n",
        "    normalized_data = json.load(f)\n",
        "\n",
        "# Combine all sections into one text block\n",
        "all_text = \" \".join([section for page_data in normalized_data.values() for section in page_data[\"sections\"]])\n",
        "\n",
        "# --- Step 1: Implement Tokenizer ---\n",
        "\n",
        "def bangla_tokenizer(text):\n",
        "    \"\"\"\n",
        "    Custom Bangla tokenizer handling punctuation, numbers, emoticons, and word tokenization.\n",
        "    \"\"\"\n",
        "    # Define regex patterns for tokenization\n",
        "    token_pattern = r\"\\w+|[^\\w\\s]\"\n",
        "\n",
        "    # Tokenize text using the defined pattern\n",
        "    tokens = regexp_tokenize(text, token_pattern)\n",
        "\n",
        "    return tokens\n",
        "\n",
        "# --- Step 2: Sentence Splitting ---\n",
        "def split_sentences(text):\n",
        "    \"\"\"\n",
        "    Splits text into sentences based on Bangla sentence delimiters (e.g., full stop, exclamation marks, question marks).\n",
        "    \"\"\"\n",
        "    # Sentence delimiters for Bangla\n",
        "    sentence_endings = r\"[।!?]\"\n",
        "\n",
        "    # Split text using the sentence delimiters\n",
        "    sentences = re.split(sentence_endings, text)\n",
        "    # Remove any empty strings (if any) and strip whitespace\n",
        "    sentences = [sentence.strip() for sentence in sentences if sentence.strip()]\n",
        "\n",
        "    return sentences\n",
        "\n",
        "# --- Step 3: Process All Text ---\n",
        "\n",
        "# Split the text into sentences\n",
        "sentences = split_sentences(all_text)\n",
        "\n",
        "# Tokenize each sentence\n",
        "tokenized_data = {}\n",
        "for idx, sentence in enumerate(sentences):\n",
        "    tokens = bangla_tokenizer(sentence)\n",
        "    tokenized_data[f\"sentence_{idx + 1}\"] = tokens\n",
        "\n",
        "# --- Optional Step: Sentence Boundaries --\n",
        "# If you want to track sentence boundaries, save sentence boundaries separately\n",
        "sentence_boundaries = [{\"sentence\": sentence, \"start\": all_text.find(sentence), \"end\": all_text.find(sentence) + len(sentence)}\n",
        "                       for sentence in sentences]\n",
        "\n",
        "# Print sentence boundaries\n",
        "print(\"Sentence Boundaries (Start and End Positions):\")\n",
        "for i, boundary in enumerate(sentence_boundaries, start=1):\n",
        "    print(f\"Sentence {i}: {boundary['sentence']}\")\n",
        "    print(f\"  Start: {boundary['start']}, End: {boundary['end']}\")\n",
        "    print(\"-\" * 50)\n",
        "\n",
        "# Save tokenized data to a file\n",
        "output_file = \"tokenized_data.json\"\n",
        "with open(output_file, \"w\", encoding=\"utf-8\") as f:\n",
        "    json.dump(tokenized_data, f, ensure_ascii=False, indent=4)\n",
        "\n",
        "# Save sentence boundaries (optional)\n",
        "boundary_output_file = \"sentence_boundaries.json\"\n",
        "with open(boundary_output_file, \"w\", encoding=\"utf-8\") as f:\n",
        "    json.dump(sentence_boundaries, f, ensure_ascii=False, indent=4)\n",
        "\n",
        "print(f\"Tokenized data saved to {output_file}\")\n",
        "print(f\"Sentence boundaries saved to {boundary_output_file}\")\n"
      ],
      "metadata": {
        "trusted": true,
        "execution": {
          "iopub.status.busy": "2025-03-02T05:11:13.943664Z",
          "iopub.execute_input": "2025-03-02T05:11:13.943961Z",
          "iopub.status.idle": "2025-03-02T05:11:13.968133Z",
          "shell.execute_reply.started": "2025-03-02T05:11:13.943939Z",
          "shell.execute_reply": "2025-03-02T05:11:13.967394Z"
        },
        "id": "WXl-FtOF2h85",
        "outputId": "788a84e5-79e7-466e-97c1-85c0f6cba8cb"
      },
      "outputs": [
        {
          "name": "stdout",
          "text": "[nltk_data] Downloading package punkt to /usr/share/nltk_data...\n[nltk_data]   Package punkt is already up-to-date!\nSentence Boundaries (Start and End Positions):\nSentence 1: ফুলের বিবাহ  বঙ্কিমচন্দ্র চট্টোপাধ্যায়  লেখকপরিচিতি  বঙ্কিমচন্দ্র চট্টোপাধ্যায় ২৬শে জুন ১৮৩৮ সালে পশ্চিমবঙ্গের চব্বিশ পরগনা জেলার অন্তর্গত কীঠালপাড়া গ্রামে জন্মগ্রহণ করেন\n  Start: 0, End: 173\n--------------------------------------------------\nSentence 2: তিনি ১৮৫৮ সালে কলকাতা বিশ্ববিদ্যালয় থেকে বিএপরীক্ষায় উত্তাঁর্ণ হন এবং সে বছরই ডেপুটি ম্যাজিস্ট্রেট ও ডেপুটি কালেক্টর পদে চাকরিতে নিযুক্ত হন\n  Start: 175, End: 316\n--------------------------------------------------\nSentence 3: বঙ্কিমচন্দ্র তেত্রিশ বছর একই পদে চাকরি করে ১৮৯১ সালে অবসর গ্রহণ করেন\n  Start: 318, End: 386\n--------------------------------------------------\nSentence 4: তিনি পাঠ্যাবস্থায়ই সাহিত্যচর্চা শুরু করেন\n  Start: 388, End: 430\n--------------------------------------------------\nSentence 5: তার অসামান্য কৃতিত্ প্রকাশ পেয়েছে পাশ্চাত্য ভাবাদর্শে বাংলা উপন্যাস রচনার পথিকৃৎ হিসেবে\n  Start: 432, End: 520\n--------------------------------------------------\nSentence 6: ১৮৬৫ সালে প্রকাশিত তাঁর প্রথম বাংলা উপন্যাস দুর্েশনন্দিনী বাংলা কথাসাহিত্যে এক নবদিগন্ত উন্মোচন করে\n  Start: 522, End: 621\n--------------------------------------------------\nSentence 7: তার অন্যান্য উপন্যাস হলো কপালকৃওলা মৃণালিনী বিষবৃক্ষ ইন্দিরা যুগলাঙগুরীয় রাধারানী চন্দ্রশেখর রজনী কৃষ্ণকান্তের উইল রাজসিংহ আনন্দমঠ দেবী চৌধুরানী ও সীতারাম\n  Start: 623, End: 778\n--------------------------------------------------\nSentence 8: প্রবন্ধ সাহিত্যেও বঙ্কিমচন্দ্র কৃতিত্ব দেখিয়েছেন\n  Start: 780, End: 829\n--------------------------------------------------\nSentence 9: কমলাকান্তের দণ্ড লোকরহস্য কৃষ্ণ চরিত্র ইত্যাদি তার উল্লেখযোগ্য প্রবন্ধগ্রন্থ\n  Start: 831, End: 907\n--------------------------------------------------\nSentence 10: বঙ্কিমচন্দ্র চট্টোপাধ্যায় ১৮৯৪ সালের ৮ই এপ্রিল মৃত্যুবরণ করেন   বৈশাখ মাস বিবাহের মাস\n  Start: 909, End: 995\n--------------------------------------------------\nSentence 11: আমি ১লা বৈশাখে নসী বাবুর ফুলবাগানে বসিয়া একটি বিবাহ দেখিলাম\n  Start: 997, End: 1057\n--------------------------------------------------\nSentence 12: ভবিষ্যৎ বরকন্যাদিগের শিক্ষার্থ লিখিয়া রাখিতেছি\n  Start: 1059, End: 1106\n--------------------------------------------------\nSentence 13: মন্িকা ফুলের বিবাহ\n  Start: 1109, End: 1127\n--------------------------------------------------\nSentence 14: বৈকালশৈশব অবসানপ্রায় কলিকাকন্যা বিবাহযোগ্যা হইয়া আসিল\n  Start: 1129, End: 1184\n--------------------------------------------------\nSentence 15: কন্যার পিতা বড়লোক নহে ক্ষুদ্র বৃক্ষ তাহাতে আবার অনেকগুলি কন্যাভারগ্রস্ত\n  Start: 1186, End: 1258\n--------------------------------------------------\nSentence 16: সম্বন্ধের অনেক কথা হইতেছিল কিন্ত কোনটা স্থির হয় নাই\n  Start: 1260, End: 1312\n--------------------------------------------------\nSentence 17: উদ্যানের রাজা স্থলপদ্ম নির্দোষ পাত্র বটে কিন্ত ঘর বড় উচু স্থলপদ্ম অত দূর নামিল না\n  Start: 1314, End: 1396\n--------------------------------------------------\nSentence 18: জবা এ বিবাহে অসম্মত ছিল না কিন্তু জবা বড় রাগী কন্যাকতা পিছাইলেন\n  Start: 1398, End: 1462\n--------------------------------------------------\nSentence 19: গন্ধরাজ পাত্র ভালো কিন্তু বড় দেমাগ প্রায় তাহার বর পাওয়া যায় না\n  Start: 1464, End: 1530\n--------------------------------------------------\nSentence 20: এইরূপ অব্যবস্থার সময়ে ভ্রমররাজ ঘটক হইয়া মল্পিকা বৃক্ষসদনে উপস্থিত হইলেন\n  Start: 1532, End: 1605\n--------------------------------------------------\nSentence 21: তিনি আসিয়া বলিলেন শুণ্ গুণ্  গুণ্ মেয়ে আছে  পাতা নাড়িয়া সায় দিলেন “আছে ভ্রমর পত্রাসন গ্রহণ করিয়া বলিলেন “গুণ্ গুণ্ গুণ্ গুণ্ গ্ণাগুণৃ মেয়ে দেখিব\n  Start: 1607, End: 1758\n--------------------------------------------------\nSentence 22: বৃক্ষ শাখা নত করিয়া মুদিতনয়না অবগ্ুপ্ঠনবতী কন্যা দেখাইলেন\n  Start: 1762, End: 1821\n--------------------------------------------------\nSentence 23: ভ্রমর একবার বৃক্ষকে প্রদক্ষিণ করিয়া আসিয়া বলিলেন গুণৃ গুণৃ  গুণৃ গুণ দেখিতে চাই\n  Start: 1823, End: 1904\n--------------------------------------------------\nSentence 24: ঘোমটা খোল\n  Start: 1906, End: 1915\n--------------------------------------------------\nSentence 25: ”  লজ্জাশীলা কন্যা কিছুতেই ঘোম্টা খুলে না\n  Start: 1917, End: 1958\n--------------------------------------------------\nSentence 26: বৃক্ষ বলিলেন “আমার মেয়েগুলি বড় লাজুক\n  Start: 1960, End: 1998\n--------------------------------------------------\nSentence 27: তুমি একটু অপেক্ষা কর আমি মুখ দেখাইতেছি\n  Start: 2000, End: 2038\n--------------------------------------------------\nSentence 28: ”  ২০১৮\n  Start: 2040, End: 2047\n--------------------------------------------------\nTokenized data saved to tokenized_data.json\nSentence boundaries saved to sentence_boundaries.json\n",
          "output_type": "stream"
        }
      ],
      "execution_count": null
    },
    {
      "cell_type": "code",
      "source": [
        "import json\n",
        "import nltk\n",
        "from nltk.tokenize import sent_tokenize\n",
        "\n",
        "# Ensure necessary NLTK resources are downloaded\n",
        "nltk.download(\"punkt\")\n",
        "\n",
        "# Load normalized text\n",
        "input_file = \"normalized_text.json\"\n",
        "\n",
        "with open(input_file, \"r\", encoding=\"utf-8\") as f:\n",
        "    normalized_data = json.load(f)\n",
        "\n",
        "# Combine all sections into one text block\n",
        "all_text = \" \".join([section for page_data in normalized_data.values() for section in page_data[\"sections\"]])\n",
        "\n",
        "# --- Step 1: Implement Sentence Tokenizer ---\n",
        "def bangla_sentence_tokenizer(text):\n",
        "    \"\"\"\n",
        "    Custom Bangla sentence tokenizer that handles punctuation like '।', '!', and '?'.\n",
        "    \"\"\"\n",
        "    # Using NLTK's sentence tokenizer as a starting point, or implement custom rules\n",
        "    sentences = sent_tokenize(text, language='english')  # Using English tokenizer as NLTK doesn't have Bangla by default\n",
        "\n",
        "    # Further processing to ensure Bangla punctuation is properly handled\n",
        "    bangla_punctuation = ['।', '!', '?', '.', '।']  # List of sentence-ending punctuation marks in Bangla\n",
        "    sentence_endings = re.compile(r'([{}]+)'.format(''.join(bangla_punctuation)))\n",
        "\n",
        "    sentences = sentence_endings.split(text)\n",
        "\n",
        "    # Filter empty sentences and strip extra spaces\n",
        "    sentences = [s.strip() for s in sentences if s.strip()]\n",
        "\n",
        "    return sentences\n",
        "\n",
        "# --- Step 2: Process All Text ---\n",
        "# Tokenize the full text into sentences\n",
        "sentences = bangla_sentence_tokenizer(all_text)\n",
        "\n",
        "# --- Output: Print some sentences to verify ---\n",
        "print(\"Sample Sentences from the Text:\")\n",
        "for sentence in sentences[:100]:  # Displaying the first 5 sentences to check\n",
        "    print(sentence)\n",
        "\n",
        "# --- Save Tokenized Sentences ---\n",
        "output_file = \"sentence_tokenized_data.json\"\n",
        "with open(output_file, \"w\", encoding=\"utf-8\") as f:\n",
        "    json.dump(sentences, f, ensure_ascii=False, indent=4)\n",
        "\n",
        "print(f\"Sentence tokenized data saved to {output_file}\")\n"
      ],
      "metadata": {
        "trusted": true,
        "execution": {
          "iopub.status.busy": "2025-03-02T05:11:21.316829Z",
          "iopub.execute_input": "2025-03-02T05:11:21.317122Z",
          "iopub.status.idle": "2025-03-02T05:11:21.334742Z",
          "shell.execute_reply.started": "2025-03-02T05:11:21.317100Z",
          "shell.execute_reply": "2025-03-02T05:11:21.334049Z"
        },
        "id": "vUNVx9gZ2h85",
        "outputId": "909515da-c786-4e3b-a60a-53c0b7469fc4"
      },
      "outputs": [
        {
          "name": "stdout",
          "text": "[nltk_data] Downloading package punkt to /usr/share/nltk_data...\n[nltk_data]   Package punkt is already up-to-date!\nSample Sentences from the Text:\nফুলের বিবাহ  বঙ্কিমচন্দ্র চট্টোপাধ্যায়  লেখকপরিচিতি  বঙ্কিমচন্দ্র চট্টোপাধ্যায় ২৬শে জুন ১৮৩৮ সালে পশ্চিমবঙ্গের চব্বিশ পরগনা জেলার অন্তর্গত কীঠালপাড়া গ্রামে জন্মগ্রহণ করেন\n।\nতিনি ১৮৫৮ সালে কলকাতা বিশ্ববিদ্যালয় থেকে বিএপরীক্ষায় উত্তাঁর্ণ হন এবং সে বছরই ডেপুটি ম্যাজিস্ট্রেট ও ডেপুটি কালেক্টর পদে চাকরিতে নিযুক্ত হন\n।\nবঙ্কিমচন্দ্র তেত্রিশ বছর একই পদে চাকরি করে ১৮৯১ সালে অবসর গ্রহণ করেন\n।\nতিনি পাঠ্যাবস্থায়ই সাহিত্যচর্চা শুরু করেন\n।\nতার অসামান্য কৃতিত্ প্রকাশ পেয়েছে পাশ্চাত্য ভাবাদর্শে বাংলা উপন্যাস রচনার পথিকৃৎ হিসেবে\n।\n১৮৬৫ সালে প্রকাশিত তাঁর প্রথম বাংলা উপন্যাস দুর্েশনন্দিনী বাংলা কথাসাহিত্যে এক নবদিগন্ত উন্মোচন করে\n।\nতার অন্যান্য উপন্যাস হলো কপালকৃওলা মৃণালিনী বিষবৃক্ষ ইন্দিরা যুগলাঙগুরীয় রাধারানী চন্দ্রশেখর রজনী কৃষ্ণকান্তের উইল রাজসিংহ আনন্দমঠ দেবী চৌধুরানী ও সীতারাম\n।\nপ্রবন্ধ সাহিত্যেও বঙ্কিমচন্দ্র কৃতিত্ব দেখিয়েছেন\n।\nকমলাকান্তের দণ্ড লোকরহস্য কৃষ্ণ চরিত্র ইত্যাদি তার উল্লেখযোগ্য প্রবন্ধগ্রন্থ\n।\nবঙ্কিমচন্দ্র চট্টোপাধ্যায় ১৮৯৪ সালের ৮ই এপ্রিল মৃত্যুবরণ করেন   বৈশাখ মাস বিবাহের মাস\n।\nআমি ১লা বৈশাখে নসী বাবুর ফুলবাগানে বসিয়া একটি বিবাহ দেখিলাম\n।\nভবিষ্যৎ বরকন্যাদিগের শিক্ষার্থ লিখিয়া রাখিতেছি\n।\nমন্িকা ফুলের বিবাহ\n।\nবৈকালশৈশব অবসানপ্রায় কলিকাকন্যা বিবাহযোগ্যা হইয়া আসিল\n।\nকন্যার পিতা বড়লোক নহে ক্ষুদ্র বৃক্ষ তাহাতে আবার অনেকগুলি কন্যাভারগ্রস্ত\n।\nসম্বন্ধের অনেক কথা হইতেছিল কিন্ত কোনটা স্থির হয় নাই\n।\nউদ্যানের রাজা স্থলপদ্ম নির্দোষ পাত্র বটে কিন্ত ঘর বড় উচু স্থলপদ্ম অত দূর নামিল না\n।\nজবা এ বিবাহে অসম্মত ছিল না কিন্তু জবা বড় রাগী কন্যাকতা পিছাইলেন\n।\nগন্ধরাজ পাত্র ভালো কিন্তু বড় দেমাগ প্রায় তাহার বর পাওয়া যায় না\n।\nএইরূপ অব্যবস্থার সময়ে ভ্রমররাজ ঘটক হইয়া মল্পিকা বৃক্ষসদনে উপস্থিত হইলেন\n।\nতিনি আসিয়া বলিলেন শুণ্ গুণ্  গুণ্ মেয়ে আছে  পাতা নাড়িয়া সায় দিলেন “আছে ভ্রমর পত্রাসন গ্রহণ করিয়া বলিলেন “গুণ্ গুণ্ গুণ্ গুণ্ গ্ণাগুণৃ মেয়ে দেখিব\n।\nবৃক্ষ শাখা নত করিয়া মুদিতনয়না অবগ্ুপ্ঠনবতী কন্যা দেখাইলেন\n।\nভ্রমর একবার বৃক্ষকে প্রদক্ষিণ করিয়া আসিয়া বলিলেন গুণৃ গুণৃ  গুণৃ গুণ দেখিতে চাই\n।\nঘোমটা খোল\n।\n”  লজ্জাশীলা কন্যা কিছুতেই ঘোম্টা খুলে না\n।\nবৃক্ষ বলিলেন “আমার মেয়েগুলি বড় লাজুক\n।\nতুমি একটু অপেক্ষা কর আমি মুখ দেখাইতেছি\n।\n”  ২০১৮\nSentence tokenized data saved to sentence_tokenized_data.json\n",
          "output_type": "stream"
        }
      ],
      "execution_count": null
    },
    {
      "cell_type": "code",
      "source": [
        "import json\n",
        "import nltk\n",
        "from nltk.tokenize import word_tokenize\n",
        "\n",
        "# Ensure necessary NLTK resources are downloaded\n",
        "nltk.download(\"punkt\")\n",
        "\n",
        "# Load normalized text\n",
        "input_file = \"normalized_text.json\"\n",
        "\n",
        "with open(input_file, \"r\", encoding=\"utf-8\") as f:\n",
        "    normalized_data = json.load(f)\n",
        "\n",
        "# Combine all sections into one text block\n",
        "all_text = \" \".join([section for page_data in normalized_data.values() for section in page_data[\"sections\"]])\n",
        "\n",
        "# --- Step 1: Word Tokenizer ---\n",
        "def bangla_word_tokenizer(text):\n",
        "    \"\"\"\n",
        "    Custom Bangla word tokenizer that handles punctuation and spaces properly.\n",
        "    \"\"\"\n",
        "    # Use NLTK's word_tokenize, but ensure it handles Bangla correctly\n",
        "    # NLTK's tokenizer for English will work fine for Bangla as it works based on whitespace and punctuation.\n",
        "    words = word_tokenize(text)\n",
        "\n",
        "    return words\n",
        "\n",
        "# --- Step 2: Process All Text ---\n",
        "# Tokenize the full text into words\n",
        "words = bangla_word_tokenizer(all_text)\n",
        "\n",
        "# --- Output: Print a Sample of Tokenized Words ---\n",
        "print(\"Sample Tokenized Words from the Text:\")\n",
        "for word in words[:290]:  # Displaying the first 20 words to check\n",
        "    print(word)\n",
        "\n",
        "# --- Save Tokenized Words ---\n",
        "output_file = \"word_tokenized_data.json\"\n",
        "with open(output_file, \"w\", encoding=\"utf-8\") as f:\n",
        "    json.dump(words, f, ensure_ascii=False, indent=4)\n",
        "\n",
        "print(f\"Word tokenized data saved to {output_file}\")\n"
      ],
      "metadata": {
        "trusted": true,
        "execution": {
          "iopub.status.busy": "2025-03-02T05:11:28.373879Z",
          "iopub.execute_input": "2025-03-02T05:11:28.374172Z",
          "iopub.status.idle": "2025-03-02T05:11:28.418102Z",
          "shell.execute_reply.started": "2025-03-02T05:11:28.374150Z",
          "shell.execute_reply": "2025-03-02T05:11:28.417415Z"
        },
        "id": "SS-9bKhP2h9H",
        "outputId": "7a6f74e7-7c78-4f1b-b177-5c5971ff6f79"
      },
      "outputs": [
        {
          "name": "stdout",
          "text": "[nltk_data] Downloading package punkt to /usr/share/nltk_data...\n[nltk_data]   Package punkt is already up-to-date!\nSample Tokenized Words from the Text:\nফুলের\nবিবাহ\nবঙ্কিমচন্দ্র\nচট্টোপাধ্যায়\nলেখকপরিচিতি\nবঙ্কিমচন্দ্র\nচট্টোপাধ্যায়\n২৬শে\nজুন\n১৮৩৮\nসালে\nপশ্চিমবঙ্গের\nচব্বিশ\nপরগনা\nজেলার\nঅন্তর্গত\nকীঠালপাড়া\nগ্রামে\nজন্মগ্রহণ\nকরেন।\nতিনি\n১৮৫৮\nসালে\nকলকাতা\nবিশ্ববিদ্যালয়\nথেকে\nবিএপরীক্ষায়\nউত্তাঁর্ণ\nহন\nএবং\nসে\nবছরই\nডেপুটি\nম্যাজিস্ট্রেট\nও\nডেপুটি\nকালেক্টর\nপদে\nচাকরিতে\nনিযুক্ত\nহন।\nবঙ্কিমচন্দ্র\nতেত্রিশ\nবছর\nএকই\nপদে\nচাকরি\nকরে\n১৮৯১\nসালে\nঅবসর\nগ্রহণ\nকরেন।\nতিনি\nপাঠ্যাবস্থায়ই\nসাহিত্যচর্চা\nশুরু\nকরেন।\nতার\nঅসামান্য\nকৃতিত্\nপ্রকাশ\nপেয়েছে\nপাশ্চাত্য\nভাবাদর্শে\nবাংলা\nউপন্যাস\nরচনার\nপথিকৃৎ\nহিসেবে।\n১৮৬৫\nসালে\nপ্রকাশিত\nতাঁর\nপ্রথম\nবাংলা\nউপন্যাস\nদুর্েশনন্দিনী\nবাংলা\nকথাসাহিত্যে\nএক\nনবদিগন্ত\nউন্মোচন\nকরে।\nতার\nঅন্যান্য\nউপন্যাস\nহলো\nকপালকৃওলা\nমৃণালিনী\nবিষবৃক্ষ\nইন্দিরা\nযুগলাঙগুরীয়\nরাধারানী\nচন্দ্রশেখর\nরজনী\nকৃষ্ণকান্তের\nউইল\nরাজসিংহ\nআনন্দমঠ\nদেবী\nচৌধুরানী\nও\nসীতারাম।\nপ্রবন্ধ\nসাহিত্যেও\nবঙ্কিমচন্দ্র\nকৃতিত্ব\nদেখিয়েছেন।\nকমলাকান্তের\nদণ্ড\nলোকরহস্য\nকৃষ্ণ\nচরিত্র\nইত্যাদি\nতার\nউল্লেখযোগ্য\nপ্রবন্ধগ্রন্থ।\nবঙ্কিমচন্দ্র\nচট্টোপাধ্যায়\n১৮৯৪\nসালের\n৮ই\nএপ্রিল\nমৃত্যুবরণ\nকরেন\nবৈশাখ\nমাস\nবিবাহের\nমাস।\nআমি\n১লা\nবৈশাখে\nনসী\nবাবুর\nফুলবাগানে\nবসিয়া\nএকটি\nবিবাহ\nদেখিলাম।\nভবিষ্যৎ\nবরকন্যাদিগের\nশিক্ষার্থ\nলিখিয়া\nরাখিতেছি।\nমন্িকা\nফুলের\nবিবাহ।\nবৈকালশৈশব\nঅবসানপ্রায়\nকলিকাকন্যা\nবিবাহযোগ্যা\nহইয়া\nআসিল।\nকন্যার\nপিতা\nবড়লোক\nনহে\nক্ষুদ্র\nবৃক্ষ\nতাহাতে\nআবার\nঅনেকগুলি\nকন্যাভারগ্রস্ত।\nসম্বন্ধের\nঅনেক\nকথা\nহইতেছিল\nকিন্ত\nকোনটা\nস্থির\nহয়\nনাই।\nউদ্যানের\nরাজা\nস্থলপদ্ম\nনির্দোষ\nপাত্র\nবটে\nকিন্ত\nঘর\nবড়\nউচু\nস্থলপদ্ম\nঅত\nদূর\nনামিল\nনা।\nজবা\nএ\nবিবাহে\nঅসম্মত\nছিল\nনা\nকিন্তু\nজবা\nবড়\nরাগী\nকন্যাকতা\nপিছাইলেন।\nগন্ধরাজ\nপাত্র\nভালো\nকিন্তু\nবড়\nদেমাগ\nপ্রায়\nতাহার\nবর\nপাওয়া\nযায়\nনা।\nএইরূপ\nঅব্যবস্থার\nসময়ে\nভ্রমররাজ\nঘটক\nহইয়া\nমল্পিকা\nবৃক্ষসদনে\nউপস্থিত\nহইলেন।\nতিনি\nআসিয়া\nবলিলেন\nশুণ্\nগুণ্\nগুণ্\nমেয়ে\nআছে\nপাতা\nনাড়িয়া\nসায়\nদিলেন\n“\nআছে\nভ্রমর\nপত্রাসন\nগ্রহণ\nকরিয়া\nবলিলেন\n“\nগুণ্\nগুণ্\nগুণ্\nগুণ্\nগ্ণাগুণৃ\nমেয়ে\nদেখিব।\nবৃক্ষ\nশাখা\nনত\nকরিয়া\nমুদিতনয়না\nঅবগ্ুপ্ঠনবতী\nকন্যা\nদেখাইলেন।\nভ্রমর\nএকবার\nবৃক্ষকে\nপ্রদক্ষিণ\nকরিয়া\nআসিয়া\nবলিলেন\nগুণৃ\nগুণৃ\nগুণৃ\nগুণ\nদেখিতে\nচাই।\nঘোমটা\nখোল।\n”\nলজ্জাশীলা\nকন্যা\nকিছুতেই\nঘোম্টা\nখুলে\nনা।\nবৃক্ষ\nবলিলেন\n“\nআমার\nমেয়েগুলি\nবড়\nলাজুক।\nতুমি\nএকটু\nঅপেক্ষা\nকর\nWord tokenized data saved to word_tokenized_data.json\n",
          "output_type": "stream"
        }
      ],
      "execution_count": null
    },
    {
      "cell_type": "code",
      "source": [
        "nltk.download('wordnet')\n"
      ],
      "metadata": {
        "trusted": true,
        "execution": {
          "iopub.status.busy": "2025-03-02T05:11:38.724004Z",
          "iopub.execute_input": "2025-03-02T05:11:38.724336Z",
          "iopub.status.idle": "2025-03-02T05:11:38.789891Z",
          "shell.execute_reply.started": "2025-03-02T05:11:38.724312Z",
          "shell.execute_reply": "2025-03-02T05:11:38.788966Z"
        },
        "id": "9F1iaC-E2h9H",
        "outputId": "7219e609-b822-4920-b736-6d16fdec2eaf"
      },
      "outputs": [
        {
          "name": "stdout",
          "text": "[nltk_data] Downloading package wordnet to /usr/share/nltk_data...\n[nltk_data]   Package wordnet is already up-to-date!\n",
          "output_type": "stream"
        },
        {
          "execution_count": 37,
          "output_type": "execute_result",
          "data": {
            "text/plain": "True"
          },
          "metadata": {}
        }
      ],
      "execution_count": null
    },
    {
      "cell_type": "code",
      "source": [
        "import nltk\n",
        "nltk.download('wordnet')\n",
        "nltk.download('omw-1.4')  # To ensure the WordNet resource is downloaded\n"
      ],
      "metadata": {
        "trusted": true,
        "execution": {
          "iopub.status.busy": "2025-03-02T05:11:42.108709Z",
          "iopub.execute_input": "2025-03-02T05:11:42.109042Z",
          "iopub.status.idle": "2025-03-02T05:11:42.302357Z",
          "shell.execute_reply.started": "2025-03-02T05:11:42.109014Z",
          "shell.execute_reply": "2025-03-02T05:11:42.301467Z"
        },
        "id": "6ikDVp3p2h9I",
        "outputId": "73399ae6-c0ca-4d7b-eadf-99040cd50235"
      },
      "outputs": [
        {
          "name": "stdout",
          "text": "[nltk_data] Downloading package wordnet to /usr/share/nltk_data...\n[nltk_data]   Package wordnet is already up-to-date!\n[nltk_data] Downloading package omw-1.4 to /usr/share/nltk_data...\n",
          "output_type": "stream"
        },
        {
          "execution_count": 38,
          "output_type": "execute_result",
          "data": {
            "text/plain": "True"
          },
          "metadata": {}
        }
      ],
      "execution_count": null
    },
    {
      "cell_type": "markdown",
      "source": [
        "Task 8: Part-of-Speech (POS) Tagging"
      ],
      "metadata": {
        "id": "ztOWvROg2h9I"
      }
    },
    {
      "cell_type": "code",
      "source": [
        "import json\n",
        "import nltk\n",
        "from nltk.tokenize import word_tokenize\n",
        "\n",
        "# Load normalized text\n",
        "input_file = \"normalized_text.json\"\n",
        "\n",
        "with open(input_file, \"r\", encoding=\"utf-8\") as f:\n",
        "    normalized_data = json.load(f)\n",
        "\n",
        "# Combine all sections into one text block\n",
        "all_text = \" \".join([section for page_data in normalized_data.values() for section in page_data[\"sections\"]])\n",
        "\n",
        "# --- Step 1: Word Tokenizer ---\n",
        "def bangla_word_tokenizer(text):\n",
        "    \"\"\"\n",
        "    Custom Bangla word tokenizer that handles punctuation and spaces properly.\n",
        "    \"\"\"\n",
        "    words = word_tokenize(text)  # Tokenize the sentence\n",
        "    return words\n",
        "\n",
        "# --- Step 2: Simple Bangla Lemmatization ---\n",
        "def simple_bangla_lemmatizer(word):\n",
        "    \"\"\"\n",
        "    A simple approach to lemmatize Bangla words by removing common suffixes.\n",
        "    This is not a perfect solution but provides a basic method.\n",
        "    \"\"\"\n",
        "    suffixes = ['গুলো', 'টি', 'টি', 'রা', 'টা', 'টা', 'টি', 'তে', 'তেও', 'দের', 'ও', 'ই', 'না']\n",
        "    for suffix in suffixes:\n",
        "        if word.endswith(suffix):\n",
        "            return word[:-len(suffix)]  # Remove the suffix\n",
        "    return word  # Return the word as is if no suffix is found\n",
        "\n",
        "def lemmatize_tokens(tokens):\n",
        "    \"\"\"\n",
        "    Lemmatizes tokens using the simple Bangla lemmatizer.\n",
        "    \"\"\"\n",
        "    return [simple_bangla_lemmatizer(token) for token in tokens]\n",
        "\n",
        "# --- Step 3: Process All Text ---\n",
        "sentences = nltk.sent_tokenize(all_text)  # Tokenize the text into sentences\n",
        "\n",
        "lemmatized_sentences = []\n",
        "\n",
        "for sentence in sentences:\n",
        "    words = bangla_word_tokenizer(sentence)\n",
        "    lemmatized_words = lemmatize_tokens(words)\n",
        "    lemmatized_sentences.append(\" \".join(lemmatized_words))\n",
        "\n",
        "# --- Output: Print a Sample of Lemmatized Sentences ---\n",
        "print(\"Sample Lemmatized Sentences:\")\n",
        "for sentence in lemmatized_sentences[:5]:  # Displaying the first 5 sentences to check\n",
        "    print(sentence)\n",
        "\n",
        "# --- Save Lemmatized Sentences to a Text File ---\n",
        "output_file = \"lemmatized_sentences_bangla.txt\"\n",
        "with open(output_file, \"w\", encoding=\"utf-8\") as f:\n",
        "    for sentence in lemmatized_sentences:\n",
        "        f.write(sentence + \"\\n\")  # Write each sentence in a new line\n",
        "\n",
        "print(f\"Lemmatized sentences saved to {output_file}\")\n"
      ],
      "metadata": {
        "trusted": true,
        "execution": {
          "iopub.status.busy": "2025-03-02T05:12:05.563931Z",
          "iopub.execute_input": "2025-03-02T05:12:05.564303Z",
          "iopub.status.idle": "2025-03-02T05:12:05.576551Z",
          "shell.execute_reply.started": "2025-03-02T05:12:05.564275Z",
          "shell.execute_reply": "2025-03-02T05:12:05.575640Z"
        },
        "id": "_a5FS-Zi2h9I",
        "outputId": "55f2f00d-d0b4-4daa-a002-ba1f8c3504ec"
      },
      "outputs": [
        {
          "name": "stdout",
          "text": "Sample Lemmatized Sentences:\nফুলের বিবাহ বঙ্কিমচন্দ্র চট্টোপাধ্যায় লেখকপরিচিতি বঙ্কিমচন্দ্র চট্টোপাধ্যায় ২৬শে জুন ১৮৩৮ সালে পশ্চিমবঙ্গের চব্বিশ পরগ জেলার অন্তর্গত কীঠালপাড়া গ্রামে জন্মগ্রহণ করেন। তিনি ১৮৫৮ সালে কলকাতা বিশ্ববিদ্যালয় থেকে বিএপরীক্ষায় উত্তাঁর্ণ হন এবং সে বছর ডেপু ম্যাজিস্ট্রেট  ডেপু কালেক্টর পদে চাকরি নিযুক্ত হন। বঙ্কিমচন্দ্র তেত্রিশ বছর এক পদে চাকরি করে ১৮৯১ সালে অবসর গ্রহণ করেন। তিনি পাঠ্যাবস্থায় সাহিত্যচর্চা শুরু করেন। তার অসামান্য কৃতিত্ প্রকাশ পেয়েছে পাশ্চাত্য ভাবাদর্শে বাংলা উপন্যাস রচনার পথিকৃৎ হিসেবে। ১৮৬৫ সালে প্রকাশিত তাঁর প্রথম বাংলা উপন্যাস দুর্েশনন্দিনী বাংলা কথাসাহিত্যে এক নবদিগন্ত উন্মোচন করে। তার অন্যান্য উপন্যাস হলো কপালকৃওলা মৃণালিনী বিষবৃক্ষ ইন্দি যুগলাঙগুরীয় রাধারানী চন্দ্রশেখর রজনী কৃষ্ণকান্তের উইল রাজসিংহ আনন্দমঠ দেবী চৌধুরানী  সীতারাম। প্রবন্ধ সাহিত্যে বঙ্কিমচন্দ্র কৃতিত্ব দেখিয়েছেন। কমলাকান্তের দণ্ড লোকরহস্য কৃষ্ণ চরিত্র ইত্যাদি তার উল্লেখযোগ্য প্রবন্ধগ্রন্থ। বঙ্কিমচন্দ্র চট্টোপাধ্যায় ১৮৯৪ সালের ৮ এপ্রিল মৃত্যুবরণ করেন বৈশাখ মাস বিবাহের মাস। আমি ১লা বৈশাখে নসী বাবুর ফুলবাগানে বসিয়া এক বিবাহ দেখিলাম। ভবিষ্যৎ বরকন্যাদিগের শিক্ষার্থ লিখিয়া রাখিতেছি। মন্িকা ফুলের বিবাহ। বৈকালশৈশব অবসানপ্রায় কলিকাকন্যা বিবাহযোগ্যা হইয়া আসিল। কন্যার পিতা বড়লোক নহে ক্ষুদ্র বৃক্ষ তাহা আবার অনেকগুলি কন্যাভারগ্রস্ত। সম্বন্ধের অনেক কথা হইতেছিল কিন্ত কোন স্থির হয় নাই। উদ্যানের রাজা স্থলপদ্ম নির্দোষ পাত্র বটে কিন্ত ঘর বড় উচু স্থলপদ্ম অত দূর নামিল না। জবা এ বিবাহে অসম্মত ছিল  কিন্তু জবা বড় রাগী কন্যাকতা পিছাইলেন। গন্ধরাজ পাত্র ভালো কিন্তু বড় দেমাগ প্রায় তাহার বর পাওয়া যায় না। এইরূপ অব্যবস্থার সময়ে ভ্রমররাজ ঘটক হইয়া মল্পিকা বৃক্ষসদনে উপস্থিত হইলেন। তিনি আসিয়া বলিলেন শুণ্ গুণ্ গুণ্ মেয়ে আছে পাতা নাড়িয়া সায় দিলেন “ আছে ভ্রমর পত্রাসন গ্রহণ করিয়া বলিলেন “ গুণ্ গুণ্ গুণ্ গুণ্ গ্ণাগুণৃ মেয়ে দেখিব। বৃক্ষ শাখা নত করিয়া মুদিতনয় অবগ্ুপ্ঠনবতী কন্যা দেখাইলেন। ভ্রমর একবার বৃক্ষকে প্রদক্ষিণ করিয়া আসিয়া বলিলেন গুণৃ গুণৃ গুণৃ গুণ দেখি চাই। ঘোম খোল। ” লজ্জাশীলা কন্যা কিছুতে ঘোম্ খুলে না। বৃক্ষ বলিলেন “ আমার মেয়েগুলি বড় লাজুক। তুমি একটু অপেক্ষা কর আমি মুখ দেখাইতেছি। ” ২০১৮\nLemmatized sentences saved to lemmatized_sentences_bangla.txt\n",
          "output_type": "stream"
        }
      ],
      "execution_count": null
    },
    {
      "cell_type": "code",
      "source": [
        "import nltk\n",
        "from nltk.tokenize import word_tokenize\n",
        "import json\n",
        "\n",
        "# Ensure necessary NLTK resources are downloaded\n",
        "nltk.download(\"punkt\")\n",
        "\n",
        "# Load normalized text\n",
        "input_file = \"/kaggle/working/normalized_text.json\"\n",
        "with open(input_file, \"r\", encoding=\"utf-8\") as f:\n",
        "    normalized_data = json.load(f)\n",
        "\n",
        "# Combine all sections into one text block\n",
        "all_text = \" \".join([section for page_data in normalized_data.values() for section in page_data[\"sections\"]])\n",
        "\n",
        "# --- Custom Stemming Function ---\n",
        "def custom_stem(word):\n",
        "    suffixes = [\"তে\", \"তা\", \"ত\", \"রা\", \"নি\", \"শী\", \"ই\", \"এ\", \"অ\", \"অল\", \"র\"]\n",
        "    for suffix in suffixes:\n",
        "        if word.endswith(suffix):\n",
        "            return word[:-len(suffix)]\n",
        "    return word\n",
        "\n",
        "# --- Step 1: Tokenization (Word Tokenizer) ---\n",
        "words = word_tokenize(all_text)\n",
        "\n",
        "# --- Step 2: Apply Custom Stemming ---\n",
        "stemmed_words = [custom_stem(word) for word in words]\n",
        "\n",
        "# --- Step 3: Print Sample Output ---\n",
        "print(\"Sample Stemmed Words:\")\n",
        "for word in stemmed_words[:100]:  # Displaying the first 20 stemmed words\n",
        "    print(word)\n",
        "\n",
        "# --- Save Stemmed Words ---\n",
        "output_file = \"custom_stemmed_words.json\"\n",
        "with open(output_file, \"w\", encoding=\"utf-8\") as f:\n",
        "    json.dump(stemmed_words, f, ensure_ascii=False, indent=4)\n",
        "\n",
        "print(f\"Custom stemmed words saved to {output_file}\")\n"
      ],
      "metadata": {
        "trusted": true,
        "execution": {
          "iopub.status.busy": "2025-03-02T05:12:19.413517Z",
          "iopub.execute_input": "2025-03-02T05:12:19.413817Z",
          "iopub.status.idle": "2025-03-02T05:12:19.436880Z",
          "shell.execute_reply.started": "2025-03-02T05:12:19.413794Z",
          "shell.execute_reply": "2025-03-02T05:12:19.436139Z"
        },
        "id": "5VFqA4ym2h9J",
        "outputId": "8911d9bd-fd11-4c6e-a79a-2c902ee9d186"
      },
      "outputs": [
        {
          "name": "stdout",
          "text": "[nltk_data] Downloading package punkt to /usr/share/nltk_data...\n[nltk_data]   Package punkt is already up-to-date!\nSample Stemmed Words:\nফুলে\nবিবাহ\nবঙ্কিমচন্দ্\nচট্টোপাধ্যায়\nলেখকপরিচিতি\nবঙ্কিমচন্দ্\nচট্টোপাধ্যায়\n২৬শে\nজুন\n১৮৩৮\nসালে\nপশ্চিমবঙ্গে\nচব্বিশ\nপরগনা\nজেলা\nঅন্তর্গ\nকীঠালপাড়া\nগ্রামে\nজন্মগ্রহণ\nকরেন।\nতি\n১৮৫৮\nসালে\nকলকা\nবিশ্ববিদ্যালয়\nথেকে\nবিএপরীক্ষায়\nউত্তাঁর্ণ\nহন\nএবং\nসে\nবছর\nডেপুটি\nম্যাজিস্ট্রেট\nও\nডেপুটি\nকালেক্ট\nপদে\nচাকরি\nনিযুক্\nহন।\nবঙ্কিমচন্দ্\nতেত্রিশ\nবছ\nএক\nপদে\nচাকরি\nকরে\n১৮৯১\nসালে\nঅবস\nগ্রহণ\nকরেন।\nতি\nপাঠ্যাবস্থায়\nসাহিত্যচর্চা\nশুরু\nকরেন।\nতা\nঅসামান্য\nকৃতিত্\nপ্রকাশ\nপেয়েছে\nপাশ্চাত্য\nভাবাদর্শে\nবাংলা\nউপন্যাস\nরচনা\nপথিকৃৎ\nহিসেবে।\n১৮৬৫\nসালে\nপ্রকাশি\nতাঁ\nপ্রথম\nবাংলা\nউপন্যাস\nদুর্েশনন্দিনী\nবাংলা\nকথাসাহিত্যে\nএক\nনবদিগন্\nউন্মোচন\nকরে।\nতা\nঅন্যান্য\nউপন্যাস\nহলো\nকপালকৃওলা\nমৃণালিনী\nবিষবৃক্ষ\nইন্দি\nযুগলাঙগুরীয়\nরাধারানী\nচন্দ্রশেখ\nরজনী\nকৃষ্ণকান্তে\nউইল\nরাজসিংহ\nআনন্দমঠ\nCustom stemmed words saved to custom_stemmed_words.json\n",
          "output_type": "stream"
        }
      ],
      "execution_count": null
    },
    {
      "cell_type": "code",
      "source": [
        "import re\n",
        "import nltk\n",
        "from nltk.tokenize import word_tokenize\n",
        "from nltk.corpus import stopwords\n",
        "\n",
        "# Ensure that necessary NLTK resources are downloaded\n",
        "nltk.download('punkt')\n",
        "nltk.download('averaged_perceptron_tagger')\n",
        "\n",
        "# File path\n",
        "input_file_path = \"/kaggle/working/lemmatized_sentences_bangla.txt\"\n",
        "output_file_path = \"pos_tagging.txt\"\n",
        "\n",
        "# Read lemmatized words from a file\n",
        "def read_file(file_path):\n",
        "    with open(file_path, 'r', encoding='utf-8') as f:\n",
        "        return f.read()\n",
        "\n",
        "# Read the input text\n",
        "input_text = read_file(input_file_path)\n",
        "\n",
        "# Tokenize the words\n",
        "tokens = word_tokenize(input_text)\n",
        "\n",
        "# POS to Bengali Tag Mapping\n",
        "POS_TAG_MAP_BANGLA = {\n",
        "    'NN': 'Noun',\n",
        "    'NNS': 'Noun (Plural)',\n",
        "    'NNP': 'Proper Noun',\n",
        "    'NNPS': 'Proper Noun (Plural)',\n",
        "    'VB': 'Verb',\n",
        "    'VBD': 'Verb (Past)',\n",
        "    'VBG': 'Verb (Gerund)',\n",
        "    'VBN': 'Verb (Past Participle)',\n",
        "    'VBP': 'Verb (Present)',\n",
        "    'VBZ': 'Verb (3rd Person Present)',\n",
        "    'JJ': 'Adjective',\n",
        "    'JJR': 'Adjective (Comparative)',\n",
        "    'JJS': 'Adjective (Superlative)',\n",
        "    'RB': 'Adverb',\n",
        "    'RBR': 'Adverb (Comparative)',\n",
        "    'RBS': 'Adverb (Superlative)',\n",
        "    'PRP': 'Pronoun',\n",
        "    'PRP$': 'Pronoun (Possessive)',\n",
        "    'WP': 'Wh-Pronoun',\n",
        "    'WP$': 'Wh-Possessive',\n",
        "    'WRB': 'Wh-Adverb',\n",
        "    'IN': 'Preposition',\n",
        "    'CC': 'Conjunction',\n",
        "    'DT': 'Determiner',\n",
        "    'UH': 'Interjection',\n",
        "    'CD': 'Cardinal Number',\n",
        "    'FW': 'Foreign Word',\n",
        "    'MD': 'Modal',\n",
        "}\n",
        "\n",
        "# Apply POS tagging\n",
        "def custom_pos_tagging(tokens):\n",
        "    standard_pos_tags = nltk.pos_tag(tokens)  # POS tagging using NLTK\n",
        "    custom_tags = [(word, POS_TAG_MAP_BANGLA.get(tag, 'Other')) for word, tag in standard_pos_tags]\n",
        "    return custom_tags\n",
        "\n",
        "# Apply POS tagging to the tokens\n",
        "custom_pos_tags = custom_pos_tagging(tokens)\n",
        "\n",
        "# Save outputs with beautiful formatting\n",
        "def save_to_file(data, file_name, beautiful=False):\n",
        "    with open(file_name, 'w', encoding='utf-8') as f:\n",
        "        if beautiful and all(isinstance(i, tuple) for i in data):  # Check if it's a list of tuples\n",
        "            # Define table width\n",
        "            word_width = 20\n",
        "            tag_width = 20\n",
        "            divider = f\"+{'-' * word_width}+{'-' * tag_width}+\"\n",
        "\n",
        "            # Write header\n",
        "            f.write(divider + \"\\n\")\n",
        "            f.write(f\"|{'Word'.center(word_width)}|{'POS Tag'.center(tag_width)}|\\n\")\n",
        "            f.write(divider + \"\\n\")\n",
        "\n",
        "            # Write word-tag pairs in a table format\n",
        "            for word, tag in data:\n",
        "                f.write(f\"|{word.center(word_width)}|{tag.center(tag_width)}|\\n\")\n",
        "\n",
        "            # Add closing divider\n",
        "            f.write(divider + \"\\n\")\n",
        "\n",
        "        elif isinstance(data, list):\n",
        "            if all(isinstance(i, tuple) for i in data):  # For word-tag pairs\n",
        "                for word, tag in data:\n",
        "                    f.write(f\"{word}: {tag}\\n\")\n",
        "            else:  # For normal tokens\n",
        "                f.write(\"\\n\".join(data))\n",
        "        elif isinstance(data, str):  # For text data\n",
        "            f.write(data)\n",
        "\n",
        "# Save POS-tagged output\n",
        "save_to_file(custom_pos_tags, output_file_path, beautiful=True)\n",
        "\n",
        "print(\"+--------------------+--------------------+\")\n",
        "print(\"\\n✅ POS tagging completed successfully! Data saved in 'pos_tagging.txt'.\")\n"
      ],
      "metadata": {
        "trusted": true,
        "execution": {
          "iopub.status.busy": "2025-03-02T05:12:31.290474Z",
          "iopub.execute_input": "2025-03-02T05:12:31.290797Z",
          "iopub.status.idle": "2025-03-02T05:12:31.458213Z",
          "shell.execute_reply.started": "2025-03-02T05:12:31.290769Z",
          "shell.execute_reply": "2025-03-02T05:12:31.457484Z"
        },
        "id": "UJbBE3kT2h9J",
        "outputId": "0a0a5a3e-0299-43f4-c39c-d9ff198dae82"
      },
      "outputs": [
        {
          "name": "stdout",
          "text": "[nltk_data] Downloading package punkt to /usr/share/nltk_data...\n[nltk_data]   Package punkt is already up-to-date!\n[nltk_data] Downloading package averaged_perceptron_tagger to\n[nltk_data]     /usr/share/nltk_data...\n[nltk_data]   Package averaged_perceptron_tagger is already up-to-\n[nltk_data]       date!\n+--------------------+--------------------+\n\n✅ POS tagging completed successfully! Data saved in 'pos_tagging.txt'.\n",
          "output_type": "stream"
        }
      ],
      "execution_count": null
    },
    {
      "cell_type": "code",
      "source": [
        "import re\n",
        "import json\n",
        "import nltk\n",
        "from nltk.tokenize import word_tokenize\n",
        "from nltk.corpus import stopwords\n",
        "\n",
        "# Ensure that necessary NLTK resources are downloaded\n",
        "nltk.download('punkt')\n",
        "nltk.download('averaged_perceptron_tagger')\n",
        "\n",
        "# File path\n",
        "input_file_path = \"/kaggle/working/lemmatized_sentences_bangla.txt\"\n",
        "output_json_path = \"pos_tagging.json\"\n",
        "\n",
        "# Read lemmatized words from a file\n",
        "def read_file(file_path):\n",
        "    with open(file_path, 'r', encoding='utf-8') as f:\n",
        "        return f.read()\n",
        "\n",
        "# Read the input text\n",
        "input_text = read_file(input_file_path)\n",
        "\n",
        "# Tokenize the words\n",
        "tokens = word_tokenize(input_text)\n",
        "\n",
        "# POS to Bengali Tag Mapping\n",
        "POS_TAG_MAP_BANGLA = {\n",
        "    'NN': 'Noun',\n",
        "    'NNS': 'Noun (Plural)',\n",
        "    'NNP': 'Proper Noun',\n",
        "    'NNPS': 'Proper Noun (Plural)',\n",
        "    'VB': 'Verb',\n",
        "    'VBD': 'Verb (Past)',\n",
        "    'VBG': 'Verb (Gerund)',\n",
        "    'VBN': 'Verb (Past Participle)',\n",
        "    'VBP': 'Verb (Present)',\n",
        "    'VBZ': 'Verb (3rd Person Present)',\n",
        "    'JJ': 'Adjective',\n",
        "    'JJR': 'Adjective (Comparative)',\n",
        "    'JJS': 'Adjective (Superlative)',\n",
        "    'RB': 'Adverb',\n",
        "    'RBR': 'Adverb (Comparative)',\n",
        "    'RBS': 'Adverb (Superlative)',\n",
        "    'PRP': 'Pronoun',\n",
        "    'PRP$': 'Pronoun (Possessive)',\n",
        "    'WP': 'Wh-Pronoun',\n",
        "    'WP$': 'Wh-Possessive',\n",
        "    'WRB': 'Wh-Adverb',\n",
        "    'IN': 'Preposition',\n",
        "    'CC': 'Conjunction',\n",
        "    'DT': 'Determiner',\n",
        "    'UH': 'Interjection',\n",
        "    'CD': 'Cardinal Number',\n",
        "    'FW': 'Foreign Word',\n",
        "    'MD': 'Modal',\n",
        "}\n",
        "\n",
        "# Apply POS tagging\n",
        "def custom_pos_tagging(tokens):\n",
        "    standard_pos_tags = nltk.pos_tag(tokens)  # POS tagging using NLTK\n",
        "    custom_tags = [{ \"word\": word, \"pos\": POS_TAG_MAP_BANGLA.get(tag, 'Other') } for word, tag in standard_pos_tags]\n",
        "    return custom_tags\n",
        "\n",
        "# Apply POS tagging to the tokens\n",
        "custom_pos_tags = custom_pos_tagging(tokens)\n",
        "\n",
        "# Save output to JSON file\n",
        "def save_json(data, file_path):\n",
        "    with open(file_path, 'w', encoding='utf-8') as f:\n",
        "        json.dump(data, f, ensure_ascii=False, indent=4)\n",
        "\n",
        "# Save the JSON output\n",
        "save_json(custom_pos_tags, output_json_path)\n",
        "\n",
        "print(\"\\n✅ POS tagging completed successfully! Data saved in 'pos_tagging.json'.\")\n"
      ],
      "metadata": {
        "trusted": true,
        "execution": {
          "iopub.status.busy": "2025-03-02T05:12:41.712187Z",
          "iopub.execute_input": "2025-03-02T05:12:41.712510Z",
          "iopub.status.idle": "2025-03-02T05:12:41.739521Z",
          "shell.execute_reply.started": "2025-03-02T05:12:41.712487Z",
          "shell.execute_reply": "2025-03-02T05:12:41.738628Z"
        },
        "id": "nmqNj8Cz2h9J",
        "outputId": "aa1da8f8-2fc5-46c1-ce47-8c0b9ebda7ff"
      },
      "outputs": [
        {
          "name": "stdout",
          "text": "[nltk_data] Downloading package punkt to /usr/share/nltk_data...\n[nltk_data]   Package punkt is already up-to-date!\n[nltk_data] Downloading package averaged_perceptron_tagger to\n[nltk_data]     /usr/share/nltk_data...\n[nltk_data]   Package averaged_perceptron_tagger is already up-to-\n[nltk_data]       date!\n\n✅ POS tagging completed successfully! Data saved in 'pos_tagging.json'.\n",
          "output_type": "stream"
        }
      ],
      "execution_count": null
    },
    {
      "cell_type": "code",
      "source": [
        "import re\n",
        "import nltk\n",
        "from nltk.tokenize import word_tokenize\n",
        "from nltk.corpus import stopwords\n",
        "\n",
        "# Download necessary NLTK resources\n",
        "nltk.download('punkt')\n",
        "nltk.download('averaged_perceptron_tagger')\n",
        "\n",
        "# File paths for input and output\n",
        "input_file_path = \"/kaggle/working/lemmatized_sentences_bangla.txt\"  # Corrected the string here\n",
        "output_file_path = \"pos_tagging.txt\"\n",
        "\n",
        "# Function to read the lemmatized words from the file\n",
        "def read_file(file_path):\n",
        "    with open(file_path, 'r', encoding='utf-8') as f:\n",
        "        return f.read()\n",
        "\n",
        "# Read input text\n",
        "input_text = read_file(input_file_path)\n",
        "\n",
        "# Tokenize the input text into words\n",
        "tokens = word_tokenize(input_text)\n",
        "\n",
        "# POS to Bengali Tag Mapping\n",
        "POS_TAG_MAP_BANGLA = {\n",
        "    'NN': 'বিশেষ্য',\n",
        "    'NNS': 'বহুবচন বিশেষ্য',\n",
        "    'NNP': 'নিজস্ব বিশেষ্য',\n",
        "    'NNPS': 'নিজস্ব বহুবচন বিশেষ্য',\n",
        "    'VB': 'ক্রিয়া',\n",
        "    'VBD': 'অতীত ক্রিয়া',\n",
        "    'VBG': 'গেরুন্ড ক্রিয়া',\n",
        "    'VBN': 'অতীত সম্পূর্ণ ক্রিয়া',\n",
        "    'VBP': 'বর্তমান ক্রিয়া',\n",
        "    'VBZ': 'তৃতীয় পুরুষ বর্তমান ক্রিয়া',\n",
        "    'JJ': 'বিশেষণ',\n",
        "    'JJR': 'তুলনামূলক বিশেষণ',\n",
        "    'JJS': 'সর্বোচ্চ বিশেষণ',\n",
        "    'RB': 'ক্রিয়া বিশেষণ',\n",
        "    'RBR': 'তুলনামূলক ক্রিয়া বিশেষণ',\n",
        "    'RBS': 'সর্বোচ্চ ক্রিয়া বিশেষণ',\n",
        "    'PRP': 'সর্বনাম',\n",
        "    'PRP$': 'অধিকারসূচক সর্বনাম',\n",
        "    'WP': 'প্রশ্নসূচক সর্বনাম',\n",
        "    'WP$': 'প্রশ্নসূচক অধিকারসূচক',\n",
        "    'WRB': 'প্রশ্নসূচক ক্রিয়া বিশেষণ',\n",
        "    'IN': 'অব্যয়',\n",
        "    'CC': 'সংযোজক',\n",
        "    'DT': 'নির্দেশক',\n",
        "    'UH': 'আবেগসূচক শব্দ',\n",
        "    'CD': 'সংখ্যা',\n",
        "    'FW': 'বিদেশী শব্দ',\n",
        "    'MD': 'সহায়ক ক্রিয়া',\n",
        "}\n",
        "\n",
        "# Apply POS tagging and map to Bengali tags\n",
        "def custom_pos_tagging(tokens):\n",
        "    # Get standard POS tags from nltk\n",
        "    standard_pos_tags = nltk.pos_tag(tokens)\n",
        "    # Map standard POS tags to Bengali tags using the POS_TAG_MAP_BANGLA dictionary\n",
        "    custom_tags = [(word, POS_TAG_MAP_BANGLA.get(tag, 'অন্যান্য')) for word, tag in standard_pos_tags]\n",
        "    return custom_tags\n",
        "\n",
        "# Apply POS tagging to the tokenized words\n",
        "custom_pos_tags = custom_pos_tagging(tokens)\n",
        "\n",
        "# Function to save the POS-tagged output to a file\n",
        "def save_to_file(data, file_name):\n",
        "    with open(file_name, 'w', encoding='utf-8') as f:\n",
        "        f.write(\"[[\\n\")\n",
        "        formatted_output = []\n",
        "        for word, tag in data:\n",
        "            formatted_output.append(f\"('{word}', '{tag}')\")\n",
        "        f.write(\", \".join(formatted_output))\n",
        "        f.write(\"\\n]]\")\n",
        "\n",
        "# Save the POS-tagged output to the specified file\n",
        "save_to_file(custom_pos_tags, output_file_path)\n",
        "\n",
        "# Print success message\n",
        "print(\"\\nPOS tagging completed successfully! Results saved in 'pos_tagging.txt'.\")\n"
      ],
      "metadata": {
        "trusted": true,
        "execution": {
          "iopub.status.busy": "2025-03-02T05:12:46.725647Z",
          "iopub.execute_input": "2025-03-02T05:12:46.725978Z",
          "iopub.status.idle": "2025-03-02T05:12:46.750983Z",
          "shell.execute_reply.started": "2025-03-02T05:12:46.725942Z",
          "shell.execute_reply": "2025-03-02T05:12:46.750294Z"
        },
        "id": "1Zt9H6zj2h9K",
        "outputId": "d359d01b-7821-429a-93bd-64bc0773b2ae"
      },
      "outputs": [
        {
          "name": "stdout",
          "text": "[nltk_data] Downloading package punkt to /usr/share/nltk_data...\n[nltk_data]   Package punkt is already up-to-date!\n[nltk_data] Downloading package averaged_perceptron_tagger to\n[nltk_data]     /usr/share/nltk_data...\n[nltk_data]   Package averaged_perceptron_tagger is already up-to-\n[nltk_data]       date!\n\nPOS tagging completed successfully! Results saved in 'pos_tagging.txt'.\n",
          "output_type": "stream"
        }
      ],
      "execution_count": null
    },
    {
      "cell_type": "code",
      "source": [
        "import re\n",
        "import csv\n",
        "import nltk\n",
        "from nltk.tokenize import word_tokenize\n",
        "from nltk.corpus import stopwords\n",
        "\n",
        "# Ensure that necessary NLTK resources are downloaded\n",
        "nltk.download('punkt')\n",
        "nltk.download('averaged_perceptron_tagger')\n",
        "\n",
        "# File path\n",
        "input_file_path = \"/kaggle/working/lemmatized_sentences_bangla.txt\"\n",
        "output_csv_path = \"pos_tagging.csv\"\n",
        "\n",
        "# Read lemmatized words from a file\n",
        "def read_file(file_path):\n",
        "    with open(file_path, 'r', encoding='utf-8') as f:\n",
        "        return f.read()\n",
        "\n",
        "# Read the input text\n",
        "input_text = read_file(input_file_path)\n",
        "\n",
        "# Tokenize the words\n",
        "tokens = word_tokenize(input_text)\n",
        "\n",
        "# POS to Bengali Tag Mapping\n",
        "POS_TAG_MAP_BANGLA = {\n",
        "    'NN': 'Noun',\n",
        "    'NNS': 'Noun (Plural)',\n",
        "    'NNP': 'Proper Noun',\n",
        "    'NNPS': 'Proper Noun (Plural)',\n",
        "    'VB': 'Verb',\n",
        "    'VBD': 'Verb (Past)',\n",
        "    'VBG': 'Verb (Gerund)',\n",
        "    'VBN': 'Verb (Past Participle)',\n",
        "    'VBP': 'Verb (Present)',\n",
        "    'VBZ': 'Verb (3rd Person Present)',\n",
        "    'JJ': 'Adjective',\n",
        "    'JJR': 'Adjective (Comparative)',\n",
        "    'JJS': 'Adjective (Superlative)',\n",
        "    'RB': 'Adverb',\n",
        "    'RBR': 'Adverb (Comparative)',\n",
        "    'RBS': 'Adverb (Superlative)',\n",
        "    'PRP': 'Pronoun',\n",
        "    'PRP$': 'Pronoun (Possessive)',\n",
        "    'WP': 'Wh-Pronoun',\n",
        "    'WP$': 'Wh-Possessive',\n",
        "    'WRB': 'Wh-Adverb',\n",
        "    'IN': 'Preposition',\n",
        "    'CC': 'Conjunction',\n",
        "    'DT': 'Determiner',\n",
        "    'UH': 'Interjection',\n",
        "    'CD': 'Cardinal Number',\n",
        "    'FW': 'Foreign Word',\n",
        "    'MD': 'Modal',\n",
        "}\n",
        "\n",
        "# Apply POS tagging\n",
        "def custom_pos_tagging(tokens):\n",
        "    standard_pos_tags = nltk.pos_tag(tokens)  # POS tagging using NLTK\n",
        "    custom_tags = [(word, POS_TAG_MAP_BANGLA.get(tag, 'Other')) for word, tag in standard_pos_tags]\n",
        "    return custom_tags\n",
        "\n",
        "# Apply POS tagging to the tokens\n",
        "custom_pos_tags = custom_pos_tagging(tokens)\n",
        "\n",
        "# Save output to CSV file\n",
        "def save_to_csv(data, file_path):\n",
        "    with open(file_path, 'w', encoding='utf-8-sig', newline='') as f:\n",
        "        writer = csv.writer(f)\n",
        "        writer.writerow([\"Word\", \"POS Tag\"])  # Write header\n",
        "        writer.writerows(data)  # Write word-tag pairs\n",
        "\n",
        "# Save the CSV output\n",
        "save_to_csv(custom_pos_tags, output_csv_path)\n",
        "\n",
        "print(\"\\n✅ POS tagging completed successfully! Data saved in 'pos_tagging.csv'.\")\n"
      ],
      "metadata": {
        "trusted": true,
        "execution": {
          "iopub.status.busy": "2025-03-02T05:12:59.653860Z",
          "iopub.execute_input": "2025-03-02T05:12:59.654179Z",
          "iopub.status.idle": "2025-03-02T05:12:59.680969Z",
          "shell.execute_reply.started": "2025-03-02T05:12:59.654152Z",
          "shell.execute_reply": "2025-03-02T05:12:59.680091Z"
        },
        "id": "UoXOWtMQ2h9K",
        "outputId": "1c8ae455-761c-42c6-8604-c7a87e4448fc"
      },
      "outputs": [
        {
          "name": "stdout",
          "text": "[nltk_data] Downloading package punkt to /usr/share/nltk_data...\n[nltk_data]   Package punkt is already up-to-date!\n[nltk_data] Downloading package averaged_perceptron_tagger to\n[nltk_data]     /usr/share/nltk_data...\n[nltk_data]   Package averaged_perceptron_tagger is already up-to-\n[nltk_data]       date!\n\n✅ POS tagging completed successfully! Data saved in 'pos_tagging.csv'.\n",
          "output_type": "stream"
        }
      ],
      "execution_count": null
    },
    {
      "cell_type": "code",
      "source": [
        "!pip install sklearn-crfsuite"
      ],
      "metadata": {
        "trusted": true,
        "execution": {
          "iopub.status.busy": "2025-03-02T05:13:07.436503Z",
          "iopub.execute_input": "2025-03-02T05:13:07.436816Z",
          "iopub.status.idle": "2025-03-02T05:13:10.834110Z",
          "shell.execute_reply.started": "2025-03-02T05:13:07.436791Z",
          "shell.execute_reply": "2025-03-02T05:13:10.833267Z"
        },
        "id": "yy9nJzxx2h9K",
        "outputId": "6e2c96e5-97ec-4c34-ce46-f2716a24ba6d"
      },
      "outputs": [
        {
          "name": "stdout",
          "text": "Requirement already satisfied: sklearn-crfsuite in /usr/local/lib/python3.10/dist-packages (0.3.6)\nRequirement already satisfied: python-crfsuite>=0.8.3 in /usr/local/lib/python3.10/dist-packages (from sklearn-crfsuite) (0.9.11)\nRequirement already satisfied: six in /usr/local/lib/python3.10/dist-packages (from sklearn-crfsuite) (1.17.0)\nRequirement already satisfied: tabulate in /usr/local/lib/python3.10/dist-packages (from sklearn-crfsuite) (0.9.0)\nRequirement already satisfied: tqdm>=2.0 in /usr/local/lib/python3.10/dist-packages (from sklearn-crfsuite) (4.66.3)\n",
          "output_type": "stream"
        }
      ],
      "execution_count": null
    },
    {
      "cell_type": "code",
      "source": [
        "import pandas as pd\n",
        "import numpy as np\n",
        "import seaborn as sns\n",
        "import matplotlib.pyplot as plt\n",
        "import sklearn_crfsuite\n",
        "from sklearn.model_selection import train_test_split\n",
        "from sklearn.metrics import classification_report, confusion_matrix\n",
        "!pip install sklearn-crfsuite\n",
        "\n",
        "\n",
        "# Sample labeled Bengali sentence for POS tagging\n",
        "data = [\n",
        "    (\"বঙ্কিমচন্দ্র\", \"NOUN\"),\n",
        "    (\"চট্টোপাধ্যায়\", \"NOUN\"),\n",
        "    (\"২৬শে\", \"NUM\"),\n",
        "    (\"জুন\", \"NOUN\"),\n",
        "    (\"১৮৩৮\", \"NUM\"),\n",
        "    (\"সালে\", \"NOUN\"),\n",
        "    (\"পশ্চিমবঙ্গের\", \"ADJ\"),\n",
        "    (\"চব্বিশ\", \"NUM\"),\n",
        "    (\"পরগনা\", \"NOUN\"),\n",
        "    (\"জেলার\", \"ADJ\"),\n",
        "    (\"অন্তর্গত\", \"ADJ\"),\n",
        "    (\"কীঠালপাড়া\", \"NOUN\"),\n",
        "    (\"গ্রামে\", \"NOUN\"),\n",
        "    (\"জন্মগ্রহণ\", \"VERB\"),\n",
        "    (\"করেন\", \"VERB\")\n",
        "]\n",
        "\n",
        "df = pd.DataFrame(data, columns=[\"Word\", \"POS\"])\n",
        "\n",
        "def extract_features(sentence, index):\n",
        "    \"\"\"Extract contextual features for a given word in a sentence.\"\"\"\n",
        "    word = sentence[index][0]\n",
        "    prev_word = sentence[index-1][0] if index > 0 else \"<START>\"\n",
        "    next_word = sentence[index+1][0] if index < len(sentence) - 1 else \"<END>\"\n",
        "\n",
        "    features = {\n",
        "        'word': word,\n",
        "        'word_lower': word.lower(),\n",
        "        'word_suffix': word[-3:] if len(word) > 3 else word,\n",
        "        'prev_word': prev_word,\n",
        "        'next_word': next_word,\n",
        "        'word_length': len(word),\n",
        "        'is_digit': word.isdigit(),\n",
        "    }\n",
        "    return features\n",
        "\n",
        "# Prepare feature set and labels\n",
        "X = [extract_features(df.values, i) for i in range(len(df))]\n",
        "y = [pos for _, pos in df.values]\n",
        "\n",
        "# Train-test split (ensure at least 2 samples in each set)\n",
        "if len(X) > 2:\n",
        "    X_train, X_test, y_train, y_test = train_test_split(X, y, test_size=0.2, random_state=42)\n",
        "else:\n",
        "    X_train, X_test, y_train, y_test = X, X, y, y  # Fallback for tiny datasets\n",
        "\n",
        "# Train CRF model\n",
        "crf = sklearn_crfsuite.CRF(\n",
        "    algorithm='lbfgs',\n",
        "    c1=0.1, c2=0.1,\n",
        "    max_iterations=100,\n",
        "    all_possible_transitions=True\n",
        ")\n",
        "crf.fit([X_train], [y_train])  # Ensure training data is wrapped in a list\n",
        "\n",
        "# Predict POS tags\n",
        "y_pred = crf.predict([X_test])[0]  # Extract predictions from list\n",
        "\n",
        "# Generate classification report\n",
        "print(\"Classification Report:\")\n",
        "print(classification_report(y_test, y_pred))\n",
        "\n",
        "# Generate confusion matrix\n",
        "labels = sorted(set(y))  # Ensure consistent label ordering\n",
        "cm = confusion_matrix(y_test, y_pred, labels=labels)\n",
        "\n",
        "# Plot confusion matrix heatmap\n",
        "plt.figure(figsize=(8, 6))\n",
        "sns.heatmap(cm, annot=True, fmt='d', cmap=\"Blues\", xticklabels=labels, yticklabels=labels)\n",
        "plt.xlabel(\"Predicted\")\n",
        "plt.ylabel(\"Actual\")\n",
        "plt.title(\"POS Tagging Confusion Matrix\")\n",
        "plt.tight_layout()\n",
        "plt.show()\n",
        "\n",
        "# Test on a new sentence\n",
        "test_sentence = [\"বঙ্কিমচন্দ্র\", \"চট্টোপাধ্যায়\", \"জন্মগ্রহণ\", \"করেন\"]\n",
        "test_features = [extract_features([(word, '') for word in test_sentence], i) for i in range(len(test_sentence))]\n",
        "test_pred = crf.predict([test_features])[0]\n",
        "\n",
        "print(\"\\nPredicted POS Tags:\")\n",
        "for word, pos in zip(test_sentence, test_pred):\n",
        "    print(f\"{word}: {pos}\")\n"
      ],
      "metadata": {
        "trusted": true,
        "execution": {
          "iopub.status.busy": "2025-03-02T05:13:16.713165Z",
          "iopub.execute_input": "2025-03-02T05:13:16.713517Z",
          "iopub.status.idle": "2025-03-02T05:13:20.394402Z",
          "shell.execute_reply.started": "2025-03-02T05:13:16.713490Z",
          "shell.execute_reply": "2025-03-02T05:13:20.393452Z"
        },
        "id": "8AbAa45O2h9K",
        "outputId": "676eaccc-bae6-4066-fd2c-73e3a2a0e26f"
      },
      "outputs": [
        {
          "name": "stdout",
          "text": "Requirement already satisfied: sklearn-crfsuite in /usr/local/lib/python3.10/dist-packages (0.3.6)\nRequirement already satisfied: python-crfsuite>=0.8.3 in /usr/local/lib/python3.10/dist-packages (from sklearn-crfsuite) (0.9.11)\nRequirement already satisfied: six in /usr/local/lib/python3.10/dist-packages (from sklearn-crfsuite) (1.17.0)\nRequirement already satisfied: tabulate in /usr/local/lib/python3.10/dist-packages (from sklearn-crfsuite) (0.9.0)\nRequirement already satisfied: tqdm>=2.0 in /usr/local/lib/python3.10/dist-packages (from sklearn-crfsuite) (4.66.3)\nClassification Report:\n              precision    recall  f1-score   support\n\n         ADJ       0.00      0.00      0.00         1\n        NOUN       0.67      1.00      0.80         2\n\n    accuracy                           0.67         3\n   macro avg       0.33      0.50      0.40         3\nweighted avg       0.44      0.67      0.53         3\n\n",
          "output_type": "stream"
        },
        {
          "name": "stderr",
          "text": "/usr/local/lib/python3.10/dist-packages/sklearn/metrics/_classification.py:1344: UndefinedMetricWarning: Precision and F-score are ill-defined and being set to 0.0 in labels with no predicted samples. Use `zero_division` parameter to control this behavior.\n  as important as precision, while `beta = 0.5` does the opposite.\n/usr/local/lib/python3.10/dist-packages/sklearn/metrics/_classification.py:1344: UndefinedMetricWarning: Precision and F-score are ill-defined and being set to 0.0 in labels with no predicted samples. Use `zero_division` parameter to control this behavior.\n  as important as precision, while `beta = 0.5` does the opposite.\n/usr/local/lib/python3.10/dist-packages/sklearn/metrics/_classification.py:1344: UndefinedMetricWarning: Precision and F-score are ill-defined and being set to 0.0 in labels with no predicted samples. Use `zero_division` parameter to control this behavior.\n  as important as precision, while `beta = 0.5` does the opposite.\n",
          "output_type": "stream"
        },
        {
          "output_type": "display_data",
          "data": {
            "text/plain": "<Figure size 800x600 with 2 Axes>",
            "image/png": "[encoded data removed]"
          },
          "metadata": {}
        },
        {
          "name": "stdout",
          "text": "\nPredicted POS Tags:\nবঙ্কিমচন্দ্র: NOUN\nচট্টোপাধ্যায়: NOUN\nজন্মগ্রহণ: VERB\nকরেন: VERB\n",
          "output_type": "stream"
        }
      ],
      "execution_count": null
    },
    {
      "cell_type": "markdown",
      "source": [
        "Task 9: Named Entity Recognition (NER)"
      ],
      "metadata": {
        "id": "c9wzGpWe2h9L"
      }
    },
    {
      "cell_type": "code",
      "source": [
        "!pip install bnlp_toolkit"
      ],
      "metadata": {
        "trusted": true,
        "execution": {
          "iopub.status.busy": "2025-03-02T05:27:39.775830Z",
          "iopub.execute_input": "2025-03-02T05:27:39.776150Z",
          "iopub.status.idle": "2025-03-02T05:27:54.418613Z",
          "shell.execute_reply.started": "2025-03-02T05:27:39.776121Z",
          "shell.execute_reply": "2025-03-02T05:27:54.417739Z"
        },
        "id": "DSEGlUmD2h9L",
        "outputId": "afa4c6c9-4936-49c8-a513-8a817a12afd4"
      },
      "outputs": [
        {
          "name": "stdout",
          "text": "Collecting bnlp_toolkit\n  Downloading bnlp_toolkit-4.0.3-py3-none-any.whl.metadata (3.3 kB)\nRequirement already satisfied: sentencepiece==0.2.0 in /usr/local/lib/python3.10/dist-packages (from bnlp_toolkit) (0.2.0)\nCollecting gensim==4.3.2 (from bnlp_toolkit)\n  Downloading gensim-4.3.2-cp310-cp310-manylinux_2_17_x86_64.manylinux2014_x86_64.whl.metadata (8.4 kB)\nRequirement already satisfied: nltk in /usr/local/lib/python3.10/dist-packages (from bnlp_toolkit) (3.2.4)\nRequirement already satisfied: numpy in /usr/local/lib/python3.10/dist-packages (from bnlp_toolkit) (1.26.4)\nCollecting scipy==1.10.1 (from bnlp_toolkit)\n  Downloading scipy-1.10.1-cp310-cp310-manylinux_2_17_x86_64.manylinux2014_x86_64.whl.metadata (58 kB)\n\u001b[2K     \u001b[90m━━━━━━━━━━━━━━━━━━━━━━━━━━━━━━━━━━━━━━━━\u001b[0m \u001b[32m58.9/58.9 kB\u001b[0m \u001b[31m2.3 MB/s\u001b[0m eta \u001b[36m0:00:00\u001b[0m\n\u001b[?25hCollecting sklearn-crfsuite==0.3.6 (from bnlp_toolkit)\n  Downloading sklearn_crfsuite-0.3.6-py2.py3-none-any.whl.metadata (3.8 kB)\nCollecting tqdm==4.66.3 (from bnlp_toolkit)\n  Downloading tqdm-4.66.3-py3-none-any.whl.metadata (57 kB)\n\u001b[2K     \u001b[90m━━━━━━━━━━━━━━━━━━━━━━━━━━━━━━━━━━━━━━━━\u001b[0m \u001b[32m57.6/57.6 kB\u001b[0m \u001b[31m3.7 MB/s\u001b[0m eta \u001b[36m0:00:00\u001b[0m\n\u001b[?25hCollecting ftfy==6.2.0 (from bnlp_toolkit)\n  Downloading ftfy-6.2.0-py3-none-any.whl.metadata (7.3 kB)\nCollecting emoji==1.7.0 (from bnlp_toolkit)\n  Downloading emoji-1.7.0.tar.gz (175 kB)\n\u001b[2K     \u001b[90m━━━━━━━━━━━━━━━━━━━━━━━━━━━━━━━━━━━━━━━━\u001b[0m \u001b[32m175.4/175.4 kB\u001b[0m \u001b[31m9.0 MB/s\u001b[0m eta \u001b[36m0:00:00\u001b[0m\n\u001b[?25h  Preparing metadata (setup.py) ... \u001b[?25l\u001b[?25hdone\nRequirement already satisfied: requests in /usr/local/lib/python3.10/dist-packages (from bnlp_toolkit) (2.32.3)\nRequirement already satisfied: wcwidth<0.3.0,>=0.2.12 in /usr/local/lib/python3.10/dist-packages (from ftfy==6.2.0->bnlp_toolkit) (0.2.13)\nRequirement already satisfied: smart-open>=1.8.1 in /usr/local/lib/python3.10/dist-packages (from gensim==4.3.2->bnlp_toolkit) (7.0.5)\nCollecting python-crfsuite>=0.8.3 (from sklearn-crfsuite==0.3.6->bnlp_toolkit)\n  Downloading python_crfsuite-0.9.11-cp310-cp310-manylinux_2_17_x86_64.manylinux2014_x86_64.whl.metadata (4.3 kB)\nRequirement already satisfied: six in /usr/local/lib/python3.10/dist-packages (from sklearn-crfsuite==0.3.6->bnlp_toolkit) (1.17.0)\nRequirement already satisfied: tabulate in /usr/local/lib/python3.10/dist-packages (from sklearn-crfsuite==0.3.6->bnlp_toolkit) (0.9.0)\nRequirement already satisfied: mkl_fft in /usr/local/lib/python3.10/dist-packages (from numpy->bnlp_toolkit) (1.3.8)\nRequirement already satisfied: mkl_random in /usr/local/lib/python3.10/dist-packages (from numpy->bnlp_toolkit) (1.2.4)\nRequirement already satisfied: mkl_umath in /usr/local/lib/python3.10/dist-packages (from numpy->bnlp_toolkit) (0.1.1)\nRequirement already satisfied: mkl in /usr/local/lib/python3.10/dist-packages (from numpy->bnlp_toolkit) (2025.0.1)\nRequirement already satisfied: tbb4py in /usr/local/lib/python3.10/dist-packages (from numpy->bnlp_toolkit) (2022.0.0)\nRequirement already satisfied: mkl-service in /usr/local/lib/python3.10/dist-packages (from numpy->bnlp_toolkit) (2.4.1)\nRequirement already satisfied: charset-normalizer<4,>=2 in /usr/local/lib/python3.10/dist-packages (from requests->bnlp_toolkit) (3.4.1)\nRequirement already satisfied: idna<4,>=2.5 in /usr/local/lib/python3.10/dist-packages (from requests->bnlp_toolkit) (3.10)\nRequirement already satisfied: urllib3<3,>=1.21.1 in /usr/local/lib/python3.10/dist-packages (from requests->bnlp_toolkit) (2.3.0)\nRequirement already satisfied: certifi>=2017.4.17 in /usr/local/lib/python3.10/dist-packages (from requests->bnlp_toolkit) (2025.1.31)\nRequirement already satisfied: wrapt in /usr/local/lib/python3.10/dist-packages (from smart-open>=1.8.1->gensim==4.3.2->bnlp_toolkit) (1.17.0)\nRequirement already satisfied: intel-openmp>=2024 in /usr/local/lib/python3.10/dist-packages (from mkl->numpy->bnlp_toolkit) (2024.2.0)\nRequirement already satisfied: tbb==2022.* in /usr/local/lib/python3.10/dist-packages (from mkl->numpy->bnlp_toolkit) (2022.0.0)\nRequirement already satisfied: tcmlib==1.* in /usr/local/lib/python3.10/dist-packages (from tbb==2022.*->mkl->numpy->bnlp_toolkit) (1.2.0)\nRequirement already satisfied: intel-cmplr-lib-rt in /usr/local/lib/python3.10/dist-packages (from mkl_umath->numpy->bnlp_toolkit) (2024.2.0)\nRequirement already satisfied: intel-cmplr-lib-ur==2024.2.0 in /usr/local/lib/python3.10/dist-packages (from intel-openmp>=2024->mkl->numpy->bnlp_toolkit) (2024.2.0)\nDownloading bnlp_toolkit-4.0.3-py3-none-any.whl (22 kB)\nDownloading ftfy-6.2.0-py3-none-any.whl (54 kB)\n\u001b[2K   \u001b[90m━━━━━━━━━━━━━━━━━━━━━━━━━━━━━━━━━━━━━━━━\u001b[0m \u001b[32m54.4/54.4 kB\u001b[0m \u001b[31m3.3 MB/s\u001b[0m eta \u001b[36m0:00:00\u001b[0m\n\u001b[?25hDownloading gensim-4.3.2-cp310-cp310-manylinux_2_17_x86_64.manylinux2014_x86_64.whl (26.5 MB)\n\u001b[2K   \u001b[90m━━━━━━━━━━━━━━━━━━━━━━━━━━━━━━━━━━━━━━━━\u001b[0m \u001b[32m26.5/26.5 MB\u001b[0m \u001b[31m47.1 MB/s\u001b[0m eta \u001b[36m0:00:00\u001b[0m00:01\u001b[0m00:01\u001b[0mm\n\u001b[?25hDownloading scipy-1.10.1-cp310-cp310-manylinux_2_17_x86_64.manylinux2014_x86_64.whl (34.4 MB)\n\u001b[2K   \u001b[90m━━━━━━━━━━━━━━━━━━━━━━━━━━━━━━━━━━━━━━━━\u001b[0m \u001b[32m34.4/34.4 MB\u001b[0m \u001b[31m54.1 MB/s\u001b[0m eta \u001b[36m0:00:00\u001b[0m:00:01\u001b[0m00:01\u001b[0m\n\u001b[?25hDownloading sklearn_crfsuite-0.3.6-py2.py3-none-any.whl (12 kB)\nDownloading tqdm-4.66.3-py3-none-any.whl (78 kB)\n\u001b[2K   \u001b[90m━━━━━━━━━━━━━━━━━━━━━━━━━━━━━━━━━━━━━━━━\u001b[0m \u001b[32m78.4/78.4 kB\u001b[0m \u001b[31m5.7 MB/s\u001b[0m eta \u001b[36m0:00:00\u001b[0m\n\u001b[?25hDownloading python_crfsuite-0.9.11-cp310-cp310-manylinux_2_17_x86_64.manylinux2014_x86_64.whl (1.2 MB)\n\u001b[2K   \u001b[90m━━━━━━━━━━━━━━━━━━━━━━━━━━━━━━━━━━━━━━━━\u001b[0m \u001b[32m1.2/1.2 MB\u001b[0m \u001b[31m51.8 MB/s\u001b[0m eta \u001b[36m0:00:00\u001b[0m\n\u001b[?25hBuilding wheels for collected packages: emoji\n  Building wheel for emoji (setup.py) ... \u001b[?25l\u001b[?25hdone\n  Created wheel for emoji: filename=emoji-1.7.0-py3-none-any.whl size=171033 sha256=f0bdc4c6e6bf39ea906f2cd3ec8297a77f65e338366945da27342a393a51ef80\n  Stored in directory: /root/.cache/pip/wheels/31/8a/8c/315c9e5d7773f74b33d5ed33f075b49c6eaeb7cedbb86e2cf8\nSuccessfully built emoji\nInstalling collected packages: emoji, tqdm, python-crfsuite, ftfy, sklearn-crfsuite, scipy, gensim, bnlp_toolkit\n  Attempting uninstall: emoji\n    Found existing installation: emoji 2.14.1\n    Uninstalling emoji-2.14.1:\n      Successfully uninstalled emoji-2.14.1\n  Attempting uninstall: tqdm\n    Found existing installation: tqdm 4.67.1\n    Uninstalling tqdm-4.67.1:\n      Successfully uninstalled tqdm-4.67.1\n  Attempting uninstall: scipy\n    Found existing installation: scipy 1.13.1\n    Uninstalling scipy-1.13.1:\n      Successfully uninstalled scipy-1.13.1\n  Attempting uninstall: gensim\n    Found existing installation: gensim 4.3.3\n    Uninstalling gensim-4.3.3:\n      Successfully uninstalled gensim-4.3.3\n\u001b[31mERROR: pip's dependency resolver does not currently take into account all the packages that are installed. This behaviour is the source of the following dependency conflicts.\nkaggle-environments 1.16.11 requires scipy>=1.11.2, but you have scipy 1.10.1 which is incompatible.\nmlxtend 0.23.3 requires scikit-learn>=1.3.1, but you have scikit-learn 1.2.2 which is incompatible.\nplotnine 0.14.4 requires matplotlib>=3.8.0, but you have matplotlib 3.7.5 which is incompatible.\nscikit-image 0.25.0 requires scipy>=1.11.2, but you have scipy 1.10.1 which is incompatible.\u001b[0m\u001b[31m\n\u001b[0mSuccessfully installed bnlp_toolkit-4.0.3 emoji-1.7.0 ftfy-6.2.0 gensim-4.3.2 python-crfsuite-0.9.11 scipy-1.10.1 sklearn-crfsuite-0.3.6 tqdm-4.66.3\n",
          "output_type": "stream"
        }
      ],
      "execution_count": null
    },
    {
      "cell_type": "code",
      "source": [
        "pip install -U bnlp_toolkit"
      ],
      "metadata": {
        "trusted": true,
        "execution": {
          "iopub.status.busy": "2025-03-02T05:28:43.335591Z",
          "iopub.execute_input": "2025-03-02T05:28:43.335974Z",
          "iopub.status.idle": "2025-03-02T05:28:46.714900Z",
          "shell.execute_reply.started": "2025-03-02T05:28:43.335935Z",
          "shell.execute_reply": "2025-03-02T05:28:46.713810Z"
        },
        "id": "PtnjHXqT2h9L",
        "outputId": "85bfd7ee-60ed-45e9-9dc7-0675ecd2690c"
      },
      "outputs": [
        {
          "name": "stdout",
          "text": "Requirement already satisfied: bnlp_toolkit in /usr/local/lib/python3.10/dist-packages (4.0.3)\nRequirement already satisfied: sentencepiece==0.2.0 in /usr/local/lib/python3.10/dist-packages (from bnlp_toolkit) (0.2.0)\nRequirement already satisfied: gensim==4.3.2 in /usr/local/lib/python3.10/dist-packages (from bnlp_toolkit) (4.3.2)\nRequirement already satisfied: nltk in /usr/local/lib/python3.10/dist-packages (from bnlp_toolkit) (3.2.4)\nRequirement already satisfied: numpy in /usr/local/lib/python3.10/dist-packages (from bnlp_toolkit) (1.26.4)\nRequirement already satisfied: scipy==1.10.1 in /usr/local/lib/python3.10/dist-packages (from bnlp_toolkit) (1.10.1)\nRequirement already satisfied: sklearn-crfsuite==0.3.6 in /usr/local/lib/python3.10/dist-packages (from bnlp_toolkit) (0.3.6)\nRequirement already satisfied: tqdm==4.66.3 in /usr/local/lib/python3.10/dist-packages (from bnlp_toolkit) (4.66.3)\nRequirement already satisfied: ftfy==6.2.0 in /usr/local/lib/python3.10/dist-packages (from bnlp_toolkit) (6.2.0)\nRequirement already satisfied: emoji==1.7.0 in /usr/local/lib/python3.10/dist-packages (from bnlp_toolkit) (1.7.0)\nRequirement already satisfied: requests in /usr/local/lib/python3.10/dist-packages (from bnlp_toolkit) (2.32.3)\nRequirement already satisfied: wcwidth<0.3.0,>=0.2.12 in /usr/local/lib/python3.10/dist-packages (from ftfy==6.2.0->bnlp_toolkit) (0.2.13)\nRequirement already satisfied: smart-open>=1.8.1 in /usr/local/lib/python3.10/dist-packages (from gensim==4.3.2->bnlp_toolkit) (7.0.5)\nRequirement already satisfied: python-crfsuite>=0.8.3 in /usr/local/lib/python3.10/dist-packages (from sklearn-crfsuite==0.3.6->bnlp_toolkit) (0.9.11)\nRequirement already satisfied: six in /usr/local/lib/python3.10/dist-packages (from sklearn-crfsuite==0.3.6->bnlp_toolkit) (1.17.0)\nRequirement already satisfied: tabulate in /usr/local/lib/python3.10/dist-packages (from sklearn-crfsuite==0.3.6->bnlp_toolkit) (0.9.0)\nRequirement already satisfied: mkl_fft in /usr/local/lib/python3.10/dist-packages (from numpy->bnlp_toolkit) (1.3.8)\nRequirement already satisfied: mkl_random in /usr/local/lib/python3.10/dist-packages (from numpy->bnlp_toolkit) (1.2.4)\nRequirement already satisfied: mkl_umath in /usr/local/lib/python3.10/dist-packages (from numpy->bnlp_toolkit) (0.1.1)\nRequirement already satisfied: mkl in /usr/local/lib/python3.10/dist-packages (from numpy->bnlp_toolkit) (2025.0.1)\nRequirement already satisfied: tbb4py in /usr/local/lib/python3.10/dist-packages (from numpy->bnlp_toolkit) (2022.0.0)\nRequirement already satisfied: mkl-service in /usr/local/lib/python3.10/dist-packages (from numpy->bnlp_toolkit) (2.4.1)\nRequirement already satisfied: charset-normalizer<4,>=2 in /usr/local/lib/python3.10/dist-packages (from requests->bnlp_toolkit) (3.4.1)\nRequirement already satisfied: idna<4,>=2.5 in /usr/local/lib/python3.10/dist-packages (from requests->bnlp_toolkit) (3.10)\nRequirement already satisfied: urllib3<3,>=1.21.1 in /usr/local/lib/python3.10/dist-packages (from requests->bnlp_toolkit) (2.3.0)\nRequirement already satisfied: certifi>=2017.4.17 in /usr/local/lib/python3.10/dist-packages (from requests->bnlp_toolkit) (2025.1.31)\nRequirement already satisfied: wrapt in /usr/local/lib/python3.10/dist-packages (from smart-open>=1.8.1->gensim==4.3.2->bnlp_toolkit) (1.17.0)\nRequirement already satisfied: intel-openmp>=2024 in /usr/local/lib/python3.10/dist-packages (from mkl->numpy->bnlp_toolkit) (2024.2.0)\nRequirement already satisfied: tbb==2022.* in /usr/local/lib/python3.10/dist-packages (from mkl->numpy->bnlp_toolkit) (2022.0.0)\nRequirement already satisfied: tcmlib==1.* in /usr/local/lib/python3.10/dist-packages (from tbb==2022.*->mkl->numpy->bnlp_toolkit) (1.2.0)\nRequirement already satisfied: intel-cmplr-lib-rt in /usr/local/lib/python3.10/dist-packages (from mkl_umath->numpy->bnlp_toolkit) (2024.2.0)\nRequirement already satisfied: intel-cmplr-lib-ur==2024.2.0 in /usr/local/lib/python3.10/dist-packages (from intel-openmp>=2024->mkl->numpy->bnlp_toolkit) (2024.2.0)\nNote: you may need to restart the kernel to use updated packages.\n",
          "output_type": "stream"
        }
      ],
      "execution_count": null
    },
    {
      "cell_type": "code",
      "source": [
        "pip install bnlp_toolkit"
      ],
      "metadata": {
        "trusted": true,
        "execution": {
          "iopub.status.busy": "2025-03-02T05:28:58.895972Z",
          "iopub.execute_input": "2025-03-02T05:28:58.896323Z",
          "iopub.status.idle": "2025-03-02T05:29:02.189447Z",
          "shell.execute_reply.started": "2025-03-02T05:28:58.896291Z",
          "shell.execute_reply": "2025-03-02T05:29:02.188379Z"
        },
        "id": "-WmVo6lC2h9M",
        "outputId": "713aa289-fc62-4342-a600-3732ff0e910e"
      },
      "outputs": [
        {
          "name": "stdout",
          "text": "Requirement already satisfied: bnlp_toolkit in /usr/local/lib/python3.10/dist-packages (4.0.3)\nRequirement already satisfied: sentencepiece==0.2.0 in /usr/local/lib/python3.10/dist-packages (from bnlp_toolkit) (0.2.0)\nRequirement already satisfied: gensim==4.3.2 in /usr/local/lib/python3.10/dist-packages (from bnlp_toolkit) (4.3.2)\nRequirement already satisfied: nltk in /usr/local/lib/python3.10/dist-packages (from bnlp_toolkit) (3.2.4)\nRequirement already satisfied: numpy in /usr/local/lib/python3.10/dist-packages (from bnlp_toolkit) (1.26.4)\nRequirement already satisfied: scipy==1.10.1 in /usr/local/lib/python3.10/dist-packages (from bnlp_toolkit) (1.10.1)\nRequirement already satisfied: sklearn-crfsuite==0.3.6 in /usr/local/lib/python3.10/dist-packages (from bnlp_toolkit) (0.3.6)\nRequirement already satisfied: tqdm==4.66.3 in /usr/local/lib/python3.10/dist-packages (from bnlp_toolkit) (4.66.3)\nRequirement already satisfied: ftfy==6.2.0 in /usr/local/lib/python3.10/dist-packages (from bnlp_toolkit) (6.2.0)\nRequirement already satisfied: emoji==1.7.0 in /usr/local/lib/python3.10/dist-packages (from bnlp_toolkit) (1.7.0)\nRequirement already satisfied: requests in /usr/local/lib/python3.10/dist-packages (from bnlp_toolkit) (2.32.3)\nRequirement already satisfied: wcwidth<0.3.0,>=0.2.12 in /usr/local/lib/python3.10/dist-packages (from ftfy==6.2.0->bnlp_toolkit) (0.2.13)\nRequirement already satisfied: smart-open>=1.8.1 in /usr/local/lib/python3.10/dist-packages (from gensim==4.3.2->bnlp_toolkit) (7.0.5)\nRequirement already satisfied: python-crfsuite>=0.8.3 in /usr/local/lib/python3.10/dist-packages (from sklearn-crfsuite==0.3.6->bnlp_toolkit) (0.9.11)\nRequirement already satisfied: six in /usr/local/lib/python3.10/dist-packages (from sklearn-crfsuite==0.3.6->bnlp_toolkit) (1.17.0)\nRequirement already satisfied: tabulate in /usr/local/lib/python3.10/dist-packages (from sklearn-crfsuite==0.3.6->bnlp_toolkit) (0.9.0)\nRequirement already satisfied: mkl_fft in /usr/local/lib/python3.10/dist-packages (from numpy->bnlp_toolkit) (1.3.8)\nRequirement already satisfied: mkl_random in /usr/local/lib/python3.10/dist-packages (from numpy->bnlp_toolkit) (1.2.4)\nRequirement already satisfied: mkl_umath in /usr/local/lib/python3.10/dist-packages (from numpy->bnlp_toolkit) (0.1.1)\nRequirement already satisfied: mkl in /usr/local/lib/python3.10/dist-packages (from numpy->bnlp_toolkit) (2025.0.1)\nRequirement already satisfied: tbb4py in /usr/local/lib/python3.10/dist-packages (from numpy->bnlp_toolkit) (2022.0.0)\nRequirement already satisfied: mkl-service in /usr/local/lib/python3.10/dist-packages (from numpy->bnlp_toolkit) (2.4.1)\nRequirement already satisfied: charset-normalizer<4,>=2 in /usr/local/lib/python3.10/dist-packages (from requests->bnlp_toolkit) (3.4.1)\nRequirement already satisfied: idna<4,>=2.5 in /usr/local/lib/python3.10/dist-packages (from requests->bnlp_toolkit) (3.10)\nRequirement already satisfied: urllib3<3,>=1.21.1 in /usr/local/lib/python3.10/dist-packages (from requests->bnlp_toolkit) (2.3.0)\nRequirement already satisfied: certifi>=2017.4.17 in /usr/local/lib/python3.10/dist-packages (from requests->bnlp_toolkit) (2025.1.31)\nRequirement already satisfied: wrapt in /usr/local/lib/python3.10/dist-packages (from smart-open>=1.8.1->gensim==4.3.2->bnlp_toolkit) (1.17.0)\nRequirement already satisfied: intel-openmp>=2024 in /usr/local/lib/python3.10/dist-packages (from mkl->numpy->bnlp_toolkit) (2024.2.0)\nRequirement already satisfied: tbb==2022.* in /usr/local/lib/python3.10/dist-packages (from mkl->numpy->bnlp_toolkit) (2022.0.0)\nRequirement already satisfied: tcmlib==1.* in /usr/local/lib/python3.10/dist-packages (from tbb==2022.*->mkl->numpy->bnlp_toolkit) (1.2.0)\nRequirement already satisfied: intel-cmplr-lib-rt in /usr/local/lib/python3.10/dist-packages (from mkl_umath->numpy->bnlp_toolkit) (2024.2.0)\nRequirement already satisfied: intel-cmplr-lib-ur==2024.2.0 in /usr/local/lib/python3.10/dist-packages (from intel-openmp>=2024->mkl->numpy->bnlp_toolkit) (2024.2.0)\nNote: you may need to restart the kernel to use updated packages.\n",
          "output_type": "stream"
        }
      ],
      "execution_count": null
    },
    {
      "cell_type": "code",
      "source": [
        "pip install -U bnlp_toolkit"
      ],
      "metadata": {
        "trusted": true,
        "execution": {
          "iopub.status.busy": "2025-03-02T05:29:16.614630Z",
          "iopub.execute_input": "2025-03-02T05:29:16.615005Z",
          "iopub.status.idle": "2025-03-02T05:29:20.073656Z",
          "shell.execute_reply.started": "2025-03-02T05:29:16.614974Z",
          "shell.execute_reply": "2025-03-02T05:29:20.072757Z"
        },
        "id": "qYFVtEkb2h9M",
        "outputId": "dad47a10-ec5e-412a-c9b4-a8a31b545557"
      },
      "outputs": [
        {
          "name": "stdout",
          "text": "Requirement already satisfied: bnlp_toolkit in /usr/local/lib/python3.10/dist-packages (4.0.3)\nRequirement already satisfied: sentencepiece==0.2.0 in /usr/local/lib/python3.10/dist-packages (from bnlp_toolkit) (0.2.0)\nRequirement already satisfied: gensim==4.3.2 in /usr/local/lib/python3.10/dist-packages (from bnlp_toolkit) (4.3.2)\nRequirement already satisfied: nltk in /usr/local/lib/python3.10/dist-packages (from bnlp_toolkit) (3.2.4)\nRequirement already satisfied: numpy in /usr/local/lib/python3.10/dist-packages (from bnlp_toolkit) (1.26.4)\nRequirement already satisfied: scipy==1.10.1 in /usr/local/lib/python3.10/dist-packages (from bnlp_toolkit) (1.10.1)\nRequirement already satisfied: sklearn-crfsuite==0.3.6 in /usr/local/lib/python3.10/dist-packages (from bnlp_toolkit) (0.3.6)\nRequirement already satisfied: tqdm==4.66.3 in /usr/local/lib/python3.10/dist-packages (from bnlp_toolkit) (4.66.3)\nRequirement already satisfied: ftfy==6.2.0 in /usr/local/lib/python3.10/dist-packages (from bnlp_toolkit) (6.2.0)\nRequirement already satisfied: emoji==1.7.0 in /usr/local/lib/python3.10/dist-packages (from bnlp_toolkit) (1.7.0)\nRequirement already satisfied: requests in /usr/local/lib/python3.10/dist-packages (from bnlp_toolkit) (2.32.3)\nRequirement already satisfied: wcwidth<0.3.0,>=0.2.12 in /usr/local/lib/python3.10/dist-packages (from ftfy==6.2.0->bnlp_toolkit) (0.2.13)\nRequirement already satisfied: smart-open>=1.8.1 in /usr/local/lib/python3.10/dist-packages (from gensim==4.3.2->bnlp_toolkit) (7.0.5)\nRequirement already satisfied: python-crfsuite>=0.8.3 in /usr/local/lib/python3.10/dist-packages (from sklearn-crfsuite==0.3.6->bnlp_toolkit) (0.9.11)\nRequirement already satisfied: six in /usr/local/lib/python3.10/dist-packages (from sklearn-crfsuite==0.3.6->bnlp_toolkit) (1.17.0)\nRequirement already satisfied: tabulate in /usr/local/lib/python3.10/dist-packages (from sklearn-crfsuite==0.3.6->bnlp_toolkit) (0.9.0)\nRequirement already satisfied: mkl_fft in /usr/local/lib/python3.10/dist-packages (from numpy->bnlp_toolkit) (1.3.8)\nRequirement already satisfied: mkl_random in /usr/local/lib/python3.10/dist-packages (from numpy->bnlp_toolkit) (1.2.4)\nRequirement already satisfied: mkl_umath in /usr/local/lib/python3.10/dist-packages (from numpy->bnlp_toolkit) (0.1.1)\nRequirement already satisfied: mkl in /usr/local/lib/python3.10/dist-packages (from numpy->bnlp_toolkit) (2025.0.1)\nRequirement already satisfied: tbb4py in /usr/local/lib/python3.10/dist-packages (from numpy->bnlp_toolkit) (2022.0.0)\nRequirement already satisfied: mkl-service in /usr/local/lib/python3.10/dist-packages (from numpy->bnlp_toolkit) (2.4.1)\nRequirement already satisfied: charset-normalizer<4,>=2 in /usr/local/lib/python3.10/dist-packages (from requests->bnlp_toolkit) (3.4.1)\nRequirement already satisfied: idna<4,>=2.5 in /usr/local/lib/python3.10/dist-packages (from requests->bnlp_toolkit) (3.10)\nRequirement already satisfied: urllib3<3,>=1.21.1 in /usr/local/lib/python3.10/dist-packages (from requests->bnlp_toolkit) (2.3.0)\nRequirement already satisfied: certifi>=2017.4.17 in /usr/local/lib/python3.10/dist-packages (from requests->bnlp_toolkit) (2025.1.31)\nRequirement already satisfied: wrapt in /usr/local/lib/python3.10/dist-packages (from smart-open>=1.8.1->gensim==4.3.2->bnlp_toolkit) (1.17.0)\nRequirement already satisfied: intel-openmp>=2024 in /usr/local/lib/python3.10/dist-packages (from mkl->numpy->bnlp_toolkit) (2024.2.0)\nRequirement already satisfied: tbb==2022.* in /usr/local/lib/python3.10/dist-packages (from mkl->numpy->bnlp_toolkit) (2022.0.0)\nRequirement already satisfied: tcmlib==1.* in /usr/local/lib/python3.10/dist-packages (from tbb==2022.*->mkl->numpy->bnlp_toolkit) (1.2.0)\nRequirement already satisfied: intel-cmplr-lib-rt in /usr/local/lib/python3.10/dist-packages (from mkl_umath->numpy->bnlp_toolkit) (2024.2.0)\nRequirement already satisfied: intel-cmplr-lib-ur==2024.2.0 in /usr/local/lib/python3.10/dist-packages (from intel-openmp>=2024->mkl->numpy->bnlp_toolkit) (2024.2.0)\nNote: you may need to restart the kernel to use updated packages.\n",
          "output_type": "stream"
        }
      ],
      "execution_count": null
    },
    {
      "cell_type": "code",
      "source": [
        "!pip uninstall bnlp\n",
        "!pip install bnlp"
      ],
      "metadata": {
        "trusted": true,
        "execution": {
          "iopub.status.busy": "2025-03-02T05:29:36.136350Z",
          "iopub.execute_input": "2025-03-02T05:29:36.136765Z",
          "iopub.status.idle": "2025-03-02T05:29:42.175645Z",
          "shell.execute_reply.started": "2025-03-02T05:29:36.136733Z",
          "shell.execute_reply": "2025-03-02T05:29:42.174760Z"
        },
        "id": "SEn1PblN2h9M",
        "outputId": "b9f6c5d0-6899-453b-9d85-53f6f16577e9"
      },
      "outputs": [
        {
          "name": "stdout",
          "text": "\u001b[33mWARNING: Skipping bnlp as it is not installed.\u001b[0m\u001b[33m\n\u001b[0mCollecting bnlp\n  Downloading bnlp-0.8.tar.gz (25 kB)\n  Preparing metadata (setup.py) ... \u001b[?25l\u001b[?25hdone\nBuilding wheels for collected packages: bnlp\n  Building wheel for bnlp (setup.py) ... \u001b[?25l\u001b[?25hdone\n  Created wheel for bnlp: filename=bnlp-0.8-py3-none-any.whl size=32802 sha256=a3a7cf9809225034d928899408677abe2ceb5ec1b4340d4b28fb3640c2658e9f\n  Stored in directory: /root/.cache/pip/wheels/64/c7/7e/272284eb8c800fbb5306bdf7904ae9f99a64812fc615f471b2\nSuccessfully built bnlp\nInstalling collected packages: bnlp\nSuccessfully installed bnlp-0.8\n",
          "output_type": "stream"
        }
      ],
      "execution_count": null
    },
    {
      "cell_type": "code",
      "source": [
        "import nltk\n",
        "nltk.download('punkt')"
      ],
      "metadata": {
        "trusted": true,
        "execution": {
          "iopub.status.busy": "2025-03-02T05:29:50.143936Z",
          "iopub.execute_input": "2025-03-02T05:29:50.144237Z",
          "iopub.status.idle": "2025-03-02T05:29:51.383752Z",
          "shell.execute_reply.started": "2025-03-02T05:29:50.144212Z",
          "shell.execute_reply": "2025-03-02T05:29:51.382907Z"
        },
        "id": "C3grRmtD2h9N",
        "outputId": "12d1039c-4076-4a63-fd5b-acba7f61656f"
      },
      "outputs": [
        {
          "name": "stdout",
          "text": "[nltk_data] Downloading package punkt to /usr/share/nltk_data...\n[nltk_data]   Package punkt is already up-to-date!\n",
          "output_type": "stream"
        },
        {
          "execution_count": 10,
          "output_type": "execute_result",
          "data": {
            "text/plain": "True"
          },
          "metadata": {}
        }
      ],
      "execution_count": null
    },
    {
      "cell_type": "code",
      "source": [
        "pip install bnlp\n"
      ],
      "metadata": {
        "trusted": true,
        "execution": {
          "iopub.status.busy": "2025-03-02T05:34:04.984358Z",
          "iopub.execute_input": "2025-03-02T05:34:04.984715Z",
          "iopub.status.idle": "2025-03-02T05:34:09.275721Z",
          "shell.execute_reply.started": "2025-03-02T05:34:04.984688Z",
          "shell.execute_reply": "2025-03-02T05:34:09.274404Z"
        },
        "id": "29mizQIJ2h9N",
        "outputId": "63f42913-b029-455f-a37e-b7993074b879"
      },
      "outputs": [
        {
          "name": "stdout",
          "text": "Requirement already satisfied: bnlp in /usr/local/lib/python3.10/dist-packages (0.8)\nNote: you may need to restart the kernel to use updated packages.\n",
          "output_type": "stream"
        }
      ],
      "execution_count": null
    },
    {
      "cell_type": "code",
      "source": [
        "from bnlp import BengaliNER\n",
        "\n",
        "# Specify the path to your custom model\n",
        "own_model_path = \"own_directory/own_ner_model.pkl\"\n",
        "\n",
        "# Initialize the Bengali NER model with the custom model\n",
        "bn_ner = BengaliNER(model_path=own_model_path)\n",
        "\n",
        "# Sample text for named entity recognition\n",
        "text = \"সে ঢাকায় থাকে।\"  # Alternatively, you can pass tokenized text as a list: ['সে', 'ঢাকায়', 'থাকে', '।']\n",
        "\n",
        "# Get the named entity tags\n",
        "result = bn_ner.tag(text)\n",
        "\n",
        "# Print the result\n",
        "print(result)  # Expected output: [('সে', 'O'), ('ঢাকায়', 'S-LOC'), ('থাকে', 'O')]\n"
      ],
      "metadata": {
        "trusted": true,
        "execution": {
          "iopub.status.busy": "2025-03-02T05:37:19.142051Z",
          "iopub.execute_input": "2025-03-02T05:37:19.142401Z",
          "iopub.status.idle": "2025-03-02T05:37:19.152803Z",
          "shell.execute_reply.started": "2025-03-02T05:37:19.142375Z",
          "shell.execute_reply": "2025-03-02T05:37:19.151097Z"
        },
        "id": "5Qwh_hHT2h9N",
        "outputId": "b6212a17-9816-4497-ac23-904e8ce304b6"
      },
      "outputs": [
        {
          "traceback": [
            "Traceback \u001b[0;36m(most recent call last)\u001b[0m:\n",
            "  File \u001b[1;32m\"/usr/local/lib/python3.10/dist-packages/IPython/core/interactiveshell.py\"\u001b[0m, line \u001b[1;32m3553\u001b[0m, in \u001b[1;35mrun_code\u001b[0m\n    exec(code_obj, self.user_global_ns, self.user_ns)\n",
            "\u001b[0;36m  File \u001b[0;32m\"<ipython-input-15-1c9aa357d9db>\"\u001b[0;36m, line \u001b[0;32m1\u001b[0;36m, in \u001b[0;35m<cell line: 1>\u001b[0;36m\u001b[0m\n\u001b[0;31m    from bnlp import BengaliNER\u001b[0m\n",
            "\u001b[0;36m  File \u001b[0;32m\"/usr/local/lib/python3.10/dist-packages/bnlp/__init__.py\"\u001b[0;36m, line \u001b[0;32m53\u001b[0m\n\u001b[0;31m    print \"percentage gibberish is\", percentage\u001b[0m\n\u001b[0m    ^\u001b[0m\n\u001b[0;31mSyntaxError\u001b[0m\u001b[0;31m:\u001b[0m Missing parentheses in call to 'print'. Did you mean print(...)?\n"
          ],
          "ename": "SyntaxError",
          "evalue": "Missing parentheses in call to 'print'. Did you mean print(...)? (__init__.py, line 53)",
          "output_type": "error"
        }
      ],
      "execution_count": null
    },
    {
      "cell_type": "code",
      "source": [
        "print(\"percentage gibberish is\", percentage)\n"
      ],
      "metadata": {
        "trusted": true,
        "execution": {
          "iopub.status.busy": "2025-03-02T05:38:18.349309Z",
          "iopub.execute_input": "2025-03-02T05:38:18.349634Z",
          "iopub.status.idle": "2025-03-02T05:38:18.364541Z",
          "shell.execute_reply.started": "2025-03-02T05:38:18.349608Z",
          "shell.execute_reply": "2025-03-02T05:38:18.362737Z"
        },
        "id": "mDf8ozd32h9O",
        "outputId": "156ea381-f62d-469a-ddf6-f56c32ecfa89"
      },
      "outputs": [
        {
          "traceback": [
            "\u001b[0;31m---------------------------------------------------------------------------\u001b[0m",
            "\u001b[0;31mNameError\u001b[0m                                 Traceback (most recent call last)",
            "\u001b[0;32m<ipython-input-16-86517645105c>\u001b[0m in \u001b[0;36m<cell line: 1>\u001b[0;34m()\u001b[0m\n\u001b[0;32m----> 1\u001b[0;31m \u001b[0mprint\u001b[0m\u001b[0;34m(\u001b[0m\u001b[0;34m\"percentage gibberish is\"\u001b[0m\u001b[0;34m,\u001b[0m \u001b[0mpercentage\u001b[0m\u001b[0;34m)\u001b[0m\u001b[0;34m\u001b[0m\u001b[0;34m\u001b[0m\u001b[0m\n\u001b[0m",
            "\u001b[0;31mNameError\u001b[0m: name 'percentage' is not defined"
          ],
          "ename": "NameError",
          "evalue": "name 'percentage' is not defined",
          "output_type": "error"
        }
      ],
      "execution_count": null
    },
    {
      "cell_type": "code",
      "source": [
        "percentage = 50  # Define the variable with some value\n",
        "print(\"percentage gibberish is\", percentage)\n"
      ],
      "metadata": {
        "trusted": true,
        "execution": {
          "iopub.status.busy": "2025-03-02T05:38:49.697278Z",
          "iopub.execute_input": "2025-03-02T05:38:49.697642Z",
          "iopub.status.idle": "2025-03-02T05:38:49.703358Z",
          "shell.execute_reply.started": "2025-03-02T05:38:49.697614Z",
          "shell.execute_reply": "2025-03-02T05:38:49.702407Z"
        },
        "id": "wfI7jX1j2h9O",
        "outputId": "7df1f828-32fe-40c2-c99a-6107f1762b23"
      },
      "outputs": [
        {
          "name": "stdout",
          "text": "percentage gibberish is 50\n",
          "output_type": "stream"
        }
      ],
      "execution_count": null
    },
    {
      "cell_type": "code",
      "source": [
        "print \"percentage gibberish is\", percentage"
      ],
      "metadata": {
        "trusted": true,
        "execution": {
          "iopub.status.busy": "2025-03-02T05:40:18.946736Z",
          "iopub.execute_input": "2025-03-02T05:40:18.947075Z",
          "iopub.status.idle": "2025-03-02T05:40:18.953808Z",
          "shell.execute_reply.started": "2025-03-02T05:40:18.947050Z",
          "shell.execute_reply": "2025-03-02T05:40:18.952089Z"
        },
        "id": "DzMMY_1G2h9P",
        "outputId": "3a41c0c7-810d-444a-ae6d-74860ede68f3"
      },
      "outputs": [
        {
          "traceback": [
            "\u001b[0;36m  File \u001b[0;32m\"<ipython-input-18-bd75a4b1e343>\"\u001b[0;36m, line \u001b[0;32m1\u001b[0m\n\u001b[0;31m    print \"percentage gibberish is\", percentage\u001b[0m\n\u001b[0m    ^\u001b[0m\n\u001b[0;31mSyntaxError\u001b[0m\u001b[0;31m:\u001b[0m Missing parentheses in call to 'print'. Did you mean print(...)?\n"
          ],
          "ename": "SyntaxError",
          "evalue": "Missing parentheses in call to 'print'. Did you mean print(...)? (<ipython-input-18-bd75a4b1e343>, line 1)",
          "output_type": "error"
        }
      ],
      "execution_count": null
    },
    {
      "cell_type": "code",
      "source": [
        "pip install -U bnlp_toolkit"
      ],
      "metadata": {
        "trusted": true,
        "execution": {
          "iopub.status.busy": "2025-03-02T05:40:59.673538Z",
          "iopub.execute_input": "2025-03-02T05:40:59.673917Z",
          "iopub.status.idle": "2025-03-02T05:41:04.209066Z",
          "shell.execute_reply.started": "2025-03-02T05:40:59.673876Z",
          "shell.execute_reply": "2025-03-02T05:41:04.207743Z"
        },
        "id": "xuqFAjOV2h9P",
        "outputId": "b97fd361-9e74-44a9-ecfc-703295312f86"
      },
      "outputs": [
        {
          "name": "stdout",
          "text": "Requirement already satisfied: bnlp_toolkit in /usr/local/lib/python3.10/dist-packages (4.0.3)\nRequirement already satisfied: sentencepiece==0.2.0 in /usr/local/lib/python3.10/dist-packages (from bnlp_toolkit) (0.2.0)\nRequirement already satisfied: gensim==4.3.2 in /usr/local/lib/python3.10/dist-packages (from bnlp_toolkit) (4.3.2)\nRequirement already satisfied: nltk in /usr/local/lib/python3.10/dist-packages (from bnlp_toolkit) (3.2.4)\nRequirement already satisfied: numpy in /usr/local/lib/python3.10/dist-packages (from bnlp_toolkit) (1.26.4)\nRequirement already satisfied: scipy==1.10.1 in /usr/local/lib/python3.10/dist-packages (from bnlp_toolkit) (1.10.1)\nRequirement already satisfied: sklearn-crfsuite==0.3.6 in /usr/local/lib/python3.10/dist-packages (from bnlp_toolkit) (0.3.6)\nRequirement already satisfied: tqdm==4.66.3 in /usr/local/lib/python3.10/dist-packages (from bnlp_toolkit) (4.66.3)\nRequirement already satisfied: ftfy==6.2.0 in /usr/local/lib/python3.10/dist-packages (from bnlp_toolkit) (6.2.0)\nRequirement already satisfied: emoji==1.7.0 in /usr/local/lib/python3.10/dist-packages (from bnlp_toolkit) (1.7.0)\nRequirement already satisfied: requests in /usr/local/lib/python3.10/dist-packages (from bnlp_toolkit) (2.32.3)\nRequirement already satisfied: wcwidth<0.3.0,>=0.2.12 in /usr/local/lib/python3.10/dist-packages (from ftfy==6.2.0->bnlp_toolkit) (0.2.13)\nRequirement already satisfied: smart-open>=1.8.1 in /usr/local/lib/python3.10/dist-packages (from gensim==4.3.2->bnlp_toolkit) (7.0.5)\nRequirement already satisfied: python-crfsuite>=0.8.3 in /usr/local/lib/python3.10/dist-packages (from sklearn-crfsuite==0.3.6->bnlp_toolkit) (0.9.11)\nRequirement already satisfied: six in /usr/local/lib/python3.10/dist-packages (from sklearn-crfsuite==0.3.6->bnlp_toolkit) (1.17.0)\nRequirement already satisfied: tabulate in /usr/local/lib/python3.10/dist-packages (from sklearn-crfsuite==0.3.6->bnlp_toolkit) (0.9.0)\nRequirement already satisfied: mkl_fft in /usr/local/lib/python3.10/dist-packages (from numpy->bnlp_toolkit) (1.3.8)\nRequirement already satisfied: mkl_random in /usr/local/lib/python3.10/dist-packages (from numpy->bnlp_toolkit) (1.2.4)\nRequirement already satisfied: mkl_umath in /usr/local/lib/python3.10/dist-packages (from numpy->bnlp_toolkit) (0.1.1)\nRequirement already satisfied: mkl in /usr/local/lib/python3.10/dist-packages (from numpy->bnlp_toolkit) (2025.0.1)\nRequirement already satisfied: tbb4py in /usr/local/lib/python3.10/dist-packages (from numpy->bnlp_toolkit) (2022.0.0)\nRequirement already satisfied: mkl-service in /usr/local/lib/python3.10/dist-packages (from numpy->bnlp_toolkit) (2.4.1)\nRequirement already satisfied: charset-normalizer<4,>=2 in /usr/local/lib/python3.10/dist-packages (from requests->bnlp_toolkit) (3.4.1)\nRequirement already satisfied: idna<4,>=2.5 in /usr/local/lib/python3.10/dist-packages (from requests->bnlp_toolkit) (3.10)\nRequirement already satisfied: urllib3<3,>=1.21.1 in /usr/local/lib/python3.10/dist-packages (from requests->bnlp_toolkit) (2.3.0)\nRequirement already satisfied: certifi>=2017.4.17 in /usr/local/lib/python3.10/dist-packages (from requests->bnlp_toolkit) (2025.1.31)\nRequirement already satisfied: wrapt in /usr/local/lib/python3.10/dist-packages (from smart-open>=1.8.1->gensim==4.3.2->bnlp_toolkit) (1.17.0)\nRequirement already satisfied: intel-openmp>=2024 in /usr/local/lib/python3.10/dist-packages (from mkl->numpy->bnlp_toolkit) (2024.2.0)\nRequirement already satisfied: tbb==2022.* in /usr/local/lib/python3.10/dist-packages (from mkl->numpy->bnlp_toolkit) (2022.0.0)\nRequirement already satisfied: tcmlib==1.* in /usr/local/lib/python3.10/dist-packages (from tbb==2022.*->mkl->numpy->bnlp_toolkit) (1.2.0)\nRequirement already satisfied: intel-cmplr-lib-rt in /usr/local/lib/python3.10/dist-packages (from mkl_umath->numpy->bnlp_toolkit) (2024.2.0)\nRequirement already satisfied: intel-cmplr-lib-ur==2024.2.0 in /usr/local/lib/python3.10/dist-packages (from intel-openmp>=2024->mkl->numpy->bnlp_toolkit) (2024.2.0)\nNote: you may need to restart the kernel to use updated packages.\n",
          "output_type": "stream"
        }
      ],
      "execution_count": null
    },
    {
      "cell_type": "code",
      "source": [
        "from bnlp import BengaliNER\n",
        "\n",
        "bn_ner = BengaliNER()\n",
        "\n",
        "text = \"সে ঢাকায় থাকে।\" # or you can pass ['সে', 'ঢাকায়', 'থাকে', '।']\n",
        "result = bn_ner.tag(text)\n",
        "print(result)\n",
        "# [('সে', 'O'), ('ঢাকায়', 'S-LOC'), ('থাকে', 'O')]"
      ],
      "metadata": {
        "trusted": true,
        "execution": {
          "iopub.status.busy": "2025-03-02T05:41:56.571731Z",
          "iopub.execute_input": "2025-03-02T05:41:56.572087Z",
          "iopub.status.idle": "2025-03-02T05:42:21.579139Z",
          "shell.execute_reply.started": "2025-03-02T05:41:56.572062Z",
          "shell.execute_reply": "2025-03-02T05:42:21.577951Z"
        },
        "colab": {
          "referenced_widgets": [
            "c3a15cab488f4f42be6c807329a71ceb"
          ]
        },
        "id": "IUDCoKkd2h9P",
        "outputId": "b5db7e83-e7d1-45f9-b84a-d23887a4409e"
      },
      "outputs": [
        {
          "output_type": "display_data",
          "data": {
            "text/plain": "Downloading bn_ner.pkl:   0%|          | 0/26024594 [00:00<?, ?it/s]",
            "application/vnd.jupyter.widget-view+json": {
              "version_major": 2,
              "version_minor": 0,
              "model_id": "c3a15cab488f4f42be6c807329a71ceb"
            }
          },
          "metadata": {}
        },
        {
          "name": "stdout",
          "text": "[('সে', 'O'), ('ঢাকায়', 'S-LOC'), ('থাকে', 'O')]\n",
          "output_type": "stream"
        }
      ],
      "execution_count": null
    },
    {
      "cell_type": "code",
      "source": [
        "from bnlp import BengaliNER\n",
        "\n",
        "# Initialize the Bengali NER model\n",
        "bn_ner = BengaliNER()\n",
        "\n",
        "# Sample text for named entity recognition\n",
        "text = \"সে ঢাকায় থাকে।\"  # or you can pass ['সে', 'ঢাকায়', 'থাকে', '।']\n",
        "\n",
        "# Get the named entity tags\n",
        "result = bn_ner.tag(text)\n",
        "\n",
        "# Print the result\n",
        "print(result)\n",
        "# Expected output: [('সে', 'O'), ('ঢাকায়', 'S-LOC'), ('থাকে', 'O')]\n"
      ],
      "metadata": {
        "trusted": true,
        "execution": {
          "iopub.status.busy": "2025-03-02T05:43:59.783813Z",
          "iopub.execute_input": "2025-03-02T05:43:59.784216Z",
          "iopub.status.idle": "2025-03-02T05:43:59.881741Z",
          "shell.execute_reply.started": "2025-03-02T05:43:59.784187Z",
          "shell.execute_reply": "2025-03-02T05:43:59.880704Z"
        },
        "id": "fd-2ZZtW2h9Q",
        "outputId": "c6c336d3-ef93-4c49-ec8e-c44c074adb73"
      },
      "outputs": [
        {
          "name": "stdout",
          "text": "[('সে', 'O'), ('ঢাকায়', 'S-LOC'), ('থাকে', 'O')]\n",
          "output_type": "stream"
        }
      ],
      "execution_count": null
    },
    {
      "cell_type": "code",
      "source": [
        "from bnlp import BengaliNER\n",
        "import json\n",
        "\n",
        "# Initialize the Bengali NER model\n",
        "bn_ner = BengaliNER()\n",
        "\n",
        "# Define your JSON data\n",
        "data = {\n",
        "    \"page_1\": {\n",
        "        \"sentences\": [\n",
        "            [\n",
        "                \"ফুলের\", \"বিবাহ\", \"বঙ্কিমচন্দ্র\", \"চট্টোপাধ্যায়\", \"লেখকপরিচিতি\", \"বঙ্কিমচন্দ্র\",\n",
        "                \"চট্টোপাধ্যায়\", \"২৬শে\", \"জুন\", \"১৮৩৮\", \"সালে\", \"পশ্চিমবঙ্গের\", \"চব্বিশ\", \"পরগনা\",\n",
        "                \"জেলার\", \"অন্তর্গত\", \"কীঠালপাড়া\", \"গ্রামে\", \"জন্মগ্রহণ\", \"করেন।\", \"তিনি\", \"১৮৫৮\",\n",
        "                \"সালে\", \"কলকাতা\", \"বিশ্ববিদ্যালয়\", \"থেকে\", \"বিএপরীক্ষায়\", \"উত্তাঁর্ণ\", \"হন\", \"এবং\",\n",
        "                \"সে\", \"বছরই\", \"ডেপুটি\", \"ম্যাজিস্ট্রেট\", \"ও\", \"ডেপুটি\", \"কালেক্টর\", \"পদে\", \"চাকরিতে\",\n",
        "                \"নিযুক্ত\", \"হন।\", \"বঙ্কিমচন্দ্র\", \"তেত্রিশ\", \"বছর\", \"একই\", \"পদে\", \"চাকরি\", \"করে\",\n",
        "                \"১৮৯১\", \"সালে\", \"অবসর\", \"গ্রহণ\", \"করেন।\", \"তিনি\", \"পাঠ্যাবস্থায়ই\", \"সাহিত্যচর্চা\",\n",
        "                \"শুরু\", \"করেন।\", \"তার\", \"অসামান্য\", \"কৃতিত্\", \"প্রকাশ\", \"পেয়েছে\", \"পাশ্চাত্য\", \"ভাবাদর্শে\",\n",
        "                \"বাংলা\", \"উপন্যাস\", \"রচনার\", \"পথিকৃৎ\", \"হিসেবে।\", \"১৮৬৫\", \"সালে\", \"প্রকাশিত\", \"তাঁর\",\n",
        "                \"প্রথম\", \"বাংলা\", \"উপন্যাস\", \"দুর্েশনন্দিনী\", \"বাংলা\", \"কথাসাহিত্যে\", \"এক\", \"নবদিগন্ত\",\n",
        "                \"উন্মোচন\", \"করে।\", \"তার\", \"অন্যান্য\", \"উপন্যাস\", \"হলো\", \"কপালকৃওলা\", \"মৃণালিনী\",\n",
        "                \"বিষবৃক্ষ\", \"ইন্দিরা\", \"যুগলাঙগুরীয়\", \"রাধারানী\", \"চন্দ্রশেখর\", \"রজনী\", \"কৃষ্ণকান্তের\",\n",
        "                \"উইল\", \"রাজসিংহ\", \"আনন্দমঠ\", \"দেবী\", \"চৌধুরানী\", \"ও\", \"সীতারাম।\", \"প্রবন্ধ\", \"সাহিত্যেও\",\n",
        "                \"বঙ্কিমচন্দ্র\", \"কৃতিত্ব\", \"দেখিয়েছেন।\", \"কমলাকান্তের\", \"দণ্ড\", \"লোকরহস্য\", \"কৃষ্ণ\",\n",
        "                \"চরিত্র\", \"ইত্যাদি\", \"তার\", \"উল্লেখযোগ্য\", \"প্রবন্ধগ্রন্থ।\", \"বঙ্কিমচন্দ্র\", \"চট্টোপাধ্যায়\",\n",
        "                \"১৮৯৪\", \"সালের\", \"৮ই\", \"এপ্রিল\", \"মৃত্যুবরণ\", \"করেন\", \"বৈশাখ\", \"মাস\", \"বিবাহের\", \"মাস।\",\n",
        "                \"আমি\", \"১লা\", \"বৈশাখে\", \"নসী\", \"বাবুর\", \"ফুলবাগানে\", \"বসিয়া\", \"একটি\", \"বিবাহ\", \"দেখিলাম।\",\n",
        "                \"ভবিষ্যৎ\", \"বরকন্যাদিগের\", \"শিক্ষার্থ\", \"লিখিয়া\", \"রাখিতেছি।\", \"মন্িকা\", \"ফুলের\", \"বিবাহ।\",\n",
        "                \"বৈকালশৈশব\", \"অবসানপ্রায়\", \"কলিকাকন্যা\", \"বিবাহযোগ্যা\", \"হইয়া\", \"আসিল।\", \"কন্যার\", \"পিতা\",\n",
        "                \"বড়লোক\", \"নহে\", \"ক্ষুদ্র\", \"বৃক্ষ\", \"তাহাতে\", \"আবার\", \"অনেকগুলি\", \"কন্যাভারগ্রস্ত।\",\n",
        "                \"সম্বন্ধের\", \"অনেক\", \"কথা\", \"হইতেছিল\", \"কিন্ত\", \"কোনটা\", \"স্থির\", \"হয়\", \"নাই।\", \"উদ্যানের\",\n",
        "                \"রাজা\", \"স্থলপদ্ম\", \"নির্দোষ\", \"পাত্র\", \"বটে\", \"কিন্ত\", \"ঘর\", \"বড়\", \"উচু\", \"স্থলপদ্ম\",\n",
        "                \"অত\", \"দূর\", \"নামিল\", \"না।\", \"জবা\", \"এ\", \"বিবাহে\", \"অসম্মত\", \"ছিল\", \"না\", \"কিন্তু\", \"জবা\",\n",
        "                \"বড়\", \"রাগী\", \"কন্যাকতা\", \"পিছাইলেন।\", \"গন্ধরাজ\", \"পাত্র\", \"ভালো\", \"কিন্তু\", \"বড়\", \"দেমাগ\",\n",
        "                \"প্রায়\", \"তাহার\", \"বর\", \"পাওয়া\", \"যায়\", \"না।\", \"এইরূপ\", \"অব্যবস্থার\", \"সময়ে\", \"ভ্রমররাজ\",\n",
        "                \"ঘটক\", \"হইয়া\", \"মল্পিকা\", \"বৃক্ষসদনে\", \"উপস্থিত\", \"হইলেন।\", \"তিনি\", \"আসিয়া\", \"বলিলেন\",\n",
        "                \"শুণ্\", \"গুণ্\", \"গুণ্\", \"মেয়ে\", \"আছে\", \"পাতা\", \"নাড়িয়া\", \"সায়\", \"দিলেন\", \"“\", \"আছে\", \"ভ্রমর\",\n",
        "                \"পত্রাসন\", \"গ্রহণ\", \"করিয়া\", \"বলিলেন\", \"“\", \"গুণ্\", \"গুণ্\", \"গুণ্\", \"গুণ্\", \"গ্ণাগুণৃ\", \"মেয়ে\",\n",
        "                \"দেখিব।\", \"বৃক্ষ\", \"শাখা\", \"নত\", \"করিয়া\", \"মুদিতনয়না\", \"অবগ্ুপ্ঠনবতী\", \"কন্যা\", \"দেখাইলেন।\",\n",
        "                \"ভ্রমর\", \"একবার\", \"বৃক্ষকে\", \"প্রদক্ষিণ\", \"করিয়া\", \"আসিয়া\", \"বলিলেন\", \"গুণৃ\", \"গুণৃ\", \"গুণৃ\",\n",
        "                \"গুণ\", \"দেখিতে\", \"চাই।\", \"ঘোমটা\", \"খোল।\", \"”\", \"লজ্জাশীলা\", \"কন্যা\", \"কিছুতেই\", \"ঘোম্টা\",\n",
        "                \"খুলে\", \"না।\", \"বৃক্ষ\", \"বলিলেন\", \"“\", \"আমার\", \"মেয়েগুলি\", \"বড়\", \"লাজুক।\", \"তুমি\", \"একটু\",\n",
        "                \"অপেক্ষা\", \"কর\", \"আমি\", \"মুখ\", \"দেখাইতেছি।\", \"”\", \"২০১৮\"\n",
        "            ]\n",
        "        ]\n",
        "    }\n",
        "}\n",
        "\n",
        "# Perform NER on each sentence\n",
        "for sentence in data[\"page_1\"][\"sentences\"]:\n",
        "    # Join the sentence into a single string\n",
        "    sentence_text = \" \".join(sentence)\n",
        "\n",
        "    # Get the NER result\n",
        "    ner_result = bn_ner.tag(sentence_text)\n",
        "\n",
        "    # Print the NER result for each sentence\n",
        "    print(f\"Sentence: {sentence_text}\")\n",
        "    print(f\"NER Result: {ner_result}\")\n"
      ],
      "metadata": {
        "trusted": true,
        "execution": {
          "iopub.status.busy": "2025-03-02T05:49:28.358009Z",
          "iopub.execute_input": "2025-03-02T05:49:28.358361Z",
          "iopub.status.idle": "2025-03-02T05:49:28.449112Z",
          "shell.execute_reply.started": "2025-03-02T05:49:28.358337Z",
          "shell.execute_reply": "2025-03-02T05:49:28.447976Z"
        },
        "id": "AoCVYfSw2h9Q",
        "outputId": "3421dd31-583a-4475-cc85-f85910a352a2"
      },
      "outputs": [
        {
          "name": "stdout",
          "text": "Sentence: ফুলের বিবাহ বঙ্কিমচন্দ্র চট্টোপাধ্যায় লেখকপরিচিতি বঙ্কিমচন্দ্র চট্টোপাধ্যায় ২৬শে জুন ১৮৩৮ সালে পশ্চিমবঙ্গের চব্বিশ পরগনা জেলার অন্তর্গত কীঠালপাড়া গ্রামে জন্মগ্রহণ করেন। তিনি ১৮৫৮ সালে কলকাতা বিশ্ববিদ্যালয় থেকে বিএপরীক্ষায় উত্তাঁর্ণ হন এবং সে বছরই ডেপুটি ম্যাজিস্ট্রেট ও ডেপুটি কালেক্টর পদে চাকরিতে নিযুক্ত হন। বঙ্কিমচন্দ্র তেত্রিশ বছর একই পদে চাকরি করে ১৮৯১ সালে অবসর গ্রহণ করেন। তিনি পাঠ্যাবস্থায়ই সাহিত্যচর্চা শুরু করেন। তার অসামান্য কৃতিত্ প্রকাশ পেয়েছে পাশ্চাত্য ভাবাদর্শে বাংলা উপন্যাস রচনার পথিকৃৎ হিসেবে। ১৮৬৫ সালে প্রকাশিত তাঁর প্রথম বাংলা উপন্যাস দুর্েশনন্দিনী বাংলা কথাসাহিত্যে এক নবদিগন্ত উন্মোচন করে। তার অন্যান্য উপন্যাস হলো কপালকৃওলা মৃণালিনী বিষবৃক্ষ ইন্দিরা যুগলাঙগুরীয় রাধারানী চন্দ্রশেখর রজনী কৃষ্ণকান্তের উইল রাজসিংহ আনন্দমঠ দেবী চৌধুরানী ও সীতারাম। প্রবন্ধ সাহিত্যেও বঙ্কিমচন্দ্র কৃতিত্ব দেখিয়েছেন। কমলাকান্তের দণ্ড লোকরহস্য কৃষ্ণ চরিত্র ইত্যাদি তার উল্লেখযোগ্য প্রবন্ধগ্রন্থ। বঙ্কিমচন্দ্র চট্টোপাধ্যায় ১৮৯৪ সালের ৮ই এপ্রিল মৃত্যুবরণ করেন বৈশাখ মাস বিবাহের মাস। আমি ১লা বৈশাখে নসী বাবুর ফুলবাগানে বসিয়া একটি বিবাহ দেখিলাম। ভবিষ্যৎ বরকন্যাদিগের শিক্ষার্থ লিখিয়া রাখিতেছি। মন্িকা ফুলের বিবাহ। বৈকালশৈশব অবসানপ্রায় কলিকাকন্যা বিবাহযোগ্যা হইয়া আসিল। কন্যার পিতা বড়লোক নহে ক্ষুদ্র বৃক্ষ তাহাতে আবার অনেকগুলি কন্যাভারগ্রস্ত। সম্বন্ধের অনেক কথা হইতেছিল কিন্ত কোনটা স্থির হয় নাই। উদ্যানের রাজা স্থলপদ্ম নির্দোষ পাত্র বটে কিন্ত ঘর বড় উচু স্থলপদ্ম অত দূর নামিল না। জবা এ বিবাহে অসম্মত ছিল না কিন্তু জবা বড় রাগী কন্যাকতা পিছাইলেন। গন্ধরাজ পাত্র ভালো কিন্তু বড় দেমাগ প্রায় তাহার বর পাওয়া যায় না। এইরূপ অব্যবস্থার সময়ে ভ্রমররাজ ঘটক হইয়া মল্পিকা বৃক্ষসদনে উপস্থিত হইলেন। তিনি আসিয়া বলিলেন শুণ্ গুণ্ গুণ্ মেয়ে আছে পাতা নাড়িয়া সায় দিলেন “ আছে ভ্রমর পত্রাসন গ্রহণ করিয়া বলিলেন “ গুণ্ গুণ্ গুণ্ গুণ্ গ্ণাগুণৃ মেয়ে দেখিব। বৃক্ষ শাখা নত করিয়া মুদিতনয়না অবগ্ুপ্ঠনবতী কন্যা দেখাইলেন। ভ্রমর একবার বৃক্ষকে প্রদক্ষিণ করিয়া আসিয়া বলিলেন গুণৃ গুণৃ গুণৃ গুণ দেখিতে চাই। ঘোমটা খোল। ” লজ্জাশীলা কন্যা কিছুতেই ঘোম্টা খুলে না। বৃক্ষ বলিলেন “ আমার মেয়েগুলি বড় লাজুক। তুমি একটু অপেক্ষা কর আমি মুখ দেখাইতেছি। ” ২০১৮\nNER Result: [('ফুলের', 'O'), ('বিবাহ', 'O'), ('বঙ্কিমচন্দ্র', 'B-PER'), ('চট্টোপাধ্যায়', 'E-PER'), ('লেখকপরিচিতি', 'O'), ('বঙ্কিমচন্দ্র', 'B-PER'), ('চট্টোপাধ্যায়', 'E-PER'), ('২৬শে', 'O'), ('জুন', 'O'), ('১৮৩৮', 'O'), ('সালে', 'O'), ('পশ্চিমবঙ্গের', 'B-LOC'), ('চব্বিশ', 'I-LOC'), ('পরগনা', 'E-LOC'), ('জেলার', 'O'), ('অন্তর্গত', 'O'), ('কীঠালপাড়া', 'B-LOC'), ('গ্রামে', 'E-LOC'), ('জন্মগ্রহণ', 'O'), ('করেন', 'O'), ('তিনি', 'S-PER'), ('১৮৫৮', 'O'), ('সালে', 'O'), ('কলকাতা', 'B-ORG'), ('বিশ্ববিদ্যালয়', 'E-ORG'), ('থেকে', 'O'), ('বিএপরীক্ষায়', 'O'), ('উত্তাঁর্ণ', 'O'), ('হন', 'O'), ('এবং', 'O'), ('সে', 'O'), ('বছরই', 'O'), ('ডেপুটি', 'B-PER'), ('ম্যাজিস্ট্রেট', 'E-PER'), ('ও', 'O'), ('ডেপুটি', 'B-PER'), ('কালেক্টর', 'E-PER'), ('পদে', 'O'), ('চাকরিতে', 'O'), ('নিযুক্ত', 'O'), ('হন', 'O'), ('বঙ্কিমচন্দ্র', 'O'), ('তেত্রিশ', 'O'), ('বছর', 'O'), ('একই', 'O'), ('পদে', 'O'), ('চাকরি', 'O'), ('করে', 'O'), ('১৮৯১', 'O'), ('সালে', 'O'), ('অবসর', 'O'), ('গ্রহণ', 'O'), ('করেন', 'O'), ('তিনি', 'S-PER'), ('পাঠ্যাবস্থায়ই', 'O'), ('সাহিত্যচর্চা', 'O'), ('শুরু', 'O'), ('করেন', 'O'), ('তার', 'S-PER'), ('অসামান্য', 'O'), ('কৃতিত্', 'O'), ('প্রকাশ', 'O'), ('পেয়েছে', 'O'), ('পাশ্চাত্য', 'O'), ('ভাবাদর্শে', 'O'), ('বাংলা', 'O'), ('উপন্যাস', 'O'), ('রচনার', 'O'), ('পথিকৃৎ', 'O'), ('হিসেবে', 'O'), ('১৮৬৫', 'O'), ('সালে', 'O'), ('প্রকাশিত', 'O'), ('তাঁর', 'S-PER'), ('প্রথম', 'O'), ('বাংলা', 'O'), ('উপন্যাস', 'O'), ('দুর্েশনন্দিনী', 'O'), ('বাংলা', 'O'), ('কথাসাহিত্যে', 'O'), ('এক', 'O'), ('নবদিগন্ত', 'O'), ('উন্মোচন', 'O'), ('করে', 'O'), ('তার', 'O'), ('অন্যান্য', 'O'), ('উপন্যাস', 'O'), ('হলো', 'O'), ('কপালকৃওলা', 'O'), ('মৃণালিনী', 'O'), ('বিষবৃক্ষ', 'O'), ('ইন্দিরা', 'O'), ('যুগলাঙগুরীয়', 'O'), ('রাধারানী', 'S-PER'), ('চন্দ্রশেখর', 'B-PER'), ('রজনী', 'I-PER'), ('কৃষ্ণকান্তের', 'E-PER'), ('উইল', 'B-PER'), ('রাজসিংহ', 'E-PER'), ('আনন্দমঠ', 'B-PER'), ('দেবী', 'I-PER'), ('চৌধুরানী', 'E-PER'), ('ও', 'O'), ('সীতারাম', 'S-LOC'), ('প্রবন্ধ', 'O'), ('সাহিত্যেও', 'O'), ('বঙ্কিমচন্দ্র', 'O'), ('কৃতিত্ব', 'O'), ('দেখিয়েছেন', 'O'), ('কমলাকান্তের', 'O'), ('দণ্ড', 'O'), ('লোকরহস্য', 'O'), ('কৃষ্ণ', 'O'), ('চরিত্র', 'O'), ('ইত্যাদি', 'O'), ('তার', 'O'), ('উল্লেখযোগ্য', 'O'), ('প্রবন্ধগ্রন্থ', 'O'), ('বঙ্কিমচন্দ্র', 'B-PER'), ('চট্টোপাধ্যায়', 'E-PER'), ('১৮৯৪', 'O'), ('সালের', 'O'), ('৮ই', 'O'), ('এপ্রিল', 'O'), ('মৃত্যুবরণ', 'O'), ('করেন', 'O'), ('বৈশাখ', 'O'), ('মাস', 'O'), ('বিবাহের', 'O'), ('মাস', 'O'), ('আমি', 'S-PER'), ('১লা', 'O'), ('বৈশাখে', 'O'), ('নসী', 'O'), ('বাবুর', 'O'), ('ফুলবাগানে', 'O'), ('বসিয়া', 'O'), ('একটি', 'O'), ('বিবাহ', 'O'), ('দেখিলাম', 'O'), ('ভবিষ্যৎ', 'O'), ('বরকন্যাদিগের', 'O'), ('শিক্ষার্থ', 'O'), ('লিখিয়া', 'O'), ('রাখিতেছি', 'O'), ('মন্িকা', 'O'), ('ফুলের', 'O'), ('বিবাহ', 'O'), ('বৈকালশৈশব', 'O'), ('অবসানপ্রায়', 'O'), ('কলিকাকন্যা', 'O'), ('বিবাহযোগ্যা', 'O'), ('হইয়া', 'O'), ('আসিল', 'O'), ('কন্যার', 'O'), ('পিতা', 'S-PER'), ('বড়লোক', 'O'), ('নহে', 'O'), ('ক্ষুদ্র', 'O'), ('বৃক্ষ', 'O'), ('তাহাতে', 'O'), ('আবার', 'O'), ('অনেকগুলি', 'O'), ('কন্যাভারগ্রস্ত', 'O'), ('সম্বন্ধের', 'O'), ('অনেক', 'O'), ('কথা', 'O'), ('হইতেছিল', 'O'), ('কিন্ত', 'O'), ('কোনটা', 'O'), ('স্থির', 'O'), ('হয়', 'O'), ('নাই', 'O'), ('উদ্যানের', 'O'), ('রাজা', 'O'), ('স্থলপদ্ম', 'O'), ('নির্দোষ', 'O'), ('পাত্র', 'O'), ('বটে', 'O'), ('কিন্ত', 'O'), ('ঘর', 'O'), ('বড়', 'O'), ('উচু', 'O'), ('স্থলপদ্ম', 'O'), ('অত', 'O'), ('দূর', 'O'), ('নামিল', 'O'), ('না', 'O'), ('জবা', 'O'), ('এ', 'O'), ('বিবাহে', 'O'), ('অসম্মত', 'O'), ('ছিল', 'O'), ('না', 'O'), ('কিন্তু', 'O'), ('জবা', 'O'), ('বড়', 'O'), ('রাগী', 'O'), ('কন্যাকতা', 'O'), ('পিছাইলেন', 'O'), ('গন্ধরাজ', 'O'), ('পাত্র', 'O'), ('ভালো', 'O'), ('কিন্তু', 'O'), ('বড়', 'O'), ('দেমাগ', 'O'), ('প্রায়', 'O'), ('তাহার', 'O'), ('বর', 'O'), ('পাওয়া', 'O'), ('যায়', 'O'), ('না', 'O'), ('এইরূপ', 'O'), ('অব্যবস্থার', 'O'), ('সময়ে', 'O'), ('ভ্রমররাজ', 'O'), ('ঘটক', 'O'), ('হইয়া', 'O'), ('মল্পিকা', 'O'), ('বৃক্ষসদনে', 'O'), ('উপস্থিত', 'O'), ('হইলেন', 'O'), ('তিনি', 'S-PER'), ('আসিয়া', 'O'), ('বলিলেন', 'O'), ('শুণ্', 'O'), ('গুণ্', 'O'), ('গুণ্', 'O'), ('মেয়ে', 'O'), ('আছে', 'O'), ('পাতা', 'O'), ('নাড়িয়া', 'O'), ('সায়', 'O'), ('দিলেন', 'O'), ('“', 'O'), ('আছে', 'O'), ('ভ্রমর', 'O'), ('পত্রাসন', 'O'), ('গ্রহণ', 'O'), ('করিয়া', 'O'), ('বলিলেন', 'O'), ('“', 'O'), ('গুণ্', 'O'), ('গুণ্', 'O'), ('গুণ্', 'O'), ('গুণ্', 'O'), ('গ্ণাগুণৃ', 'O'), ('মেয়ে', 'O'), ('দেখিব', 'O'), ('বৃক্ষ', 'O'), ('শাখা', 'O'), ('নত', 'O'), ('করিয়া', 'O'), ('মুদিতনয়না', 'O'), ('অবগ্ুপ্ঠনবতী', 'O'), ('কন্যা', 'O'), ('দেখাইলেন', 'O'), ('ভ্রমর', 'O'), ('একবার', 'O'), ('বৃক্ষকে', 'O'), ('প্রদক্ষিণ', 'O'), ('করিয়া', 'O'), ('আসিয়া', 'O'), ('বলিলেন', 'O'), ('গুণৃ', 'O'), ('গুণৃ', 'O'), ('গুণৃ', 'O'), ('গুণ', 'O'), ('দেখিতে', 'O'), ('চাই', 'O'), ('ঘোমটা', 'O'), ('খোল', 'O'), ('”', 'O'), ('লজ্জাশীলা', 'O'), ('কন্যা', 'O'), ('কিছুতেই', 'O'), ('ঘোম্টা', 'O'), ('খুলে', 'O'), ('না', 'O'), ('বৃক্ষ', 'O'), ('বলিলেন', 'O'), ('“', 'O'), ('আমার', 'S-PER'), ('মেয়েগুলি', 'O'), ('বড়', 'O'), ('লাজুক', 'O'), ('তুমি', 'S-PER'), ('একটু', 'O'), ('অপেক্ষা', 'O'), ('কর', 'O'), ('আমি', 'S-PER'), ('মুখ', 'O'), ('দেখাইতেছি', 'O'), ('”', 'O'), ('২০১৮', 'O')]\n",
          "output_type": "stream"
        }
      ],
      "execution_count": null
    }
  ]
}